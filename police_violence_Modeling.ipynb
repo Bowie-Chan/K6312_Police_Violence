{
 "cells": [
  {
   "cell_type": "code",
   "execution_count": 1,
   "id": "03195a35",
   "metadata": {
    "ExecuteTime": {
     "end_time": "2022-11-30T17:45:31.334147Z",
     "start_time": "2022-11-30T17:45:30.972367Z"
    }
   },
   "outputs": [],
   "source": [
    "import pandas as pd\n",
    "import numpy as np\n",
    "\n",
    "file_name = \"D:/JupyterWorkspace/Group_project/Mapping Police Violence UTF-8.csv\"\n",
    "df_data = pd.read_csv(file_name, sep=',', index_col=None)"
   ]
  },
  {
   "cell_type": "code",
   "execution_count": 2,
   "id": "1eda5937",
   "metadata": {
    "ExecuteTime": {
     "end_time": "2022-11-30T17:45:31.349705Z",
     "start_time": "2022-11-30T17:45:31.334147Z"
    }
   },
   "outputs": [
    {
     "name": "stdout",
     "output_type": "stream",
     "text": [
      "The size of the dataset : (10539, 62)\n"
     ]
    }
   ],
   "source": [
    "print(\"The size of the dataset :\", df_data.shape)"
   ]
  },
  {
   "cell_type": "code",
   "execution_count": 3,
   "id": "d2dd5ba5",
   "metadata": {
    "ExecuteTime": {
     "end_time": "2022-11-30T17:45:31.523139Z",
     "start_time": "2022-11-30T17:45:31.351693Z"
    }
   },
   "outputs": [
    {
     "name": "stderr",
     "output_type": "stream",
     "text": [
      "C:\\Users\\Lalala\\AppData\\Local\\Temp\\ipykernel_23648\\514280671.py:1: FutureWarning: The frame.append method is deprecated and will be removed from pandas in a future version. Use pandas.concat instead.\n",
      "  df_data.head(3).append(df_data.tail(3))\n"
     ]
    },
    {
     "data": {
      "text/html": [
       "<div>\n",
       "<style scoped>\n",
       "    .dataframe tbody tr th:only-of-type {\n",
       "        vertical-align: middle;\n",
       "    }\n",
       "\n",
       "    .dataframe tbody tr th {\n",
       "        vertical-align: top;\n",
       "    }\n",
       "\n",
       "    .dataframe thead th {\n",
       "        text-align: right;\n",
       "    }\n",
       "</style>\n",
       "<table border=\"1\" class=\"dataframe\">\n",
       "  <thead>\n",
       "    <tr style=\"text-align: right;\">\n",
       "      <th></th>\n",
       "      <th>name</th>\n",
       "      <th>age</th>\n",
       "      <th>gender</th>\n",
       "      <th>race</th>\n",
       "      <th>victim_image</th>\n",
       "      <th>date</th>\n",
       "      <th>street_address</th>\n",
       "      <th>city</th>\n",
       "      <th>state</th>\n",
       "      <th>zip</th>\n",
       "      <th>...</th>\n",
       "      <th>congressperson_party</th>\n",
       "      <th>prosecutor_head</th>\n",
       "      <th>prosecutor_race</th>\n",
       "      <th>prosecutor_gender</th>\n",
       "      <th>prosecutor_party</th>\n",
       "      <th>prosecutor_term</th>\n",
       "      <th>prosecutor_in_court</th>\n",
       "      <th>prosecutor_special</th>\n",
       "      <th>independent_investigation</th>\n",
       "      <th>prosecutor_url</th>\n",
       "    </tr>\n",
       "  </thead>\n",
       "  <tbody>\n",
       "    <tr>\n",
       "      <th>0</th>\n",
       "      <td>William Whitfield</td>\n",
       "      <td>42.0</td>\n",
       "      <td>Male</td>\n",
       "      <td>White</td>\n",
       "      <td>NaN</td>\n",
       "      <td>7.24.2022</td>\n",
       "      <td>2000 block of Kay Rd</td>\n",
       "      <td>Benton</td>\n",
       "      <td>AR</td>\n",
       "      <td>72015.0</td>\n",
       "      <td>...</td>\n",
       "      <td>NaN</td>\n",
       "      <td>NaN</td>\n",
       "      <td>NaN</td>\n",
       "      <td>NaN</td>\n",
       "      <td>NaN</td>\n",
       "      <td>NaN</td>\n",
       "      <td>NaN</td>\n",
       "      <td>NaN</td>\n",
       "      <td>NaN</td>\n",
       "      <td>NaN</td>\n",
       "    </tr>\n",
       "    <tr>\n",
       "      <th>1</th>\n",
       "      <td>Matthew Neal Mitchell</td>\n",
       "      <td>22.0</td>\n",
       "      <td>Male</td>\n",
       "      <td>White</td>\n",
       "      <td>https://gunmemorial.org/2022/07/24/matthew-nea...</td>\n",
       "      <td>7.24.2022</td>\n",
       "      <td>5000 S Grove St</td>\n",
       "      <td>Englewood</td>\n",
       "      <td>CO</td>\n",
       "      <td>80110.0</td>\n",
       "      <td>...</td>\n",
       "      <td>NaN</td>\n",
       "      <td>NaN</td>\n",
       "      <td>NaN</td>\n",
       "      <td>NaN</td>\n",
       "      <td>NaN</td>\n",
       "      <td>NaN</td>\n",
       "      <td>NaN</td>\n",
       "      <td>NaN</td>\n",
       "      <td>NaN</td>\n",
       "      <td>NaN</td>\n",
       "    </tr>\n",
       "    <tr>\n",
       "      <th>2</th>\n",
       "      <td>Johnathan A. Worth</td>\n",
       "      <td>19.0</td>\n",
       "      <td>Male</td>\n",
       "      <td>White</td>\n",
       "      <td>NaN</td>\n",
       "      <td>7.24.2022</td>\n",
       "      <td>SE Clinton Street and SE 148th Ave</td>\n",
       "      <td>Portland</td>\n",
       "      <td>OR</td>\n",
       "      <td>97236.0</td>\n",
       "      <td>...</td>\n",
       "      <td>NaN</td>\n",
       "      <td>NaN</td>\n",
       "      <td>NaN</td>\n",
       "      <td>NaN</td>\n",
       "      <td>NaN</td>\n",
       "      <td>NaN</td>\n",
       "      <td>NaN</td>\n",
       "      <td>NaN</td>\n",
       "      <td>NaN</td>\n",
       "      <td>NaN</td>\n",
       "    </tr>\n",
       "    <tr>\n",
       "      <th>10536</th>\n",
       "      <td>Andrew L. Closson</td>\n",
       "      <td>21.0</td>\n",
       "      <td>Male</td>\n",
       "      <td>White</td>\n",
       "      <td>http://www.superiortelegram.com/sites/default/...</td>\n",
       "      <td>1.1.2013</td>\n",
       "      <td>U.S. Highway 53</td>\n",
       "      <td>Gordon</td>\n",
       "      <td>WI</td>\n",
       "      <td>54838.0</td>\n",
       "      <td>...</td>\n",
       "      <td>Republican</td>\n",
       "      <td>NaN</td>\n",
       "      <td>NaN</td>\n",
       "      <td>NaN</td>\n",
       "      <td>NaN</td>\n",
       "      <td>NaN</td>\n",
       "      <td>NaN</td>\n",
       "      <td>NaN</td>\n",
       "      <td>NaN</td>\n",
       "      <td>NaN</td>\n",
       "    </tr>\n",
       "    <tr>\n",
       "      <th>10537</th>\n",
       "      <td>Abel Gurrola</td>\n",
       "      <td>26.0</td>\n",
       "      <td>Male</td>\n",
       "      <td>Hispanic</td>\n",
       "      <td>http://www.bakersfieldnow.com/news/local/A-26-...</td>\n",
       "      <td>1.1.2013</td>\n",
       "      <td>720 Terrace Way</td>\n",
       "      <td>Bakersfield</td>\n",
       "      <td>CA</td>\n",
       "      <td>93304.0</td>\n",
       "      <td>...</td>\n",
       "      <td>Republican</td>\n",
       "      <td>NaN</td>\n",
       "      <td>NaN</td>\n",
       "      <td>NaN</td>\n",
       "      <td>NaN</td>\n",
       "      <td>NaN</td>\n",
       "      <td>NaN</td>\n",
       "      <td>NaN</td>\n",
       "      <td>NaN</td>\n",
       "      <td>NaN</td>\n",
       "    </tr>\n",
       "    <tr>\n",
       "      <th>10538</th>\n",
       "      <td>Andrew Layton</td>\n",
       "      <td>26.0</td>\n",
       "      <td>Male</td>\n",
       "      <td>White</td>\n",
       "      <td>http://bloximages.chicago2.vip.townnews.com/ma...</td>\n",
       "      <td>1.1.2013</td>\n",
       "      <td>410 S Riverfront Drive</td>\n",
       "      <td>Mankato</td>\n",
       "      <td>MN</td>\n",
       "      <td>56001.0</td>\n",
       "      <td>...</td>\n",
       "      <td>Republican</td>\n",
       "      <td>NaN</td>\n",
       "      <td>NaN</td>\n",
       "      <td>NaN</td>\n",
       "      <td>NaN</td>\n",
       "      <td>NaN</td>\n",
       "      <td>NaN</td>\n",
       "      <td>NaN</td>\n",
       "      <td>NaN</td>\n",
       "      <td>NaN</td>\n",
       "    </tr>\n",
       "  </tbody>\n",
       "</table>\n",
       "<p>6 rows × 62 columns</p>\n",
       "</div>"
      ],
      "text/plain": [
       "                        name   age gender      race  \\\n",
       "0          William Whitfield  42.0   Male     White   \n",
       "1      Matthew Neal Mitchell  22.0   Male     White   \n",
       "2         Johnathan A. Worth  19.0   Male     White   \n",
       "10536      Andrew L. Closson  21.0   Male     White   \n",
       "10537           Abel Gurrola  26.0   Male  Hispanic   \n",
       "10538          Andrew Layton  26.0   Male     White   \n",
       "\n",
       "                                            victim_image       date  \\\n",
       "0                                                    NaN  7.24.2022   \n",
       "1      https://gunmemorial.org/2022/07/24/matthew-nea...  7.24.2022   \n",
       "2                                                    NaN  7.24.2022   \n",
       "10536  http://www.superiortelegram.com/sites/default/...   1.1.2013   \n",
       "10537  http://www.bakersfieldnow.com/news/local/A-26-...   1.1.2013   \n",
       "10538  http://bloximages.chicago2.vip.townnews.com/ma...   1.1.2013   \n",
       "\n",
       "                           street_address         city state      zip  ...  \\\n",
       "0                    2000 block of Kay Rd       Benton    AR  72015.0  ...   \n",
       "1                         5000 S Grove St    Englewood    CO  80110.0  ...   \n",
       "2      SE Clinton Street and SE 148th Ave     Portland    OR  97236.0  ...   \n",
       "10536                     U.S. Highway 53       Gordon    WI  54838.0  ...   \n",
       "10537                     720 Terrace Way  Bakersfield    CA  93304.0  ...   \n",
       "10538              410 S Riverfront Drive      Mankato    MN  56001.0  ...   \n",
       "\n",
       "      congressperson_party prosecutor_head prosecutor_race prosecutor_gender  \\\n",
       "0                      NaN             NaN             NaN               NaN   \n",
       "1                      NaN             NaN             NaN               NaN   \n",
       "2                      NaN             NaN             NaN               NaN   \n",
       "10536           Republican             NaN             NaN               NaN   \n",
       "10537           Republican             NaN             NaN               NaN   \n",
       "10538           Republican             NaN             NaN               NaN   \n",
       "\n",
       "      prosecutor_party prosecutor_term prosecutor_in_court prosecutor_special  \\\n",
       "0                  NaN             NaN                 NaN                NaN   \n",
       "1                  NaN             NaN                 NaN                NaN   \n",
       "2                  NaN             NaN                 NaN                NaN   \n",
       "10536              NaN             NaN                 NaN                NaN   \n",
       "10537              NaN             NaN                 NaN                NaN   \n",
       "10538              NaN             NaN                 NaN                NaN   \n",
       "\n",
       "      independent_investigation prosecutor_url  \n",
       "0                           NaN            NaN  \n",
       "1                           NaN            NaN  \n",
       "2                           NaN            NaN  \n",
       "10536                       NaN            NaN  \n",
       "10537                       NaN            NaN  \n",
       "10538                       NaN            NaN  \n",
       "\n",
       "[6 rows x 62 columns]"
      ]
     },
     "execution_count": 3,
     "metadata": {},
     "output_type": "execute_result"
    }
   ],
   "source": [
    "df_data.head(3).append(df_data.tail(3))"
   ]
  },
  {
   "cell_type": "code",
   "execution_count": 4,
   "id": "33453ca5",
   "metadata": {
    "ExecuteTime": {
     "end_time": "2022-11-30T17:45:31.570970Z",
     "start_time": "2022-11-30T17:45:31.524126Z"
    }
   },
   "outputs": [
    {
     "name": "stdout",
     "output_type": "stream",
     "text": [
      "Data structure - Police Violence Map :\n",
      "<class 'pandas.core.frame.DataFrame'>\n",
      "RangeIndex: 10539 entries, 0 to 10538\n",
      "Data columns (total 62 columns):\n",
      " #   Column                             Non-Null Count  Dtype  \n",
      "---  ------                             --------------  -----  \n",
      " 0   name                               10539 non-null  object \n",
      " 1   age                                10127 non-null  float64\n",
      " 2   gender                             10536 non-null  object \n",
      " 3   race                               10452 non-null  object \n",
      " 4   victim_image                       5718 non-null   object \n",
      " 5   date                               10539 non-null  object \n",
      " 6   street_address                     10397 non-null  object \n",
      " 7   city                               10528 non-null  object \n",
      " 8   state                              10539 non-null  object \n",
      " 9   zip                                10489 non-null  float64\n",
      " 10  county                             10532 non-null  object \n",
      " 11  agency_responsible                 10510 non-null  object \n",
      " 12  ori                                9937 non-null   object \n",
      " 13  cause_of_death                     10529 non-null  object \n",
      " 14  circumstances                      10495 non-null  object \n",
      " 15  disposition_official               10392 non-null  object \n",
      " 16  officer_charged                    10037 non-null  object \n",
      " 17  news_urls                          10538 non-null  object \n",
      " 18  signs_of_mental_illness            10316 non-null  object \n",
      " 19  allegedly_armed                    10520 non-null  object \n",
      " 20  wapo_armed                         10252 non-null  object \n",
      " 21  wapo_threat_level                  8095 non-null   object \n",
      " 22  wapo_flee                          7138 non-null   object \n",
      " 23  wapo_body_camera                   6969 non-null   object \n",
      " 24  wapo_id                            6577 non-null   float64\n",
      " 25  off_duty_killing                   259 non-null    object \n",
      " 26  geography                          9904 non-null   object \n",
      " 27  mpv_id                             9927 non-null   float64\n",
      " 28  fe_id                              9711 non-null   float64\n",
      " 29  encounter_type                     6178 non-null   object \n",
      " 30  initial_reason                     6183 non-null   object \n",
      " 31  officer_names                      2075 non-null   object \n",
      " 32  officer_races                      518 non-null    object \n",
      " 33  officer_known_past_shootings       135 non-null    object \n",
      " 34  call_for_service                   4893 non-null   object \n",
      " 35  tract                              10180 non-null  float64\n",
      " 36  urban_rural_uspsai                 9396 non-null   object \n",
      " 37  urban_rural_nchs                   9502 non-null   object \n",
      " 38  hhincome_median_census_tract       7292 non-null   float64\n",
      " 39  latitude                           10524 non-null  float64\n",
      " 40  longitude                          10524 non-null  float64\n",
      " 41  pop_total_census_tract             7456 non-null   float64\n",
      " 42  pop_white_census_tract             7464 non-null   object \n",
      " 43  pop_black_census_tract             7464 non-null   object \n",
      " 44  pop_native_american_census_tract   7464 non-null   object \n",
      " 45  pop_asian_census_tract             7464 non-null   object \n",
      " 46  pop_pacific_islander_census_tract  7464 non-null   object \n",
      " 47  pop_other_multiple_census_tract    7461 non-null   object \n",
      " 48  pop_hispanic_census_tract          7464 non-null   object \n",
      " 49  congressional_district_113         9858 non-null   object \n",
      " 50  congressperson_lastname            9557 non-null   object \n",
      " 51  congressperson_firstname           9557 non-null   object \n",
      " 52  congressperson_party               9557 non-null   object \n",
      " 53  prosecutor_head                    180 non-null    object \n",
      " 54  prosecutor_race                    180 non-null    object \n",
      " 55  prosecutor_gender                  180 non-null    object \n",
      " 56  prosecutor_party                   57 non-null     object \n",
      " 57  prosecutor_term                    49 non-null     object \n",
      " 58  prosecutor_in_court                24 non-null     object \n",
      " 59  prosecutor_special                 164 non-null    object \n",
      " 60  independent_investigation          43 non-null     object \n",
      " 61  prosecutor_url                     129 non-null    object \n",
      "dtypes: float64(10), object(52)\n",
      "memory usage: 5.0+ MB\n"
     ]
    }
   ],
   "source": [
    "print(\"Data structure - Police Violence Map :\")\n",
    "df_data.info()"
   ]
  },
  {
   "cell_type": "code",
   "execution_count": 5,
   "id": "98383351",
   "metadata": {
    "ExecuteTime": {
     "end_time": "2022-11-30T17:45:31.601260Z",
     "start_time": "2022-11-30T17:45:31.571967Z"
    }
   },
   "outputs": [
    {
     "data": {
      "text/html": [
       "<div>\n",
       "<style scoped>\n",
       "    .dataframe tbody tr th:only-of-type {\n",
       "        vertical-align: middle;\n",
       "    }\n",
       "\n",
       "    .dataframe tbody tr th {\n",
       "        vertical-align: top;\n",
       "    }\n",
       "\n",
       "    .dataframe thead th {\n",
       "        text-align: right;\n",
       "    }\n",
       "</style>\n",
       "<table border=\"1\" class=\"dataframe\">\n",
       "  <thead>\n",
       "    <tr style=\"text-align: right;\">\n",
       "      <th></th>\n",
       "      <th>age</th>\n",
       "      <th>zip</th>\n",
       "      <th>wapo_id</th>\n",
       "      <th>mpv_id</th>\n",
       "      <th>fe_id</th>\n",
       "      <th>tract</th>\n",
       "      <th>hhincome_median_census_tract</th>\n",
       "      <th>latitude</th>\n",
       "      <th>longitude</th>\n",
       "      <th>pop_total_census_tract</th>\n",
       "    </tr>\n",
       "  </thead>\n",
       "  <tbody>\n",
       "    <tr>\n",
       "      <th>count</th>\n",
       "      <td>10127.000000</td>\n",
       "      <td>10489.000000</td>\n",
       "      <td>6577.000000</td>\n",
       "      <td>9927.000000</td>\n",
       "      <td>9711.000000</td>\n",
       "      <td>10180.000000</td>\n",
       "      <td>7292.00000</td>\n",
       "      <td>10524.000000</td>\n",
       "      <td>10524.000000</td>\n",
       "      <td>7.456000e+03</td>\n",
       "    </tr>\n",
       "    <tr>\n",
       "      <th>mean</th>\n",
       "      <td>36.870544</td>\n",
       "      <td>60276.470684</td>\n",
       "      <td>3682.874411</td>\n",
       "      <td>4991.056210</td>\n",
       "      <td>21371.238492</td>\n",
       "      <td>217304.627898</td>\n",
       "      <td>55360.71311</td>\n",
       "      <td>36.607177</td>\n",
       "      <td>-96.684570</td>\n",
       "      <td>2.183166e+03</td>\n",
       "    </tr>\n",
       "    <tr>\n",
       "      <th>std</th>\n",
       "      <td>13.074678</td>\n",
       "      <td>28162.196780</td>\n",
       "      <td>2116.223790</td>\n",
       "      <td>3152.503552</td>\n",
       "      <td>5961.385773</td>\n",
       "      <td>329837.578637</td>\n",
       "      <td>30081.64970</td>\n",
       "      <td>5.359651</td>\n",
       "      <td>16.556777</td>\n",
       "      <td>2.255227e+04</td>\n",
       "    </tr>\n",
       "    <tr>\n",
       "      <th>min</th>\n",
       "      <td>1.000000</td>\n",
       "      <td>1085.000000</td>\n",
       "      <td>3.000000</td>\n",
       "      <td>0.000000</td>\n",
       "      <td>116.000000</td>\n",
       "      <td>100.000000</td>\n",
       "      <td>0.00000</td>\n",
       "      <td>19.035956</td>\n",
       "      <td>-163.165830</td>\n",
       "      <td>6.000000e+00</td>\n",
       "    </tr>\n",
       "    <tr>\n",
       "      <th>25%</th>\n",
       "      <td>27.000000</td>\n",
       "      <td>33415.000000</td>\n",
       "      <td>1852.000000</td>\n",
       "      <td>2484.500000</td>\n",
       "      <td>15962.500000</td>\n",
       "      <td>5410.000000</td>\n",
       "      <td>35930.00000</td>\n",
       "      <td>33.446700</td>\n",
       "      <td>-112.026758</td>\n",
       "      <td>1.039750e+03</td>\n",
       "    </tr>\n",
       "    <tr>\n",
       "      <th>50%</th>\n",
       "      <td>35.000000</td>\n",
       "      <td>66030.000000</td>\n",
       "      <td>3653.000000</td>\n",
       "      <td>4966.000000</td>\n",
       "      <td>20876.000000</td>\n",
       "      <td>30301.000000</td>\n",
       "      <td>50551.00000</td>\n",
       "      <td>36.052519</td>\n",
       "      <td>-93.431076</td>\n",
       "      <td>1.521000e+03</td>\n",
       "    </tr>\n",
       "    <tr>\n",
       "      <th>75%</th>\n",
       "      <td>45.000000</td>\n",
       "      <td>85701.000000</td>\n",
       "      <td>5435.000000</td>\n",
       "      <td>7453.500000</td>\n",
       "      <td>26625.500000</td>\n",
       "      <td>313102.000000</td>\n",
       "      <td>69093.25000</td>\n",
       "      <td>40.019224</td>\n",
       "      <td>-82.862751</td>\n",
       "      <td>2.207000e+03</td>\n",
       "    </tr>\n",
       "    <tr>\n",
       "      <th>max</th>\n",
       "      <td>107.000000</td>\n",
       "      <td>330004.000000</td>\n",
       "      <td>7735.000000</td>\n",
       "      <td>97230.000000</td>\n",
       "      <td>31497.000000</td>\n",
       "      <td>989300.000000</td>\n",
       "      <td>250001.00000</td>\n",
       "      <td>71.301270</td>\n",
       "      <td>-67.260176</td>\n",
       "      <td>1.930983e+06</td>\n",
       "    </tr>\n",
       "  </tbody>\n",
       "</table>\n",
       "</div>"
      ],
      "text/plain": [
       "                age            zip      wapo_id        mpv_id         fe_id  \\\n",
       "count  10127.000000   10489.000000  6577.000000   9927.000000   9711.000000   \n",
       "mean      36.870544   60276.470684  3682.874411   4991.056210  21371.238492   \n",
       "std       13.074678   28162.196780  2116.223790   3152.503552   5961.385773   \n",
       "min        1.000000    1085.000000     3.000000      0.000000    116.000000   \n",
       "25%       27.000000   33415.000000  1852.000000   2484.500000  15962.500000   \n",
       "50%       35.000000   66030.000000  3653.000000   4966.000000  20876.000000   \n",
       "75%       45.000000   85701.000000  5435.000000   7453.500000  26625.500000   \n",
       "max      107.000000  330004.000000  7735.000000  97230.000000  31497.000000   \n",
       "\n",
       "               tract  hhincome_median_census_tract      latitude  \\\n",
       "count   10180.000000                    7292.00000  10524.000000   \n",
       "mean   217304.627898                   55360.71311     36.607177   \n",
       "std    329837.578637                   30081.64970      5.359651   \n",
       "min       100.000000                       0.00000     19.035956   \n",
       "25%      5410.000000                   35930.00000     33.446700   \n",
       "50%     30301.000000                   50551.00000     36.052519   \n",
       "75%    313102.000000                   69093.25000     40.019224   \n",
       "max    989300.000000                  250001.00000     71.301270   \n",
       "\n",
       "          longitude  pop_total_census_tract  \n",
       "count  10524.000000            7.456000e+03  \n",
       "mean     -96.684570            2.183166e+03  \n",
       "std       16.556777            2.255227e+04  \n",
       "min     -163.165830            6.000000e+00  \n",
       "25%     -112.026758            1.039750e+03  \n",
       "50%      -93.431076            1.521000e+03  \n",
       "75%      -82.862751            2.207000e+03  \n",
       "max      -67.260176            1.930983e+06  "
      ]
     },
     "execution_count": 5,
     "metadata": {},
     "output_type": "execute_result"
    }
   ],
   "source": [
    "df_data.describe()"
   ]
  },
  {
   "cell_type": "code",
   "execution_count": 6,
   "id": "b0abfed5",
   "metadata": {
    "ExecuteTime": {
     "end_time": "2022-11-30T17:45:31.617194Z",
     "start_time": "2022-11-30T17:45:31.602238Z"
    }
   },
   "outputs": [
    {
     "name": "stdout",
     "output_type": "stream",
     "text": [
      "name\n",
      "age\n",
      "gender\n",
      "race\n",
      "victim_image\n",
      "date\n",
      "street_address\n",
      "city\n",
      "state\n",
      "zip\n",
      "county\n",
      "agency_responsible\n",
      "ori\n",
      "cause_of_death\n",
      "circumstances\n",
      "disposition_official\n",
      "officer_charged\n",
      "news_urls\n",
      "signs_of_mental_illness\n",
      "allegedly_armed\n",
      "wapo_armed\n",
      "wapo_threat_level\n",
      "wapo_flee\n",
      "wapo_body_camera\n",
      "wapo_id\n",
      "off_duty_killing\n",
      "geography\n",
      "mpv_id\n",
      "fe_id\n",
      "encounter_type\n",
      "initial_reason\n",
      "officer_names\n",
      "officer_races\n",
      "officer_known_past_shootings\n",
      "call_for_service\n",
      "tract\n",
      "urban_rural_uspsai\n",
      "urban_rural_nchs\n",
      "hhincome_median_census_tract\n",
      "latitude\n",
      "longitude\n",
      "pop_total_census_tract\n",
      "pop_white_census_tract\n",
      "pop_black_census_tract\n",
      "pop_native_american_census_tract\n",
      "pop_asian_census_tract\n",
      "pop_pacific_islander_census_tract\n",
      "pop_other_multiple_census_tract\n",
      "pop_hispanic_census_tract\n",
      "congressional_district_113\n",
      "congressperson_lastname\n",
      "congressperson_firstname\n",
      "congressperson_party\n",
      "prosecutor_head\n",
      "prosecutor_race\n",
      "prosecutor_gender\n",
      "prosecutor_party\n",
      "prosecutor_term\n",
      "prosecutor_in_court\n",
      "prosecutor_special\n",
      "independent_investigation\n",
      "prosecutor_url\n"
     ]
    }
   ],
   "source": [
    "for col_name in df_data.columns:\n",
    "    print(col_name)"
   ]
  },
  {
   "cell_type": "markdown",
   "id": "61357252",
   "metadata": {},
   "source": [
    "# Data processing"
   ]
  },
  {
   "cell_type": "code",
   "execution_count": 7,
   "id": "dbf9a076",
   "metadata": {
    "ExecuteTime": {
     "end_time": "2022-11-30T17:45:31.633141Z",
     "start_time": "2022-11-30T17:45:31.618185Z"
    }
   },
   "outputs": [
    {
     "data": {
      "text/html": [
       "<div>\n",
       "<style scoped>\n",
       "    .dataframe tbody tr th:only-of-type {\n",
       "        vertical-align: middle;\n",
       "    }\n",
       "\n",
       "    .dataframe tbody tr th {\n",
       "        vertical-align: top;\n",
       "    }\n",
       "\n",
       "    .dataframe thead th {\n",
       "        text-align: right;\n",
       "    }\n",
       "</style>\n",
       "<table border=\"1\" class=\"dataframe\">\n",
       "  <thead>\n",
       "    <tr style=\"text-align: right;\">\n",
       "      <th></th>\n",
       "      <th>age</th>\n",
       "      <th>gender</th>\n",
       "      <th>race</th>\n",
       "      <th>wapo_armed</th>\n",
       "      <th>wapo_flee</th>\n",
       "      <th>wapo_body_camera</th>\n",
       "      <th>signs_of_mental_illness</th>\n",
       "      <th>disposition_official</th>\n",
       "    </tr>\n",
       "  </thead>\n",
       "  <tbody>\n",
       "    <tr>\n",
       "      <th>0</th>\n",
       "      <td>42.0</td>\n",
       "      <td>Male</td>\n",
       "      <td>White</td>\n",
       "      <td>Unknown Weapon</td>\n",
       "      <td>Car</td>\n",
       "      <td>No</td>\n",
       "      <td>Unknown</td>\n",
       "      <td>Pending Investigation</td>\n",
       "    </tr>\n",
       "    <tr>\n",
       "      <th>1</th>\n",
       "      <td>22.0</td>\n",
       "      <td>Male</td>\n",
       "      <td>White</td>\n",
       "      <td>No Object</td>\n",
       "      <td>Not Fleeing</td>\n",
       "      <td>Yes</td>\n",
       "      <td>No</td>\n",
       "      <td>Pending Investigation</td>\n",
       "    </tr>\n",
       "    <tr>\n",
       "      <th>2</th>\n",
       "      <td>19.0</td>\n",
       "      <td>Male</td>\n",
       "      <td>White</td>\n",
       "      <td>NaN</td>\n",
       "      <td>Not Fleeing</td>\n",
       "      <td>Bystander Video</td>\n",
       "      <td>Unknown</td>\n",
       "      <td>Pending Investigation</td>\n",
       "    </tr>\n",
       "    <tr>\n",
       "      <th>3</th>\n",
       "      <td>34.0</td>\n",
       "      <td>Male</td>\n",
       "      <td>White</td>\n",
       "      <td>NaN</td>\n",
       "      <td>Not Fleeing</td>\n",
       "      <td>Yes</td>\n",
       "      <td>No</td>\n",
       "      <td>Pending Investigation</td>\n",
       "    </tr>\n",
       "    <tr>\n",
       "      <th>4</th>\n",
       "      <td>42.0</td>\n",
       "      <td>Male</td>\n",
       "      <td>White</td>\n",
       "      <td>NaN</td>\n",
       "      <td>Not Fleeing</td>\n",
       "      <td>No</td>\n",
       "      <td>Unknown</td>\n",
       "      <td>Pending Investigation</td>\n",
       "    </tr>\n",
       "    <tr>\n",
       "      <th>...</th>\n",
       "      <td>...</td>\n",
       "      <td>...</td>\n",
       "      <td>...</td>\n",
       "      <td>...</td>\n",
       "      <td>...</td>\n",
       "      <td>...</td>\n",
       "      <td>...</td>\n",
       "      <td>...</td>\n",
       "    </tr>\n",
       "    <tr>\n",
       "      <th>10534</th>\n",
       "      <td>49.0</td>\n",
       "      <td>Male</td>\n",
       "      <td>Hispanic</td>\n",
       "      <td>Blunt Object</td>\n",
       "      <td>NaN</td>\n",
       "      <td>NaN</td>\n",
       "      <td>No</td>\n",
       "      <td>Unreported</td>\n",
       "    </tr>\n",
       "    <tr>\n",
       "      <th>10535</th>\n",
       "      <td>31.0</td>\n",
       "      <td>Male</td>\n",
       "      <td>Black</td>\n",
       "      <td>Gun</td>\n",
       "      <td>NaN</td>\n",
       "      <td>NaN</td>\n",
       "      <td>Yes</td>\n",
       "      <td>Grand jury/No bill or Cleared</td>\n",
       "    </tr>\n",
       "    <tr>\n",
       "      <th>10536</th>\n",
       "      <td>21.0</td>\n",
       "      <td>Male</td>\n",
       "      <td>White</td>\n",
       "      <td>Gun</td>\n",
       "      <td>NaN</td>\n",
       "      <td>NaN</td>\n",
       "      <td>Drug or Alcohol Use</td>\n",
       "      <td>Justified</td>\n",
       "    </tr>\n",
       "    <tr>\n",
       "      <th>10537</th>\n",
       "      <td>26.0</td>\n",
       "      <td>Male</td>\n",
       "      <td>Hispanic</td>\n",
       "      <td>Gun</td>\n",
       "      <td>NaN</td>\n",
       "      <td>NaN</td>\n",
       "      <td>No</td>\n",
       "      <td>Justified</td>\n",
       "    </tr>\n",
       "    <tr>\n",
       "      <th>10538</th>\n",
       "      <td>26.0</td>\n",
       "      <td>Male</td>\n",
       "      <td>White</td>\n",
       "      <td>No Object</td>\n",
       "      <td>NaN</td>\n",
       "      <td>NaN</td>\n",
       "      <td>No</td>\n",
       "      <td>Unreported</td>\n",
       "    </tr>\n",
       "  </tbody>\n",
       "</table>\n",
       "<p>10539 rows × 8 columns</p>\n",
       "</div>"
      ],
      "text/plain": [
       "        age gender      race      wapo_armed    wapo_flee wapo_body_camera  \\\n",
       "0      42.0   Male     White  Unknown Weapon          Car               No   \n",
       "1      22.0   Male     White       No Object  Not Fleeing              Yes   \n",
       "2      19.0   Male     White             NaN  Not Fleeing  Bystander Video   \n",
       "3      34.0   Male     White             NaN  Not Fleeing              Yes   \n",
       "4      42.0   Male     White             NaN  Not Fleeing               No   \n",
       "...     ...    ...       ...             ...          ...              ...   \n",
       "10534  49.0   Male  Hispanic    Blunt Object          NaN              NaN   \n",
       "10535  31.0   Male     Black             Gun          NaN              NaN   \n",
       "10536  21.0   Male     White             Gun          NaN              NaN   \n",
       "10537  26.0   Male  Hispanic             Gun          NaN              NaN   \n",
       "10538  26.0   Male     White       No Object          NaN              NaN   \n",
       "\n",
       "      signs_of_mental_illness           disposition_official  \n",
       "0                     Unknown          Pending Investigation  \n",
       "1                          No          Pending Investigation  \n",
       "2                     Unknown          Pending Investigation  \n",
       "3                          No          Pending Investigation  \n",
       "4                     Unknown          Pending Investigation  \n",
       "...                       ...                            ...  \n",
       "10534                      No                     Unreported  \n",
       "10535                     Yes  Grand jury/No bill or Cleared  \n",
       "10536     Drug or Alcohol Use                      Justified  \n",
       "10537                      No                      Justified  \n",
       "10538                      No                     Unreported  \n",
       "\n",
       "[10539 rows x 8 columns]"
      ]
     },
     "execution_count": 7,
     "metadata": {},
     "output_type": "execute_result"
    }
   ],
   "source": [
    "# age、gender、race、whether armed、whether fled、whether the body camera was on、state;\n",
    "new_df = pd.DataFrame(df_data,\n",
    "                      columns=[\n",
    "                          \"age\", \"gender\", \"race\", \"wapo_armed\", \"wapo_flee\",\n",
    "                          \"wapo_body_camera\", \"signs_of_mental_illness\",\n",
    "                          \"disposition_official\"\n",
    "                      ])\n",
    "new_df"
   ]
  },
  {
   "cell_type": "code",
   "execution_count": 8,
   "id": "3366e13a",
   "metadata": {
    "ExecuteTime": {
     "end_time": "2022-11-30T17:45:31.649088Z",
     "start_time": "2022-11-30T17:45:31.634131Z"
    }
   },
   "outputs": [
    {
     "data": {
      "text/plain": [
       "array(['Pending Investigation', 'Under investigation',\n",
       "       'Justified by Grand Jury', 'Justified by Attorney General', nan,\n",
       "       'Grand jury/No bill or Cleared', 'Charged',\n",
       "       'Justified by County Attorney', 'Justified by District Attorney',\n",
       "       'Justified', 'Justified by DA', 'Cleared by solicitor',\n",
       "       'Justified by Prosecutor', 'Charged with reckless homicide',\n",
       "       'Justified by Solicitor',\n",
       "       'Justified by County Attorney,Pending Investigation',\n",
       "       'Civil Suit/Family awarded settlement', 'Cleared by DA',\n",
       "       'Charged with involuntary manslaughter',\n",
       "       'Charged with 2nd degree murder', 'Justified by County Prosecutor',\n",
       "       'Pending Investigation,Administrative leave', 'Cleared',\n",
       "       'Administrative leave', \"Justified by Prosecutor's Office\",\n",
       "       'Justified by Commonwealth Attorney', 'Charged with homicide',\n",
       "       'Pending investigation/No Known Charges',\n",
       "       '\"Unjustified, Officer fired\"',\n",
       "       'Charged,\"Unjustified, Officer fired\"',\n",
       "       'Administrative leave,Pending investigation/No Known Charges',\n",
       "       'Charged with manslaughter,Civil suit/Pending',\n",
       "       'Grand jury/No bill or Cleared/Justified by District Attorney',\n",
       "       \"Justified by County Prosecutor's Office\",\n",
       "       'Charged with voluntary manslaughter',\n",
       "       'Cleared by district attorney', 'Cleared by state AG',\n",
       "       'Justified by Da', 'Justified by Special Prosecutor',\n",
       "       'Under investigation,Unjustified by internal review',\n",
       "       'Pending investigation/No Known Charges,Other justified (Civilian board/Prosecutor/District Attorney/Coroner)',\n",
       "       'Justified by U.S. Attorney',\n",
       "       'Justified by County Prosecuting Attorney',\n",
       "       'Charged,Officer Fired', 'Justified by Prosecuting Attorney',\n",
       "       'Justified by police board',\n",
       "       'Cleared by DA,Justified by Prosecutor',\n",
       "       'Administrative discipline', 'Charged with murder',\n",
       "       'Justified by State Attorney',\n",
       "       \"Justified by State Attorney's Office\", 'DA Declined to Prosecute',\n",
       "       'Accidental',\n",
       "       'Grand jury/No bill or Cleared/Justified by District Attorney,Justified by Grand Jury',\n",
       "       'Justified by internal review', 'Charged/Pled No Contest',\n",
       "       'Justified by Sheriff', 'Justified by DA,Civil suit/Pending',\n",
       "       'Charged with a crime', 'Charged with aggravated assault',\n",
       "       'Justified by CIRT', 'Justified by Internal Investigation',\n",
       "       'Justified by outside agency',\n",
       "       '\"Charged, Convicted of Manslaughter\",Civil Suit/Family awarded settlement',\n",
       "       'Civil Suit',\n",
       "       '\"Charged with second-degree murder, charges dropped\"',\n",
       "       'Charged with malfeasance',\n",
       "       'Justified by incident review team,Justified by Attorney General',\n",
       "       'Charged,Civil Suit', 'Cleared by Judge,Cleared by DA',\n",
       "       'Pending Investigation,Civil suit/Pending,Justified by DA',\n",
       "       'Charged with manslaughter', 'Murder/Suicide',\n",
       "       '\"Charged with murder, charges dropped\",Civil suit/Family awarded money',\n",
       "       'Justified by external agency', 'Charged with negligent homicide',\n",
       "       '\"Charged with 3rd degree murder, Convicted, Sentenced to 22.5 years in prison\",\"Plead Guilt, 2nd degree manslaughter\"',\n",
       "       \"Justified by State's Attorney\",\n",
       "       'Justified by Fifth Judicial Circuit Solicitor',\n",
       "       'Cleared by Judge', 'Civil suit/Pending',\n",
       "       \"Justified by County Commonwealth's Attorney\",\n",
       "       'Charged with 1st degree wanton endangerment', 'Unknown',\n",
       "       '\"Charged with homicide, plead guilty to voluntary manslaughter\"',\n",
       "       'Justified by District Attorney/Civil suit/Pending',\n",
       "       \"Justified by Solicitor's Office\",\n",
       "       '\"Charged with second-degree murder, Convicted, Sentenced to life in prison\"',\n",
       "       '\"Charged with manslaughter, Charges Dismissed\"', 'Unreported',\n",
       "       'Charged with murder and attemped murder',\n",
       "       '\"Charged with second-degree murder, Convicted, Sentenced to 10 years in prison\"',\n",
       "       'Civil suit/Family awarded money',\n",
       "       'Charged with voluntary manslaughter and assault with deadly weapon',\n",
       "       '\"Charged, Plead guilty to murder, Sentenced to life in prison\"',\n",
       "       \"Justified by State's Attorney/Civil suit/Pending\",\n",
       "       'Charged with assault',\n",
       "       '\"Charged, Convicted of murder, Sentenced to life in prison\"',\n",
       "       'Pending Federal Investigation (FBI)',\n",
       "       'Justified by DA,Civil suit/Family awarded money',\n",
       "       'Justified by District Attorney/Civil Suit/Family awarded money',\n",
       "       '\"Charged with murder, Charges Dismissed\"',\n",
       "       '\"Charged with murder, Convicted\"',\n",
       "       '\"Charged with involuntary manslaughter, Plead Guilty to Involuntary Manslaughter, Sentenced to 7 years in prison\"',\n",
       "       '\"Charged with manslaughter, Acquitted\"',\n",
       "       'Other justified (Civilian board/Coroner/Medical examiner)',\n",
       "       'Ruled accidental',\n",
       "       '\"Charged with voluntary manslaughter and assault with a deadly weapon, convicted of firearm assault\"',\n",
       "       'Cleared,Civil suit/Pending',\n",
       "       '\"Charged, Convicted of murder, Sentenced to 10 years in prison\"',\n",
       "       'Administrative discipline/Civil suit/Family awarded money',\n",
       "       '\"Charged with manslaughter, Convicted of violating oath of office, Sentenced to 1 year in prison and 4 years probation\"',\n",
       "       '\"Charged with murder, Acquitted\"',\n",
       "       'Unjustified by internal review',\n",
       "       'Cleared by DA,Grand jury/No bill or Cleared',\n",
       "       '\"Charged, Convicted of murder, Sentenced to 25 years in prison\"',\n",
       "       \"Justified by County State's Attorney\",\n",
       "       'Justified by District Attorney/Civil suit/Family awarded money',\n",
       "       \"Justified by Commonwealth's Attorney\",\n",
       "       '\"Charged, Convicted of involuntary manslaughter, Sentenced to 5-15 years in prison, and Civil suit/Family awarded money\"',\n",
       "       '\"Charged, Convicted of Third Degree Murder and manslaughter, Murder conviction overturned, Sentenced to 57 months in prison\"',\n",
       "       'Charged with first-degree murder', '\"Charged, Acquitted\"',\n",
       "       'Charged with involuntary manslaughter and oppression under color of office',\n",
       "       'Other justified (Civilian board/Prosecutor/District Attorney/Coroner)',\n",
       "       '\"Charged, Convicted of murder, Sentenced to 15 years in prison\"',\n",
       "       'Under investigation,Justified',\n",
       "       'Justified by Attorney General,Civil Suit/Family awarded settlement',\n",
       "       'Charged with 1st degree murder',\n",
       "       \"Cleared by coroner's inquest/Civil suit/Family awarded money\",\n",
       "       'Justified by outside agency/Civil suit/Family awarded money',\n",
       "       'Justified by Inspector General',\n",
       "       '\"Charged witth 1st degree manslaughter, Acquitted\"',\n",
       "       '\"Charged with reckless homicide, Acquitted\"',\n",
       "       '\"Charged, charges dismissed\"',\n",
       "       '\"Charged with felony murder, Civil suit pending\"',\n",
       "       '\"Charged with second-degree murder, Acquitted\"',\n",
       "       'Charged with felony murder', 'Charged with second-degree murder',\n",
       "       '\"Charged, Convicted of reckless manslaughter, Sentenced to 6 years\"',\n",
       "       'Charged with murder and aggravated assault',\n",
       "       '\"Charged, Convicted of reckless homicide, sentenced to 1 year in prison\"',\n",
       "       'Justified,Justified by U.S. Attorney',\n",
       "       '\"Charged with criminal homicide, assault, and reckless endangerment, Plead guilty to voluntary manslaughter\"',\n",
       "       '\"Charged, Plead guilty to reckless homicide, sentenced to 3.5 years in prison\"',\n",
       "       '\"Charged, Convicted, Sentenced to 5 years in prison\"',\n",
       "       '\"Charged, Convicted of murder, Sentenced to 55 years in prison\"',\n",
       "       \"Justified by coroner's inquest\",\n",
       "       '\"Charged, convicted of manslaughter\"',\n",
       "       '\"Charged, Convicted of manslaughter and attempted murder, Sentenced to 25 years\"',\n",
       "       '\"Charged, Convicted of voluntary manslaughter, Sentenced to 3 months in jail\"',\n",
       "       'Justified by Department of Justice',\n",
       "       '\"Charged, Mistrial declared\"',\n",
       "       '\"Charged, Convicted of aggravated manslaughter and child endangerment, Sentenced to 30 years in prison\"',\n",
       "       '\"Charged, Convicted of involuntary manslaughter, Sentenced to 5 years in Prison\"',\n",
       "       'Pending investigation/No Known Chargess',\n",
       "       'Pending investigation/No Known Charges; Georgia Bureau of Investigation',\n",
       "       'Pending investigation/No Known Charges; Snohomish County Multiagency Response Team',\n",
       "       '\"Pending investigation/No Known Charges; Minnesota Bureau of Criminal Apprehension, Minnesota State Patrol, Anoka County Sheriff\\'s Office, Fridley Police Department, Lino Lakes Police Department\"',\n",
       "       \"Justified; New York State Police investigation; Schwalm's brother offered condolences to the deputy because of his brother's illness.\",\n",
       "       '\"Charged with manslaughter, Acquitted\",Civil Suit/Family awarded settlement',\n",
       "       '\"Charged, Convicted of manslaughter, Sentenced to 2.5 years in prison\"',\n",
       "       'Justified/Civil suit/Family awarded money',\n",
       "       '\"Charged, Mistrial declared, Pled Guilty for Violating Walter Scott\\'s Civil Rights\"',\n",
       "       '\"Charged, Convicted of 2nd degree manslaughter, Sentenced to 4 years\"',\n",
       "       '\"Charged, Convicted of second-degree murder\"',\n",
       "       '\"Charged with felony negligent homicide, Acquitted\"',\n",
       "       '\"Charged, Convicted of second-degree manslaughter and one count of official misconduct, Sentenced to five years probation.\"',\n",
       "       '\"Charged, Convicted of second-degree murder, Sentenced to 20 years in prison\"',\n",
       "       '\"Charged, Convicted of second-degree murder, Sentenced to 40 years to life in prison\"',\n",
       "       'Found Excusable',\n",
       "       '\"Charged with murder and involuntary manslaughter, Convicted, Sentenced to Life in Prison\"',\n",
       "       '\"Charged with 2nd degreee murder, plead guilty to manslaughter\"',\n",
       "       '\"Charged with homicide and felony firearm charges, Acquitted\"',\n",
       "       '\"Charged with criminally negligent homicide, Acquitted\"'],\n",
       "      dtype=object)"
      ]
     },
     "execution_count": 8,
     "metadata": {},
     "output_type": "execute_result"
    }
   ],
   "source": [
    "new_df['disposition_official'].unique()"
   ]
  },
  {
   "cell_type": "code",
   "execution_count": 9,
   "id": "f8897f88",
   "metadata": {
    "ExecuteTime": {
     "end_time": "2022-11-30T17:45:31.665037Z",
     "start_time": "2022-11-30T17:45:31.652071Z"
    }
   },
   "outputs": [
    {
     "data": {
      "text/plain": [
       "age                         412\n",
       "gender                        3\n",
       "race                         87\n",
       "wapo_armed                  287\n",
       "wapo_flee                  3401\n",
       "wapo_body_camera           3570\n",
       "signs_of_mental_illness     223\n",
       "disposition_official        147\n",
       "dtype: int64"
      ]
     },
     "execution_count": 9,
     "metadata": {},
     "output_type": "execute_result"
    }
   ],
   "source": [
    "new_df.isnull().sum()"
   ]
  },
  {
   "cell_type": "code",
   "execution_count": 10,
   "id": "a776118a",
   "metadata": {
    "ExecuteTime": {
     "end_time": "2022-11-30T17:45:31.711871Z",
     "start_time": "2022-11-30T17:45:31.666024Z"
    },
    "code_folding": []
   },
   "outputs": [
    {
     "data": {
      "text/html": [
       "<div>\n",
       "<style scoped>\n",
       "    .dataframe tbody tr th:only-of-type {\n",
       "        vertical-align: middle;\n",
       "    }\n",
       "\n",
       "    .dataframe tbody tr th {\n",
       "        vertical-align: top;\n",
       "    }\n",
       "\n",
       "    .dataframe thead th {\n",
       "        text-align: right;\n",
       "    }\n",
       "</style>\n",
       "<table border=\"1\" class=\"dataframe\">\n",
       "  <thead>\n",
       "    <tr style=\"text-align: right;\">\n",
       "      <th></th>\n",
       "      <th>age</th>\n",
       "      <th>gender</th>\n",
       "      <th>race</th>\n",
       "      <th>wapo_armed</th>\n",
       "      <th>wapo_flee</th>\n",
       "      <th>wapo_body_camera</th>\n",
       "      <th>signs_of_mental_illness</th>\n",
       "      <th>disposition_official</th>\n",
       "    </tr>\n",
       "  </thead>\n",
       "  <tbody>\n",
       "    <tr>\n",
       "      <th>0</th>\n",
       "      <td>42.0</td>\n",
       "      <td>Male</td>\n",
       "      <td>White</td>\n",
       "      <td>Unknown Weapon</td>\n",
       "      <td>Car</td>\n",
       "      <td>No</td>\n",
       "      <td>Unknown</td>\n",
       "      <td>Pending Investigation</td>\n",
       "    </tr>\n",
       "    <tr>\n",
       "      <th>1</th>\n",
       "      <td>22.0</td>\n",
       "      <td>Male</td>\n",
       "      <td>White</td>\n",
       "      <td>No Object</td>\n",
       "      <td>Not Fleeing</td>\n",
       "      <td>Yes</td>\n",
       "      <td>No</td>\n",
       "      <td>Pending Investigation</td>\n",
       "    </tr>\n",
       "    <tr>\n",
       "      <th>2</th>\n",
       "      <td>19.0</td>\n",
       "      <td>Male</td>\n",
       "      <td>White</td>\n",
       "      <td>NaN</td>\n",
       "      <td>Not Fleeing</td>\n",
       "      <td>Bystander Video</td>\n",
       "      <td>Unknown</td>\n",
       "      <td>Pending Investigation</td>\n",
       "    </tr>\n",
       "    <tr>\n",
       "      <th>3</th>\n",
       "      <td>34.0</td>\n",
       "      <td>Male</td>\n",
       "      <td>White</td>\n",
       "      <td>NaN</td>\n",
       "      <td>Not Fleeing</td>\n",
       "      <td>Yes</td>\n",
       "      <td>No</td>\n",
       "      <td>Pending Investigation</td>\n",
       "    </tr>\n",
       "    <tr>\n",
       "      <th>4</th>\n",
       "      <td>42.0</td>\n",
       "      <td>Male</td>\n",
       "      <td>White</td>\n",
       "      <td>NaN</td>\n",
       "      <td>Not Fleeing</td>\n",
       "      <td>No</td>\n",
       "      <td>Unknown</td>\n",
       "      <td>Pending Investigation</td>\n",
       "    </tr>\n",
       "    <tr>\n",
       "      <th>...</th>\n",
       "      <td>...</td>\n",
       "      <td>...</td>\n",
       "      <td>...</td>\n",
       "      <td>...</td>\n",
       "      <td>...</td>\n",
       "      <td>...</td>\n",
       "      <td>...</td>\n",
       "      <td>...</td>\n",
       "    </tr>\n",
       "    <tr>\n",
       "      <th>10534</th>\n",
       "      <td>49.0</td>\n",
       "      <td>Male</td>\n",
       "      <td>Hispanic</td>\n",
       "      <td>Blunt Object</td>\n",
       "      <td>NaN</td>\n",
       "      <td>NaN</td>\n",
       "      <td>No</td>\n",
       "      <td>1</td>\n",
       "    </tr>\n",
       "    <tr>\n",
       "      <th>10535</th>\n",
       "      <td>31.0</td>\n",
       "      <td>Male</td>\n",
       "      <td>Black</td>\n",
       "      <td>Gun</td>\n",
       "      <td>NaN</td>\n",
       "      <td>NaN</td>\n",
       "      <td>Yes</td>\n",
       "      <td>1</td>\n",
       "    </tr>\n",
       "    <tr>\n",
       "      <th>10536</th>\n",
       "      <td>21.0</td>\n",
       "      <td>Male</td>\n",
       "      <td>White</td>\n",
       "      <td>Gun</td>\n",
       "      <td>NaN</td>\n",
       "      <td>NaN</td>\n",
       "      <td>Drug or Alcohol Use</td>\n",
       "      <td>1</td>\n",
       "    </tr>\n",
       "    <tr>\n",
       "      <th>10537</th>\n",
       "      <td>26.0</td>\n",
       "      <td>Male</td>\n",
       "      <td>Hispanic</td>\n",
       "      <td>Gun</td>\n",
       "      <td>NaN</td>\n",
       "      <td>NaN</td>\n",
       "      <td>No</td>\n",
       "      <td>1</td>\n",
       "    </tr>\n",
       "    <tr>\n",
       "      <th>10538</th>\n",
       "      <td>26.0</td>\n",
       "      <td>Male</td>\n",
       "      <td>White</td>\n",
       "      <td>No Object</td>\n",
       "      <td>NaN</td>\n",
       "      <td>NaN</td>\n",
       "      <td>No</td>\n",
       "      <td>1</td>\n",
       "    </tr>\n",
       "  </tbody>\n",
       "</table>\n",
       "<p>10539 rows × 8 columns</p>\n",
       "</div>"
      ],
      "text/plain": [
       "        age gender      race      wapo_armed    wapo_flee wapo_body_camera  \\\n",
       "0      42.0   Male     White  Unknown Weapon          Car               No   \n",
       "1      22.0   Male     White       No Object  Not Fleeing              Yes   \n",
       "2      19.0   Male     White             NaN  Not Fleeing  Bystander Video   \n",
       "3      34.0   Male     White             NaN  Not Fleeing              Yes   \n",
       "4      42.0   Male     White             NaN  Not Fleeing               No   \n",
       "...     ...    ...       ...             ...          ...              ...   \n",
       "10534  49.0   Male  Hispanic    Blunt Object          NaN              NaN   \n",
       "10535  31.0   Male     Black             Gun          NaN              NaN   \n",
       "10536  21.0   Male     White             Gun          NaN              NaN   \n",
       "10537  26.0   Male  Hispanic             Gun          NaN              NaN   \n",
       "10538  26.0   Male     White       No Object          NaN              NaN   \n",
       "\n",
       "      signs_of_mental_illness   disposition_official  \n",
       "0                     Unknown  Pending Investigation  \n",
       "1                          No  Pending Investigation  \n",
       "2                     Unknown  Pending Investigation  \n",
       "3                          No  Pending Investigation  \n",
       "4                     Unknown  Pending Investigation  \n",
       "...                       ...                    ...  \n",
       "10534                      No                      1  \n",
       "10535                     Yes                      1  \n",
       "10536     Drug or Alcohol Use                      1  \n",
       "10537                      No                      1  \n",
       "10538                      No                      1  \n",
       "\n",
       "[10539 rows x 8 columns]"
      ]
     },
     "execution_count": 10,
     "metadata": {},
     "output_type": "execute_result"
    }
   ],
   "source": [
    "new_df['disposition_official'].fillna(value='Other', inplace=True)\n",
    "new_df['disposition_official'].replace([\n",
    "    'Justified by Grand Jury', 'Justified by Attorney General',\n",
    "    'Grand jury/No bill or Cleared', 'Charged', 'Justified by County Attorney',\n",
    "    'Justified by District Attorney', 'Justified', 'Justified by DA',\n",
    "    'Cleared by solicitor', 'Justified by Prosecutor',\n",
    "    'Charged with reckless homicide', 'Justified by Solicitor',\n",
    "    'Justified by County Attorney,Pending Investigation',\n",
    "    'Charged with involuntary manslaughter', 'Charged with 2nd degree murder',\n",
    "    'Justified by County Prosecutor', 'Cleared',\n",
    "    \"Justified by Prosecutor's Office\", 'Justified by Commonwealth Attorney',\n",
    "    'Charged with homicide', '\"Unjustified, Officer fired\"',\n",
    "    'Charged,\"Unjustified, Officer fired\"',\n",
    "    'Administrative leave,Pending investigation/No Known Charges',\n",
    "    'Charged with manslaughter,Civil suit/Pending',\n",
    "    'Grand jury/No bill or Cleared/Justified by District Attorney',\n",
    "    \"Justified by County Prosecutor's Office\",\n",
    "    'Charged with voluntary manslaughter', 'Cleared by district attorney',\n",
    "    'Cleared by state AG', 'Justified by Da',\n",
    "    'Justified by Special Prosecutor',\n",
    "    'Under investigation,Unjustified by internal review',\n",
    "    'Justified by U.S. Attorney', 'Justified by County Prosecuting Attorney',\n",
    "    'Charged,Officer Fired', 'Justified by Prosecuting Attorney',\n",
    "    'Justified by police board', 'Charged with murder',\n",
    "    'Justified by State Attorney', \"Justified by State Attorney's Office\",\n",
    "    'DA Declined to Prosecute',\n",
    "    'Grand jury/No bill or Cleared/Justified by District Attorney,Justified by Grand Jury',\n",
    "    'Justified by internal review', 'Charged/Pled No Contest',\n",
    "    'Justified by Sheriff', 'Justified by DA,Civil suit/Pending',\n",
    "    'Charged with a crime', 'Charged with aggravated assault',\n",
    "    'Justified by CIRT', 'Justified by Internal Investigation',\n",
    "    'Justified by outside agency',\n",
    "    '\"Charged, Convicted of Manslaughter\",Civil Suit/Family awarded settlement',\n",
    "    'Civil Suit', '\"Charged with second-degree murder, charges dropped\"',\n",
    "    'Charged with malfeasance',\n",
    "    'Justified by incident review team,Justified by Attorney General',\n",
    "    'Charged,Civil Suit', 'Cleared by Judge,Cleared by DA',\n",
    "    'Charged with manslaughter', 'Murder/Suicide',\n",
    "    '\"Charged with murder, charges dropped\",Civil suit/Family awarded money',\n",
    "    'Justified by external agency', 'Charged with negligent homicide',\n",
    "    '\"Charged with 3rd degree murder, Convicted, Sentenced to 22.5 years in prison\",\"Plead Guilt, 2nd degree manslaughter\"',\n",
    "    \"Justified by State's Attorney\",\n",
    "    'Justified by Fifth Judicial Circuit Solicitor', 'Cleared by Judge',\n",
    "    'Civil suit/Pending', \"Justified by County Commonwealth's Attorney\",\n",
    "    'Charged with 1st degree wanton endangerment', 'Unknown',\n",
    "    '\"Charged with homicide, plead guilty to voluntary manslaughter\"',\n",
    "    'Justified by District Attorney/Civil suit/Pending',\n",
    "    \"Justified by Solicitor's Office\",\n",
    "    '\"Charged with second-degree murder, Convicted, Sentenced to life in prison\"',\n",
    "    '\"Charged with manslaughter, Charges Dismissed\"', 'Unreported',\n",
    "    'Charged with murder and attemped murder',\n",
    "    '\"Charged with second-degree murder, Convicted, Sentenced to 10 years in prison\"',\n",
    "    'Civil suit/Family awarded money',\n",
    "    'Charged with voluntary manslaughter and assault with deadly weapon',\n",
    "    '\"Charged, Plead guilty to murder, Sentenced to life in prison\"',\n",
    "    \"Justified by State's Attorney/Civil suit/Pending\", 'Charged with assault',\n",
    "    '\"Charged, Convicted of murder, Sentenced to life in prison\"',\n",
    "    'Justified by DA,Civil suit/Family awarded money',\n",
    "    'Justified by District Attorney/Civil Suit/Family awarded money',\n",
    "    '\"Charged with murder, Charges Dismissed\"',\n",
    "    '\"Charged with murder, Convicted\"',\n",
    "    '\"Charged with involuntary manslaughter, Plead Guilty to Involuntary Manslaughter, Sentenced to 7 years in prison\"',\n",
    "    '\"Charged with manslaughter, Acquitted\"',\n",
    "    'Other justified (Civilian board/Coroner/Medical examiner)',\n",
    "    'Ruled accidental',\n",
    "    '\"Charged with voluntary manslaughter and assault with a deadly weapon, convicted of firearm assault\"',\n",
    "    '\"Charged, Convicted of murder, Sentenced to 10 years in prison\"',\n",
    "    'Administrative discipline/Civil suit/Family awarded money',\n",
    "    '\"Charged with manslaughter, Convicted of violating oath of office, Sentenced to 1 year in prison and 4 years probation\"',\n",
    "    '\"Charged with murder, Acquitted\"',\n",
    "    'Cleared by DA,Grand jury/No bill or Cleared',\n",
    "    '\"Charged, Convicted of murder, Sentenced to 25 years in prison\"',\n",
    "    \"Justified by County State's Attorney\",\n",
    "    'Justified by District Attorney/Civil suit/Family awarded money',\n",
    "    \"Justified by Commonwealth's Attorney\",\n",
    "    '\"Charged, Convicted of involuntary manslaughter, Sentenced to 5-15 years in prison, and Civil suit/Family awarded money\"',\n",
    "    '\"Charged, Convicted of Third Degree Murder and manslaughter, Murder conviction overturned, Sentenced to 57 months in prison\"',\n",
    "    'Charged with first-degree murder', '\"Charged, Acquitted\"',\n",
    "    'Charged with involuntary manslaughter and oppression under color of office',\n",
    "    'Other justified (Civilian board/Prosecutor/District Attorney/Coroner)',\n",
    "    '\"Charged, Convicted of murder, Sentenced to 15 years in prison\"',\n",
    "    'Under investigation,Justified',\n",
    "    'Justified by Attorney General,Civil Suit/Family awarded settlement',\n",
    "    'Charged with 1st degree murder',\n",
    "    \"Cleared by coroner's inquest/Civil suit/Family awarded money\",\n",
    "    'Justified by outside agency/Civil suit/Family awarded money',\n",
    "    'Justified by Inspector General',\n",
    "    '\"Charged witth 1st degree manslaughter, Acquitted\"',\n",
    "    '\"Charged with reckless homicide, Acquitted\"',\n",
    "    '\"Charged, charges dismissed\"',\n",
    "    '\"Charged with felony murder, Civil suit pending\"',\n",
    "    '\"Charged with second-degree murder, Acquitted\"',\n",
    "    'Charged with felony murder', 'Charged with second-degree murder',\n",
    "    '\"Charged, Convicted of reckless manslaughter, Sentenced to 6 years\"',\n",
    "    'Charged with murder and aggravated assault',\n",
    "    '\"Charged, Convicted of reckless homicide, sentenced to 1 year in prison\"',\n",
    "    'Justified,Justified by U.S. Attorney',\n",
    "    '\"Charged with criminal homicide, assault, and reckless endangerment, Plead guilty to voluntary manslaughter\"',\n",
    "    '\"Charged, Plead guilty to reckless homicide, sentenced to 3.5 years in prison\"',\n",
    "    '\"Charged, Convicted, Sentenced to 5 years in prison\"',\n",
    "    '\"Charged, Convicted of murder, Sentenced to 55 years in prison\"',\n",
    "    \"Justified by coroner's inquest\", '\"Charged, convicted of manslaughter\"',\n",
    "    '\"Charged, Convicted of manslaughter and attempted murder, Sentenced to 25 years\"',\n",
    "    '\"Charged, Convicted of voluntary manslaughter, Sentenced to 3 months in jail\"',\n",
    "    'Justified by Department of Justice', '\"Charged, Mistrial declared\"',\n",
    "    '\"Charged, Convicted of aggravated manslaughter and child endangerment, Sentenced to 30 years in prison\"',\n",
    "    '\"Charged, Convicted of involuntary manslaughter, Sentenced to 5 years in Prison\"',\n",
    "    \"Justified; New York State Police investigation; Schwalm's brother offered condolences to the deputy because of his brother's illness.\",\n",
    "    '\"Charged with manslaughter, Acquitted\",Civil Suit/Family awarded settlement',\n",
    "    '\"Charged, Convicted of manslaughter, Sentenced to 2.5 years in prison\"',\n",
    "    'Justified/Civil suit/Family awarded money',\n",
    "    '\"Charged, Mistrial declared, Pled Guilty for Violating Walter Scott\\'s Civil Rights\"',\n",
    "    '\"Charged, Convicted of 2nd degree manslaughter, Sentenced to 4 years\"',\n",
    "    '\"Charged, Convicted of second-degree murder\"',\n",
    "    '\"Charged with felony negligent homicide, Acquitted\"',\n",
    "    '\"Charged, Convicted of second-degree manslaughter and one count of official misconduct, Sentenced to five years probation.\"',\n",
    "    '\"Charged, Convicted of second-degree murder, Sentenced to 20 years in prison\"',\n",
    "    '\"Charged, Convicted of second-degree murder, Sentenced to 40 years to life in prison\"',\n",
    "    '\"Charged with murder and involuntary manslaughter, Convicted, Sentenced to Life in Prison\"',\n",
    "    '\"Charged with 2nd degreee murder, plead guilty to manslaughter\"',\n",
    "    '\"Charged with homicide and felony firearm charges, Acquitted\"',\n",
    "    '\"Charged with criminally negligent homicide, Acquitted\"'\n",
    "],\n",
    "                                       1,\n",
    "                                       inplace=True)\n",
    "new_df"
   ]
  },
  {
   "cell_type": "code",
   "execution_count": 11,
   "id": "a1f30316",
   "metadata": {
    "ExecuteTime": {
     "end_time": "2022-11-30T17:45:31.727826Z",
     "start_time": "2022-11-30T17:45:31.712867Z"
    }
   },
   "outputs": [
    {
     "data": {
      "text/plain": [
       "array(['Pending Investigation', 'Under investigation', 1, 'Other',\n",
       "       'Civil Suit/Family awarded settlement', 'Cleared by DA',\n",
       "       'Pending Investigation,Administrative leave',\n",
       "       'Administrative leave', 'Pending investigation/No Known Charges',\n",
       "       'Pending investigation/No Known Charges,Other justified (Civilian board/Prosecutor/District Attorney/Coroner)',\n",
       "       'Cleared by DA,Justified by Prosecutor',\n",
       "       'Administrative discipline', 'Accidental',\n",
       "       'Pending Investigation,Civil suit/Pending,Justified by DA',\n",
       "       'Pending Federal Investigation (FBI)',\n",
       "       'Cleared,Civil suit/Pending', 'Unjustified by internal review',\n",
       "       'Pending investigation/No Known Chargess',\n",
       "       'Pending investigation/No Known Charges; Georgia Bureau of Investigation',\n",
       "       'Pending investigation/No Known Charges; Snohomish County Multiagency Response Team',\n",
       "       '\"Pending investigation/No Known Charges; Minnesota Bureau of Criminal Apprehension, Minnesota State Patrol, Anoka County Sheriff\\'s Office, Fridley Police Department, Lino Lakes Police Department\"',\n",
       "       'Found Excusable'], dtype=object)"
      ]
     },
     "execution_count": 11,
     "metadata": {},
     "output_type": "execute_result"
    }
   ],
   "source": [
    "new_df['disposition_official'].unique()"
   ]
  },
  {
   "cell_type": "code",
   "execution_count": 12,
   "id": "e558e438",
   "metadata": {
    "ExecuteTime": {
     "end_time": "2022-11-30T17:45:31.759710Z",
     "start_time": "2022-11-30T17:45:31.728814Z"
    },
    "code_folding": []
   },
   "outputs": [
    {
     "data": {
      "text/html": [
       "<div>\n",
       "<style scoped>\n",
       "    .dataframe tbody tr th:only-of-type {\n",
       "        vertical-align: middle;\n",
       "    }\n",
       "\n",
       "    .dataframe tbody tr th {\n",
       "        vertical-align: top;\n",
       "    }\n",
       "\n",
       "    .dataframe thead th {\n",
       "        text-align: right;\n",
       "    }\n",
       "</style>\n",
       "<table border=\"1\" class=\"dataframe\">\n",
       "  <thead>\n",
       "    <tr style=\"text-align: right;\">\n",
       "      <th></th>\n",
       "      <th>age</th>\n",
       "      <th>gender</th>\n",
       "      <th>race</th>\n",
       "      <th>wapo_armed</th>\n",
       "      <th>wapo_flee</th>\n",
       "      <th>wapo_body_camera</th>\n",
       "      <th>signs_of_mental_illness</th>\n",
       "      <th>disposition_official</th>\n",
       "    </tr>\n",
       "  </thead>\n",
       "  <tbody>\n",
       "    <tr>\n",
       "      <th>0</th>\n",
       "      <td>42.0</td>\n",
       "      <td>Male</td>\n",
       "      <td>White</td>\n",
       "      <td>Unknown Weapon</td>\n",
       "      <td>Car</td>\n",
       "      <td>No</td>\n",
       "      <td>Unknown</td>\n",
       "      <td>0</td>\n",
       "    </tr>\n",
       "    <tr>\n",
       "      <th>1</th>\n",
       "      <td>22.0</td>\n",
       "      <td>Male</td>\n",
       "      <td>White</td>\n",
       "      <td>No Object</td>\n",
       "      <td>Not Fleeing</td>\n",
       "      <td>Yes</td>\n",
       "      <td>No</td>\n",
       "      <td>0</td>\n",
       "    </tr>\n",
       "    <tr>\n",
       "      <th>2</th>\n",
       "      <td>19.0</td>\n",
       "      <td>Male</td>\n",
       "      <td>White</td>\n",
       "      <td>NaN</td>\n",
       "      <td>Not Fleeing</td>\n",
       "      <td>Bystander Video</td>\n",
       "      <td>Unknown</td>\n",
       "      <td>0</td>\n",
       "    </tr>\n",
       "    <tr>\n",
       "      <th>3</th>\n",
       "      <td>34.0</td>\n",
       "      <td>Male</td>\n",
       "      <td>White</td>\n",
       "      <td>NaN</td>\n",
       "      <td>Not Fleeing</td>\n",
       "      <td>Yes</td>\n",
       "      <td>No</td>\n",
       "      <td>0</td>\n",
       "    </tr>\n",
       "    <tr>\n",
       "      <th>4</th>\n",
       "      <td>42.0</td>\n",
       "      <td>Male</td>\n",
       "      <td>White</td>\n",
       "      <td>NaN</td>\n",
       "      <td>Not Fleeing</td>\n",
       "      <td>No</td>\n",
       "      <td>Unknown</td>\n",
       "      <td>0</td>\n",
       "    </tr>\n",
       "    <tr>\n",
       "      <th>...</th>\n",
       "      <td>...</td>\n",
       "      <td>...</td>\n",
       "      <td>...</td>\n",
       "      <td>...</td>\n",
       "      <td>...</td>\n",
       "      <td>...</td>\n",
       "      <td>...</td>\n",
       "      <td>...</td>\n",
       "    </tr>\n",
       "    <tr>\n",
       "      <th>10534</th>\n",
       "      <td>49.0</td>\n",
       "      <td>Male</td>\n",
       "      <td>Hispanic</td>\n",
       "      <td>Blunt Object</td>\n",
       "      <td>NaN</td>\n",
       "      <td>NaN</td>\n",
       "      <td>No</td>\n",
       "      <td>1</td>\n",
       "    </tr>\n",
       "    <tr>\n",
       "      <th>10535</th>\n",
       "      <td>31.0</td>\n",
       "      <td>Male</td>\n",
       "      <td>Black</td>\n",
       "      <td>Gun</td>\n",
       "      <td>NaN</td>\n",
       "      <td>NaN</td>\n",
       "      <td>Yes</td>\n",
       "      <td>1</td>\n",
       "    </tr>\n",
       "    <tr>\n",
       "      <th>10536</th>\n",
       "      <td>21.0</td>\n",
       "      <td>Male</td>\n",
       "      <td>White</td>\n",
       "      <td>Gun</td>\n",
       "      <td>NaN</td>\n",
       "      <td>NaN</td>\n",
       "      <td>Drug or Alcohol Use</td>\n",
       "      <td>1</td>\n",
       "    </tr>\n",
       "    <tr>\n",
       "      <th>10537</th>\n",
       "      <td>26.0</td>\n",
       "      <td>Male</td>\n",
       "      <td>Hispanic</td>\n",
       "      <td>Gun</td>\n",
       "      <td>NaN</td>\n",
       "      <td>NaN</td>\n",
       "      <td>No</td>\n",
       "      <td>1</td>\n",
       "    </tr>\n",
       "    <tr>\n",
       "      <th>10538</th>\n",
       "      <td>26.0</td>\n",
       "      <td>Male</td>\n",
       "      <td>White</td>\n",
       "      <td>No Object</td>\n",
       "      <td>NaN</td>\n",
       "      <td>NaN</td>\n",
       "      <td>No</td>\n",
       "      <td>1</td>\n",
       "    </tr>\n",
       "  </tbody>\n",
       "</table>\n",
       "<p>10539 rows × 8 columns</p>\n",
       "</div>"
      ],
      "text/plain": [
       "        age gender      race      wapo_armed    wapo_flee wapo_body_camera  \\\n",
       "0      42.0   Male     White  Unknown Weapon          Car               No   \n",
       "1      22.0   Male     White       No Object  Not Fleeing              Yes   \n",
       "2      19.0   Male     White             NaN  Not Fleeing  Bystander Video   \n",
       "3      34.0   Male     White             NaN  Not Fleeing              Yes   \n",
       "4      42.0   Male     White             NaN  Not Fleeing               No   \n",
       "...     ...    ...       ...             ...          ...              ...   \n",
       "10534  49.0   Male  Hispanic    Blunt Object          NaN              NaN   \n",
       "10535  31.0   Male     Black             Gun          NaN              NaN   \n",
       "10536  21.0   Male     White             Gun          NaN              NaN   \n",
       "10537  26.0   Male  Hispanic             Gun          NaN              NaN   \n",
       "10538  26.0   Male     White       No Object          NaN              NaN   \n",
       "\n",
       "      signs_of_mental_illness  disposition_official  \n",
       "0                     Unknown                     0  \n",
       "1                          No                     0  \n",
       "2                     Unknown                     0  \n",
       "3                          No                     0  \n",
       "4                     Unknown                     0  \n",
       "...                       ...                   ...  \n",
       "10534                      No                     1  \n",
       "10535                     Yes                     1  \n",
       "10536     Drug or Alcohol Use                     1  \n",
       "10537                      No                     1  \n",
       "10538                      No                     1  \n",
       "\n",
       "[10539 rows x 8 columns]"
      ]
     },
     "execution_count": 12,
     "metadata": {},
     "output_type": "execute_result"
    }
   ],
   "source": [
    "new_df['disposition_official'].replace([\n",
    "    'Pending Investigation', 'Under investigation', 'Other',\n",
    "    'Civil Suit/Family awarded settlement', 'Cleared by DA',\n",
    "    'Pending Investigation,Administrative leave', 'Administrative leave',\n",
    "    'Pending investigation/No Known Charges',\n",
    "    'Pending investigation/No Known Charges,Other justified (Civilian board/Prosecutor/District Attorney/Coroner)',\n",
    "    'Cleared by DA,Justified by Prosecutor', 'Administrative discipline',\n",
    "    'Accidental', 'Pending Investigation,Civil suit/Pending,Justified by DA',\n",
    "    'Pending Federal Investigation (FBI)', 'Cleared,Civil suit/Pending',\n",
    "    'Unjustified by internal review',\n",
    "    'Pending investigation/No Known Chargess',\n",
    "    'Pending investigation/No Known Charges; Georgia Bureau of Investigation',\n",
    "    'Pending investigation/No Known Charges; Snohomish County Multiagency Response Team',\n",
    "    '\"Pending investigation/No Known Charges; Minnesota Bureau of Criminal Apprehension, Minnesota State Patrol, Anoka County Sheriff\\'s Office, Fridley Police Department, Lino Lakes Police Department\"',\n",
    "    'Found Excusable'\n",
    "],\n",
    "                                       0,\n",
    "                                       inplace=True)\n",
    "new_df"
   ]
  },
  {
   "cell_type": "code",
   "execution_count": 13,
   "id": "693d6660",
   "metadata": {
    "ExecuteTime": {
     "end_time": "2022-11-30T17:45:31.775658Z",
     "start_time": "2022-11-30T17:45:31.760707Z"
    }
   },
   "outputs": [
    {
     "data": {
      "text/plain": [
       "array([0, 1], dtype=int64)"
      ]
     },
     "execution_count": 13,
     "metadata": {},
     "output_type": "execute_result"
    }
   ],
   "source": [
    "new_df['disposition_official'].unique()"
   ]
  },
  {
   "cell_type": "code",
   "execution_count": 14,
   "id": "130a6064",
   "metadata": {
    "ExecuteTime": {
     "end_time": "2022-11-30T17:45:31.791611Z",
     "start_time": "2022-11-30T17:45:31.776655Z"
    }
   },
   "outputs": [
    {
     "data": {
      "text/plain": [
       "(10539, 8)"
      ]
     },
     "execution_count": 14,
     "metadata": {},
     "output_type": "execute_result"
    }
   ],
   "source": [
    "new_df.shape"
   ]
  },
  {
   "cell_type": "code",
   "execution_count": 15,
   "id": "1e2c5832",
   "metadata": {
    "ExecuteTime": {
     "end_time": "2022-11-30T17:45:31.807550Z",
     "start_time": "2022-11-30T17:45:31.792601Z"
    }
   },
   "outputs": [
    {
     "name": "stdout",
     "output_type": "stream",
     "text": [
      "<class 'pandas.core.frame.DataFrame'>\n",
      "RangeIndex: 10539 entries, 0 to 10538\n",
      "Data columns (total 8 columns):\n",
      " #   Column                   Non-Null Count  Dtype  \n",
      "---  ------                   --------------  -----  \n",
      " 0   age                      10127 non-null  float64\n",
      " 1   gender                   10536 non-null  object \n",
      " 2   race                     10452 non-null  object \n",
      " 3   wapo_armed               10252 non-null  object \n",
      " 4   wapo_flee                7138 non-null   object \n",
      " 5   wapo_body_camera         6969 non-null   object \n",
      " 6   signs_of_mental_illness  10316 non-null  object \n",
      " 7   disposition_official     10539 non-null  int64  \n",
      "dtypes: float64(1), int64(1), object(6)\n",
      "memory usage: 658.8+ KB\n"
     ]
    }
   ],
   "source": [
    "new_df.info()"
   ]
  },
  {
   "cell_type": "code",
   "execution_count": 16,
   "id": "d63c02d1",
   "metadata": {
    "ExecuteTime": {
     "end_time": "2022-11-30T17:45:31.822507Z",
     "start_time": "2022-11-30T17:45:31.808547Z"
    }
   },
   "outputs": [
    {
     "data": {
      "text/plain": [
       "age                         True\n",
       "gender                      True\n",
       "race                        True\n",
       "wapo_armed                  True\n",
       "wapo_flee                   True\n",
       "wapo_body_camera            True\n",
       "signs_of_mental_illness     True\n",
       "disposition_official       False\n",
       "dtype: bool"
      ]
     },
     "execution_count": 16,
     "metadata": {},
     "output_type": "execute_result"
    }
   ],
   "source": [
    "new_df.isnull().any()"
   ]
  },
  {
   "cell_type": "code",
   "execution_count": 17,
   "id": "e6ee614f",
   "metadata": {
    "ExecuteTime": {
     "end_time": "2022-11-30T17:45:31.838454Z",
     "start_time": "2022-11-30T17:45:31.823497Z"
    }
   },
   "outputs": [
    {
     "data": {
      "text/plain": [
       "age                         412\n",
       "gender                        3\n",
       "race                         87\n",
       "wapo_armed                  287\n",
       "wapo_flee                  3401\n",
       "wapo_body_camera           3570\n",
       "signs_of_mental_illness     223\n",
       "disposition_official          0\n",
       "dtype: int64"
      ]
     },
     "execution_count": 17,
     "metadata": {},
     "output_type": "execute_result"
    }
   ],
   "source": [
    "new_df.isnull().sum()"
   ]
  },
  {
   "cell_type": "markdown",
   "id": "9f2fb9a6",
   "metadata": {},
   "source": [
    "开始处理缺失值"
   ]
  },
  {
   "cell_type": "code",
   "execution_count": 18,
   "id": "dfd938f6",
   "metadata": {
    "ExecuteTime": {
     "end_time": "2022-11-30T17:45:31.854400Z",
     "start_time": "2022-11-30T17:45:31.839444Z"
    }
   },
   "outputs": [
    {
     "data": {
      "text/plain": [
       "36.870544090056285"
      ]
     },
     "execution_count": 18,
     "metadata": {},
     "output_type": "execute_result"
    }
   ],
   "source": [
    "mean_age = new_df['age'].mean()\n",
    "mean_age"
   ]
  },
  {
   "cell_type": "code",
   "execution_count": 19,
   "id": "59f216c4",
   "metadata": {
    "ExecuteTime": {
     "end_time": "2022-11-30T17:45:31.870340Z",
     "start_time": "2022-11-30T17:45:31.856388Z"
    }
   },
   "outputs": [
    {
     "data": {
      "text/plain": [
       "age                           0\n",
       "gender                        3\n",
       "race                         87\n",
       "wapo_armed                  287\n",
       "wapo_flee                  3401\n",
       "wapo_body_camera           3570\n",
       "signs_of_mental_illness     223\n",
       "disposition_official          0\n",
       "dtype: int64"
      ]
     },
     "execution_count": 19,
     "metadata": {},
     "output_type": "execute_result"
    }
   ],
   "source": [
    "#avg replace NaN\n",
    "new_df['age'].fillna(value=mean_age, inplace=True)\n",
    "new_df['age'] = new_df['age'].astype('int64')\n",
    "new_df.isnull().sum()"
   ]
  },
  {
   "cell_type": "code",
   "execution_count": 20,
   "id": "29e97dbd",
   "metadata": {
    "ExecuteTime": {
     "end_time": "2022-11-30T17:45:31.886288Z",
     "start_time": "2022-11-30T17:45:31.871338Z"
    }
   },
   "outputs": [
    {
     "data": {
      "text/html": [
       "<div>\n",
       "<style scoped>\n",
       "    .dataframe tbody tr th:only-of-type {\n",
       "        vertical-align: middle;\n",
       "    }\n",
       "\n",
       "    .dataframe tbody tr th {\n",
       "        vertical-align: top;\n",
       "    }\n",
       "\n",
       "    .dataframe thead th {\n",
       "        text-align: right;\n",
       "    }\n",
       "</style>\n",
       "<table border=\"1\" class=\"dataframe\">\n",
       "  <thead>\n",
       "    <tr style=\"text-align: right;\">\n",
       "      <th></th>\n",
       "      <th>age</th>\n",
       "      <th>gender</th>\n",
       "      <th>race</th>\n",
       "      <th>wapo_armed</th>\n",
       "      <th>wapo_flee</th>\n",
       "      <th>wapo_body_camera</th>\n",
       "      <th>signs_of_mental_illness</th>\n",
       "      <th>disposition_official</th>\n",
       "    </tr>\n",
       "  </thead>\n",
       "  <tbody>\n",
       "    <tr>\n",
       "      <th>8399</th>\n",
       "      <td>23</td>\n",
       "      <td>Male</td>\n",
       "      <td>Hispanic</td>\n",
       "      <td>No Object</td>\n",
       "      <td>Not Fleeing</td>\n",
       "      <td>No</td>\n",
       "      <td>No</td>\n",
       "      <td>1</td>\n",
       "    </tr>\n",
       "    <tr>\n",
       "      <th>8385</th>\n",
       "      <td>30</td>\n",
       "      <td>Male</td>\n",
       "      <td>White</td>\n",
       "      <td>Gun</td>\n",
       "      <td>Car</td>\n",
       "      <td>No</td>\n",
       "      <td>No</td>\n",
       "      <td>0</td>\n",
       "    </tr>\n",
       "    <tr>\n",
       "      <th>6561</th>\n",
       "      <td>25</td>\n",
       "      <td>Male</td>\n",
       "      <td>White</td>\n",
       "      <td>Undetermined</td>\n",
       "      <td>Not Fleeing</td>\n",
       "      <td>No</td>\n",
       "      <td>No</td>\n",
       "      <td>0</td>\n",
       "    </tr>\n",
       "    <tr>\n",
       "      <th>1344</th>\n",
       "      <td>49</td>\n",
       "      <td>Male</td>\n",
       "      <td>Black</td>\n",
       "      <td>Knife</td>\n",
       "      <td>NaN</td>\n",
       "      <td>Yes</td>\n",
       "      <td>No</td>\n",
       "      <td>0</td>\n",
       "    </tr>\n",
       "    <tr>\n",
       "      <th>194</th>\n",
       "      <td>37</td>\n",
       "      <td>Male</td>\n",
       "      <td>Hispanic</td>\n",
       "      <td>Gun</td>\n",
       "      <td>Foot</td>\n",
       "      <td>NaN</td>\n",
       "      <td>Unknown</td>\n",
       "      <td>0</td>\n",
       "    </tr>\n",
       "  </tbody>\n",
       "</table>\n",
       "</div>"
      ],
      "text/plain": [
       "      age gender      race    wapo_armed    wapo_flee wapo_body_camera  \\\n",
       "8399   23   Male  Hispanic     No Object  Not Fleeing               No   \n",
       "8385   30   Male     White           Gun          Car               No   \n",
       "6561   25   Male     White  Undetermined  Not Fleeing               No   \n",
       "1344   49   Male     Black         Knife          NaN              Yes   \n",
       "194    37   Male  Hispanic           Gun         Foot              NaN   \n",
       "\n",
       "     signs_of_mental_illness  disposition_official  \n",
       "8399                      No                     1  \n",
       "8385                      No                     0  \n",
       "6561                      No                     0  \n",
       "1344                      No                     0  \n",
       "194                  Unknown                     0  "
      ]
     },
     "execution_count": 20,
     "metadata": {},
     "output_type": "execute_result"
    }
   ],
   "source": [
    "new_df.sample(5)"
   ]
  },
  {
   "cell_type": "code",
   "execution_count": 21,
   "id": "cc396e07",
   "metadata": {
    "ExecuteTime": {
     "end_time": "2022-11-30T17:45:31.902241Z",
     "start_time": "2022-11-30T17:45:31.887283Z"
    }
   },
   "outputs": [
    {
     "data": {
      "text/plain": [
       "array(['Male', 'Female', 'Transgender Male', 'Unknown', nan,\n",
       "       'Transgender'], dtype=object)"
      ]
     },
     "execution_count": 21,
     "metadata": {},
     "output_type": "execute_result"
    }
   ],
   "source": [
    "# deal with \"gender\"\n",
    "new_df['gender'].unique()"
   ]
  },
  {
   "cell_type": "code",
   "execution_count": 22,
   "id": "97264609",
   "metadata": {
    "ExecuteTime": {
     "end_time": "2022-11-30T17:45:31.918187Z",
     "start_time": "2022-11-30T17:45:31.904227Z"
    }
   },
   "outputs": [
    {
     "data": {
      "text/html": [
       "<div>\n",
       "<style scoped>\n",
       "    .dataframe tbody tr th:only-of-type {\n",
       "        vertical-align: middle;\n",
       "    }\n",
       "\n",
       "    .dataframe tbody tr th {\n",
       "        vertical-align: top;\n",
       "    }\n",
       "\n",
       "    .dataframe thead th {\n",
       "        text-align: right;\n",
       "    }\n",
       "</style>\n",
       "<table border=\"1\" class=\"dataframe\">\n",
       "  <thead>\n",
       "    <tr style=\"text-align: right;\">\n",
       "      <th></th>\n",
       "      <th>age</th>\n",
       "      <th>gender</th>\n",
       "      <th>race</th>\n",
       "      <th>wapo_armed</th>\n",
       "      <th>wapo_flee</th>\n",
       "      <th>wapo_body_camera</th>\n",
       "      <th>signs_of_mental_illness</th>\n",
       "      <th>disposition_official</th>\n",
       "    </tr>\n",
       "  </thead>\n",
       "  <tbody>\n",
       "    <tr>\n",
       "      <th>0</th>\n",
       "      <td>42</td>\n",
       "      <td>Male</td>\n",
       "      <td>White</td>\n",
       "      <td>Unknown Weapon</td>\n",
       "      <td>Car</td>\n",
       "      <td>No</td>\n",
       "      <td>Unknown</td>\n",
       "      <td>0</td>\n",
       "    </tr>\n",
       "    <tr>\n",
       "      <th>1</th>\n",
       "      <td>22</td>\n",
       "      <td>Male</td>\n",
       "      <td>White</td>\n",
       "      <td>No Object</td>\n",
       "      <td>Not Fleeing</td>\n",
       "      <td>Yes</td>\n",
       "      <td>No</td>\n",
       "      <td>0</td>\n",
       "    </tr>\n",
       "    <tr>\n",
       "      <th>2</th>\n",
       "      <td>19</td>\n",
       "      <td>Male</td>\n",
       "      <td>White</td>\n",
       "      <td>NaN</td>\n",
       "      <td>Not Fleeing</td>\n",
       "      <td>Bystander Video</td>\n",
       "      <td>Unknown</td>\n",
       "      <td>0</td>\n",
       "    </tr>\n",
       "    <tr>\n",
       "      <th>3</th>\n",
       "      <td>34</td>\n",
       "      <td>Male</td>\n",
       "      <td>White</td>\n",
       "      <td>NaN</td>\n",
       "      <td>Not Fleeing</td>\n",
       "      <td>Yes</td>\n",
       "      <td>No</td>\n",
       "      <td>0</td>\n",
       "    </tr>\n",
       "    <tr>\n",
       "      <th>4</th>\n",
       "      <td>42</td>\n",
       "      <td>Male</td>\n",
       "      <td>White</td>\n",
       "      <td>NaN</td>\n",
       "      <td>Not Fleeing</td>\n",
       "      <td>No</td>\n",
       "      <td>Unknown</td>\n",
       "      <td>0</td>\n",
       "    </tr>\n",
       "    <tr>\n",
       "      <th>...</th>\n",
       "      <td>...</td>\n",
       "      <td>...</td>\n",
       "      <td>...</td>\n",
       "      <td>...</td>\n",
       "      <td>...</td>\n",
       "      <td>...</td>\n",
       "      <td>...</td>\n",
       "      <td>...</td>\n",
       "    </tr>\n",
       "    <tr>\n",
       "      <th>10534</th>\n",
       "      <td>49</td>\n",
       "      <td>Male</td>\n",
       "      <td>Hispanic</td>\n",
       "      <td>Blunt Object</td>\n",
       "      <td>NaN</td>\n",
       "      <td>NaN</td>\n",
       "      <td>No</td>\n",
       "      <td>1</td>\n",
       "    </tr>\n",
       "    <tr>\n",
       "      <th>10535</th>\n",
       "      <td>31</td>\n",
       "      <td>Male</td>\n",
       "      <td>Black</td>\n",
       "      <td>Gun</td>\n",
       "      <td>NaN</td>\n",
       "      <td>NaN</td>\n",
       "      <td>Yes</td>\n",
       "      <td>1</td>\n",
       "    </tr>\n",
       "    <tr>\n",
       "      <th>10536</th>\n",
       "      <td>21</td>\n",
       "      <td>Male</td>\n",
       "      <td>White</td>\n",
       "      <td>Gun</td>\n",
       "      <td>NaN</td>\n",
       "      <td>NaN</td>\n",
       "      <td>Drug or Alcohol Use</td>\n",
       "      <td>1</td>\n",
       "    </tr>\n",
       "    <tr>\n",
       "      <th>10537</th>\n",
       "      <td>26</td>\n",
       "      <td>Male</td>\n",
       "      <td>Hispanic</td>\n",
       "      <td>Gun</td>\n",
       "      <td>NaN</td>\n",
       "      <td>NaN</td>\n",
       "      <td>No</td>\n",
       "      <td>1</td>\n",
       "    </tr>\n",
       "    <tr>\n",
       "      <th>10538</th>\n",
       "      <td>26</td>\n",
       "      <td>Male</td>\n",
       "      <td>White</td>\n",
       "      <td>No Object</td>\n",
       "      <td>NaN</td>\n",
       "      <td>NaN</td>\n",
       "      <td>No</td>\n",
       "      <td>1</td>\n",
       "    </tr>\n",
       "  </tbody>\n",
       "</table>\n",
       "<p>10539 rows × 8 columns</p>\n",
       "</div>"
      ],
      "text/plain": [
       "       age gender      race      wapo_armed    wapo_flee wapo_body_camera  \\\n",
       "0       42   Male     White  Unknown Weapon          Car               No   \n",
       "1       22   Male     White       No Object  Not Fleeing              Yes   \n",
       "2       19   Male     White             NaN  Not Fleeing  Bystander Video   \n",
       "3       34   Male     White             NaN  Not Fleeing              Yes   \n",
       "4       42   Male     White             NaN  Not Fleeing               No   \n",
       "...    ...    ...       ...             ...          ...              ...   \n",
       "10534   49   Male  Hispanic    Blunt Object          NaN              NaN   \n",
       "10535   31   Male     Black             Gun          NaN              NaN   \n",
       "10536   21   Male     White             Gun          NaN              NaN   \n",
       "10537   26   Male  Hispanic             Gun          NaN              NaN   \n",
       "10538   26   Male     White       No Object          NaN              NaN   \n",
       "\n",
       "      signs_of_mental_illness  disposition_official  \n",
       "0                     Unknown                     0  \n",
       "1                          No                     0  \n",
       "2                     Unknown                     0  \n",
       "3                          No                     0  \n",
       "4                     Unknown                     0  \n",
       "...                       ...                   ...  \n",
       "10534                      No                     1  \n",
       "10535                     Yes                     1  \n",
       "10536     Drug or Alcohol Use                     1  \n",
       "10537                      No                     1  \n",
       "10538                      No                     1  \n",
       "\n",
       "[10539 rows x 8 columns]"
      ]
     },
     "execution_count": 22,
     "metadata": {},
     "output_type": "execute_result"
    }
   ],
   "source": [
    "new_df['gender'].fillna(value='Other', inplace=True)\n",
    "new_df['gender'].replace(['Transgender Male', 'Unknown', 'Transgender'],\n",
    "                         'Other',\n",
    "                         inplace=True)\n",
    "new_df"
   ]
  },
  {
   "cell_type": "code",
   "execution_count": 23,
   "id": "640c1a8f",
   "metadata": {
    "ExecuteTime": {
     "end_time": "2022-11-30T17:45:31.934135Z",
     "start_time": "2022-11-30T17:45:31.919177Z"
    }
   },
   "outputs": [
    {
     "data": {
      "text/plain": [
       "array(['White', 'Unknown race', 'Hispanic', 'Native American', 'Black',\n",
       "       nan, 'Asian', 'Native Hawaiian and Pacific Islander'], dtype=object)"
      ]
     },
     "execution_count": 23,
     "metadata": {},
     "output_type": "execute_result"
    }
   ],
   "source": [
    "# race\n",
    "new_df['race'].unique()"
   ]
  },
  {
   "cell_type": "code",
   "execution_count": 24,
   "id": "7877b8a5",
   "metadata": {
    "ExecuteTime": {
     "end_time": "2022-11-30T17:45:31.950080Z",
     "start_time": "2022-11-30T17:45:31.935124Z"
    }
   },
   "outputs": [
    {
     "data": {
      "text/plain": [
       "age                           0\n",
       "gender                        0\n",
       "race                          0\n",
       "wapo_armed                  287\n",
       "wapo_flee                  3401\n",
       "wapo_body_camera           3570\n",
       "signs_of_mental_illness     223\n",
       "disposition_official          0\n",
       "dtype: int64"
      ]
     },
     "execution_count": 24,
     "metadata": {},
     "output_type": "execute_result"
    }
   ],
   "source": [
    "new_df['race'].fillna(value='Other', inplace=True)\n",
    "new_df['race'].replace('Unknown race', 'Other', inplace=True)\n",
    "new_df.isnull().sum()"
   ]
  },
  {
   "cell_type": "code",
   "execution_count": 25,
   "id": "063b5946",
   "metadata": {
    "ExecuteTime": {
     "end_time": "2022-11-30T17:45:31.966020Z",
     "start_time": "2022-11-30T17:45:31.951070Z"
    }
   },
   "outputs": [
    {
     "data": {
      "text/plain": [
       "White                                   4545\n",
       "Black                                   2645\n",
       "Hispanic                                1858\n",
       "Other                                   1140\n",
       "Asian                                    147\n",
       "Native American                          144\n",
       "Native Hawaiian and Pacific Islander      60\n",
       "Name: race, dtype: int64"
      ]
     },
     "execution_count": 25,
     "metadata": {},
     "output_type": "execute_result"
    }
   ],
   "source": [
    "new_df['race'].value_counts()"
   ]
  },
  {
   "cell_type": "code",
   "execution_count": 26,
   "id": "639165da",
   "metadata": {
    "ExecuteTime": {
     "end_time": "2022-11-30T17:45:31.981974Z",
     "start_time": "2022-11-30T17:45:31.967017Z"
    }
   },
   "outputs": [
    {
     "data": {
      "text/plain": [
       "array(['Unknown Weapon', 'No Object', nan, 'Knife', 'Razor', 'Vehicle',\n",
       "       'Undetermined', 'Gun', 'Blunt Object', 'Tow Hitch', 'Pole',\n",
       "       'Replica Gun', 'Taser', 'Bottle', 'Scissors', 'Wrench', 'Machete',\n",
       "       'Knife and Rocks', 'Hatchet', 'BB Gun', 'Knife, Machete',\n",
       "       'Metal Pipe', 'Vehicle and Gun', 'Airsoft Gun', 'Sword',\n",
       "       'Molotov Cocktail', 'Sharp Object', 'Cane', 'Metal Object',\n",
       "       'Bow and Arrow', 'Baseball Bat', 'Ax', 'Gun and axe',\n",
       "       'Starter pistol', 'Archery Rifle', 'Wooden Stick', 'Sledgehammer',\n",
       "       'Garden Tool', 'Explosive', 'Edged Weapon', 'Ice Pick', 'Hammer',\n",
       "       'Car, Knife and Mace', 'Box Cutter, Round Cylindrical Object',\n",
       "       'Glass Shard', 'Tire Iron', 'Knife, Sword', 'Bike Lock',\n",
       "       'Knife, Flare Gun', 'Toy Weapon', 'Gun, Knife', 'Gun, Vehicle',\n",
       "       'Rock', 'Shovel', 'Piece of Wood', 'Screwdriver', 'Hand Sanitizer',\n",
       "       'Hammer, Pickaxe', 'Vehicle, Gun', 'Gun and Knife',\n",
       "       'Gun and Vehicle', 'Fence Post', 'Lighter', 'Vehicle and Knife',\n",
       "       'Sharp Objects', 'Knife, Hammer', 'Crowbar', 'Hand Tools',\n",
       "       'Metal Pole', 'Pipe', 'Knife, Vehicle', 'Hatchet, Hammer',\n",
       "       'Microphone', 'Box Cutter', 'Gun and Machete',\n",
       "       'Straight Edge Razor', 'Curtain Rod', 'Pepper Spray',\n",
       "       'Samurai Sword', 'Gun and Car', 'Windshield Wiper', 'Pick-Axe',\n",
       "       'Baton', 'Meat Cleaver', 'Chair', 'Chain', 'Vehicle and Machete',\n",
       "       'Baseball Bat and Knife', 'Wasp Spray', 'Barstool',\n",
       "       'Walking Stick', 'Wrench, Hammer', 'Beer Bottle', 'Flag Pole',\n",
       "       'Lawn Mower Blade', 'Crossbow', 'Lamp', 'Incendiary Device',\n",
       "       'Pole and Knife', 'Lighter Fluid', 'Pitchfork', 'Gun and Sword',\n",
       "       'Pen', 'Chainsaw', 'Fireworks', 'Gun and Hatchet',\n",
       "       'Wooden Doorjamb', 'Baseball Bat and Bottle',\n",
       "       'Electric Razor on Cord', 'Metal Stick', 'Golf Club',\n",
       "       'Air Conditioner and Glass Bottle', 'Oar', 'Bat', 'Metal Take',\n",
       "       'Brick', 'Motorcycle', 'Bayonet', 'Spear', 'Stick', 'Flashlight',\n",
       "       'Hand Torch', 'Baseball Bat and Fireplace Poker', 'Toy Broomstick',\n",
       "       'Bean-Bag Gun', 'Binoculars', 'Stapler', 'Railroad Spike',\n",
       "       'Guns and Explosives', \"Contractor's Level\", 'Carjack', 'Flagpole',\n",
       "       'Metal Hand Tool', 'Cordless Drill', 'Nail Gun', 'Sock',\n",
       "       'Wooden Nightstand', 'Cell Phone', 'Baseball Bat and Screwdriver',\n",
       "       'Metal Bar', 'Knife and Crowbar', 'Knife and Screwdriver',\n",
       "       'Metal Post', 'Toy Sword', 'Rocks', 'Claw Hammer', 'Cologne',\n",
       "       'Broken Glass Bottle', 'Cane and Knife', 'Knife and Stick',\n",
       "       'Blade', 'Gun and Explosives', 'Hockey Stick', 'Garden Shears',\n",
       "       'Knife and Gun', 'Ax and Knife', 'Cleaver', 'Game Controller',\n",
       "       'Guns', 'Mallett', 'Machete and Pipe', 'Knife and Hammer',\n",
       "       'Hunting Bow', 'Knife and Bat', 'Gun and Knives',\n",
       "       'Knife and Taser', 'Hammer and Knife', 'Knife and Scissors',\n",
       "       'Fireworks and Gun', 'Metal Tool', 'Explosives and Suns',\n",
       "       'Flare Gun', 'Tree Branch', 'Bike', 'Table Leg', 'Tool', 'Sticks',\n",
       "       'Hot Glue Gun', 'Club'], dtype=object)"
      ]
     },
     "execution_count": 26,
     "metadata": {},
     "output_type": "execute_result"
    }
   ],
   "source": [
    "# deal with \"armed or unarmed\"\n",
    "new_df['wapo_armed'].unique()"
   ]
  },
  {
   "cell_type": "code",
   "execution_count": 27,
   "id": "b4a5fcae",
   "metadata": {
    "ExecuteTime": {
     "end_time": "2022-11-30T17:45:31.997913Z",
     "start_time": "2022-11-30T17:45:31.984968Z"
    }
   },
   "outputs": [],
   "source": [
    "new_df['wapo_armed'].fillna(value='Unknown', inplace=True)"
   ]
  },
  {
   "cell_type": "code",
   "execution_count": 28,
   "id": "52681c0f",
   "metadata": {
    "ExecuteTime": {
     "end_time": "2022-11-30T17:45:32.013868Z",
     "start_time": "2022-11-30T17:45:31.998910Z"
    }
   },
   "outputs": [],
   "source": [
    "weapons_type = list(new_df['wapo_armed'].unique())\n",
    "\n",
    "weapons_type.remove('No Object')\n",
    "\n",
    "\n",
    "def weapon(wapo_armed):\n",
    "    if wapo_armed in weapons_type:\n",
    "        return 1\n",
    "    else:\n",
    "        return 0\n",
    "\n",
    "\n",
    "new_df['wapo_armed'] = new_df['wapo_armed'].apply(weapon)"
   ]
  },
  {
   "cell_type": "code",
   "execution_count": 29,
   "id": "cda070a8",
   "metadata": {
    "ExecuteTime": {
     "end_time": "2022-11-30T17:45:32.029816Z",
     "start_time": "2022-11-30T17:45:32.014857Z"
    }
   },
   "outputs": [
    {
     "data": {
      "text/plain": [
       "array([1, 0], dtype=int64)"
      ]
     },
     "execution_count": 29,
     "metadata": {},
     "output_type": "execute_result"
    }
   ],
   "source": [
    "new_df['wapo_armed'].unique()"
   ]
  },
  {
   "cell_type": "code",
   "execution_count": 30,
   "id": "d7fd8a04",
   "metadata": {
    "ExecuteTime": {
     "end_time": "2022-11-30T17:45:32.045761Z",
     "start_time": "2022-11-30T17:45:32.030803Z"
    },
    "scrolled": true
   },
   "outputs": [
    {
     "data": {
      "text/html": [
       "<div>\n",
       "<style scoped>\n",
       "    .dataframe tbody tr th:only-of-type {\n",
       "        vertical-align: middle;\n",
       "    }\n",
       "\n",
       "    .dataframe tbody tr th {\n",
       "        vertical-align: top;\n",
       "    }\n",
       "\n",
       "    .dataframe thead th {\n",
       "        text-align: right;\n",
       "    }\n",
       "</style>\n",
       "<table border=\"1\" class=\"dataframe\">\n",
       "  <thead>\n",
       "    <tr style=\"text-align: right;\">\n",
       "      <th></th>\n",
       "      <th>age</th>\n",
       "      <th>gender</th>\n",
       "      <th>race</th>\n",
       "      <th>wapo_armed</th>\n",
       "      <th>wapo_flee</th>\n",
       "      <th>wapo_body_camera</th>\n",
       "      <th>signs_of_mental_illness</th>\n",
       "      <th>disposition_official</th>\n",
       "    </tr>\n",
       "  </thead>\n",
       "  <tbody>\n",
       "    <tr>\n",
       "      <th>0</th>\n",
       "      <td>42</td>\n",
       "      <td>Male</td>\n",
       "      <td>White</td>\n",
       "      <td>1</td>\n",
       "      <td>Car</td>\n",
       "      <td>No</td>\n",
       "      <td>Unknown</td>\n",
       "      <td>0</td>\n",
       "    </tr>\n",
       "    <tr>\n",
       "      <th>1</th>\n",
       "      <td>22</td>\n",
       "      <td>Male</td>\n",
       "      <td>White</td>\n",
       "      <td>0</td>\n",
       "      <td>Not Fleeing</td>\n",
       "      <td>Yes</td>\n",
       "      <td>No</td>\n",
       "      <td>0</td>\n",
       "    </tr>\n",
       "    <tr>\n",
       "      <th>2</th>\n",
       "      <td>19</td>\n",
       "      <td>Male</td>\n",
       "      <td>White</td>\n",
       "      <td>1</td>\n",
       "      <td>Not Fleeing</td>\n",
       "      <td>Bystander Video</td>\n",
       "      <td>Unknown</td>\n",
       "      <td>0</td>\n",
       "    </tr>\n",
       "    <tr>\n",
       "      <th>3</th>\n",
       "      <td>34</td>\n",
       "      <td>Male</td>\n",
       "      <td>White</td>\n",
       "      <td>1</td>\n",
       "      <td>Not Fleeing</td>\n",
       "      <td>Yes</td>\n",
       "      <td>No</td>\n",
       "      <td>0</td>\n",
       "    </tr>\n",
       "    <tr>\n",
       "      <th>4</th>\n",
       "      <td>42</td>\n",
       "      <td>Male</td>\n",
       "      <td>White</td>\n",
       "      <td>1</td>\n",
       "      <td>Not Fleeing</td>\n",
       "      <td>No</td>\n",
       "      <td>Unknown</td>\n",
       "      <td>0</td>\n",
       "    </tr>\n",
       "  </tbody>\n",
       "</table>\n",
       "</div>"
      ],
      "text/plain": [
       "   age gender   race  wapo_armed    wapo_flee wapo_body_camera  \\\n",
       "0   42   Male  White           1          Car               No   \n",
       "1   22   Male  White           0  Not Fleeing              Yes   \n",
       "2   19   Male  White           1  Not Fleeing  Bystander Video   \n",
       "3   34   Male  White           1  Not Fleeing              Yes   \n",
       "4   42   Male  White           1  Not Fleeing               No   \n",
       "\n",
       "  signs_of_mental_illness  disposition_official  \n",
       "0                 Unknown                     0  \n",
       "1                      No                     0  \n",
       "2                 Unknown                     0  \n",
       "3                      No                     0  \n",
       "4                 Unknown                     0  "
      ]
     },
     "execution_count": 30,
     "metadata": {},
     "output_type": "execute_result"
    }
   ],
   "source": [
    "new_df.head()"
   ]
  },
  {
   "cell_type": "code",
   "execution_count": 31,
   "id": "b6ffbd56",
   "metadata": {
    "ExecuteTime": {
     "end_time": "2022-11-30T17:45:32.061707Z",
     "start_time": "2022-11-30T17:45:32.046749Z"
    }
   },
   "outputs": [
    {
     "data": {
      "text/plain": [
       "No                     6591\n",
       "Yes                    1953\n",
       "Unknown                1401\n",
       "Drug or Alcohol Use     371\n",
       "Name: signs_of_mental_illness, dtype: int64"
      ]
     },
     "execution_count": 31,
     "metadata": {},
     "output_type": "execute_result"
    }
   ],
   "source": [
    "# deal with \"has mental illness?\"\n",
    "new_df['signs_of_mental_illness'].value_counts()"
   ]
  },
  {
   "cell_type": "code",
   "execution_count": 32,
   "id": "0e0a1664",
   "metadata": {
    "ExecuteTime": {
     "end_time": "2022-11-30T17:45:32.077653Z",
     "start_time": "2022-11-30T17:45:32.062697Z"
    }
   },
   "outputs": [
    {
     "data": {
      "text/plain": [
       "age                           0\n",
       "gender                        0\n",
       "race                          0\n",
       "wapo_armed                    0\n",
       "wapo_flee                  3401\n",
       "wapo_body_camera           3570\n",
       "signs_of_mental_illness       0\n",
       "disposition_official          0\n",
       "dtype: int64"
      ]
     },
     "execution_count": 32,
     "metadata": {},
     "output_type": "execute_result"
    }
   ],
   "source": [
    "new_df['signs_of_mental_illness'].fillna(value=1, inplace=True)\n",
    "new_df['signs_of_mental_illness'].replace(\n",
    "    {\n",
    "        'Yes': 1,\n",
    "        'Unknown': 1,\n",
    "        'Drug or Alcohol Use': 1,\n",
    "        'No': 0\n",
    "    }, inplace=True)\n",
    "new_df.isnull().sum()"
   ]
  },
  {
   "cell_type": "code",
   "execution_count": 33,
   "id": "bfa7d745",
   "metadata": {
    "ExecuteTime": {
     "end_time": "2022-11-30T17:45:32.093600Z",
     "start_time": "2022-11-30T17:45:32.078643Z"
    }
   },
   "outputs": [
    {
     "data": {
      "text/plain": [
       "array([1, 0], dtype=int64)"
      ]
     },
     "execution_count": 33,
     "metadata": {},
     "output_type": "execute_result"
    }
   ],
   "source": [
    "new_df['signs_of_mental_illness'].unique()"
   ]
  },
  {
   "cell_type": "code",
   "execution_count": 34,
   "id": "3c95ef14",
   "metadata": {
    "ExecuteTime": {
     "end_time": "2022-11-30T17:45:32.109549Z",
     "start_time": "2022-11-30T17:45:32.094590Z"
    }
   },
   "outputs": [
    {
     "data": {
      "text/plain": [
       "0    6591\n",
       "1    3948\n",
       "Name: signs_of_mental_illness, dtype: int64"
      ]
     },
     "execution_count": 34,
     "metadata": {},
     "output_type": "execute_result"
    }
   ],
   "source": [
    "new_df['signs_of_mental_illness'].value_counts()"
   ]
  },
  {
   "cell_type": "code",
   "execution_count": 35,
   "id": "5488f519",
   "metadata": {
    "ExecuteTime": {
     "end_time": "2022-11-30T17:45:32.124496Z",
     "start_time": "2022-11-30T17:45:32.110537Z"
    },
    "scrolled": false
   },
   "outputs": [
    {
     "data": {
      "text/plain": [
       "array(['Car', 'Not Fleeing', 'Foot', 'Car, Foot', nan, 'Other',\n",
       "       'Foot, Car'], dtype=object)"
      ]
     },
     "execution_count": 35,
     "metadata": {},
     "output_type": "execute_result"
    }
   ],
   "source": [
    "# deal with \"whether flee\"\n",
    "new_df['wapo_flee'].unique()"
   ]
  },
  {
   "cell_type": "code",
   "execution_count": 36,
   "id": "bd68adea",
   "metadata": {
    "ExecuteTime": {
     "end_time": "2022-11-30T17:45:32.140439Z",
     "start_time": "2022-11-30T17:45:32.125487Z"
    },
    "code_folding": []
   },
   "outputs": [
    {
     "data": {
      "text/plain": [
       "age                           0\n",
       "gender                        0\n",
       "race                          0\n",
       "wapo_armed                    0\n",
       "wapo_flee                     0\n",
       "wapo_body_camera           3570\n",
       "signs_of_mental_illness       0\n",
       "disposition_official          0\n",
       "dtype: int64"
      ]
     },
     "execution_count": 36,
     "metadata": {},
     "output_type": "execute_result"
    }
   ],
   "source": [
    "new_df['wapo_flee'].fillna(value='Unknown', inplace=True)\n",
    "new_df['wapo_flee'].replace([\n",
    "    'Car', 'Foot', 'Car, Foot', 'Other', 'Unknown', 'Foot, Car', 'Not Fleeing'\n",
    "], [1, 1, 1, 1, 1, 1, 0],\n",
    "                            inplace=True)\n",
    "new_df.isnull().sum()"
   ]
  },
  {
   "cell_type": "code",
   "execution_count": 37,
   "id": "b920cd98",
   "metadata": {
    "ExecuteTime": {
     "end_time": "2022-11-30T17:45:32.156390Z",
     "start_time": "2022-11-30T17:45:32.141433Z"
    }
   },
   "outputs": [
    {
     "data": {
      "text/plain": [
       "array([1, 0], dtype=int64)"
      ]
     },
     "execution_count": 37,
     "metadata": {},
     "output_type": "execute_result"
    }
   ],
   "source": [
    "new_df['wapo_flee'].unique()"
   ]
  },
  {
   "cell_type": "code",
   "execution_count": 38,
   "id": "683f718b",
   "metadata": {
    "ExecuteTime": {
     "end_time": "2022-11-30T17:45:32.172336Z",
     "start_time": "2022-11-30T17:45:32.157380Z"
    }
   },
   "outputs": [
    {
     "data": {
      "text/html": [
       "<div>\n",
       "<style scoped>\n",
       "    .dataframe tbody tr th:only-of-type {\n",
       "        vertical-align: middle;\n",
       "    }\n",
       "\n",
       "    .dataframe tbody tr th {\n",
       "        vertical-align: top;\n",
       "    }\n",
       "\n",
       "    .dataframe thead th {\n",
       "        text-align: right;\n",
       "    }\n",
       "</style>\n",
       "<table border=\"1\" class=\"dataframe\">\n",
       "  <thead>\n",
       "    <tr style=\"text-align: right;\">\n",
       "      <th></th>\n",
       "      <th>age</th>\n",
       "      <th>gender</th>\n",
       "      <th>race</th>\n",
       "      <th>wapo_armed</th>\n",
       "      <th>wapo_flee</th>\n",
       "      <th>wapo_body_camera</th>\n",
       "      <th>signs_of_mental_illness</th>\n",
       "      <th>disposition_official</th>\n",
       "    </tr>\n",
       "  </thead>\n",
       "  <tbody>\n",
       "    <tr>\n",
       "      <th>0</th>\n",
       "      <td>42</td>\n",
       "      <td>Male</td>\n",
       "      <td>White</td>\n",
       "      <td>1</td>\n",
       "      <td>1</td>\n",
       "      <td>No</td>\n",
       "      <td>1</td>\n",
       "      <td>0</td>\n",
       "    </tr>\n",
       "    <tr>\n",
       "      <th>1</th>\n",
       "      <td>22</td>\n",
       "      <td>Male</td>\n",
       "      <td>White</td>\n",
       "      <td>0</td>\n",
       "      <td>0</td>\n",
       "      <td>Yes</td>\n",
       "      <td>0</td>\n",
       "      <td>0</td>\n",
       "    </tr>\n",
       "    <tr>\n",
       "      <th>2</th>\n",
       "      <td>19</td>\n",
       "      <td>Male</td>\n",
       "      <td>White</td>\n",
       "      <td>1</td>\n",
       "      <td>0</td>\n",
       "      <td>Bystander Video</td>\n",
       "      <td>1</td>\n",
       "      <td>0</td>\n",
       "    </tr>\n",
       "    <tr>\n",
       "      <th>3</th>\n",
       "      <td>34</td>\n",
       "      <td>Male</td>\n",
       "      <td>White</td>\n",
       "      <td>1</td>\n",
       "      <td>0</td>\n",
       "      <td>Yes</td>\n",
       "      <td>0</td>\n",
       "      <td>0</td>\n",
       "    </tr>\n",
       "    <tr>\n",
       "      <th>4</th>\n",
       "      <td>42</td>\n",
       "      <td>Male</td>\n",
       "      <td>White</td>\n",
       "      <td>1</td>\n",
       "      <td>0</td>\n",
       "      <td>No</td>\n",
       "      <td>1</td>\n",
       "      <td>0</td>\n",
       "    </tr>\n",
       "  </tbody>\n",
       "</table>\n",
       "</div>"
      ],
      "text/plain": [
       "   age gender   race  wapo_armed  wapo_flee wapo_body_camera  \\\n",
       "0   42   Male  White           1          1               No   \n",
       "1   22   Male  White           0          0              Yes   \n",
       "2   19   Male  White           1          0  Bystander Video   \n",
       "3   34   Male  White           1          0              Yes   \n",
       "4   42   Male  White           1          0               No   \n",
       "\n",
       "   signs_of_mental_illness  disposition_official  \n",
       "0                        1                     0  \n",
       "1                        0                     0  \n",
       "2                        1                     0  \n",
       "3                        0                     0  \n",
       "4                        1                     0  "
      ]
     },
     "execution_count": 38,
     "metadata": {},
     "output_type": "execute_result"
    }
   ],
   "source": [
    "new_df.head()"
   ]
  },
  {
   "cell_type": "code",
   "execution_count": 39,
   "id": "18873376",
   "metadata": {
    "ExecuteTime": {
     "end_time": "2022-11-30T17:45:32.188276Z",
     "start_time": "2022-11-30T17:45:32.173326Z"
    }
   },
   "outputs": [
    {
     "data": {
      "text/plain": [
       "array(['No', 'Yes', 'Bystander Video', nan, 'Surveillance Video',\n",
       "       'Dash Cam Video', 'Police Video/Other', 'Taser Video'],\n",
       "      dtype=object)"
      ]
     },
     "execution_count": 39,
     "metadata": {},
     "output_type": "execute_result"
    }
   ],
   "source": [
    "# deal with \"with camera?\"\n",
    "new_df[\"wapo_body_camera\"].unique()"
   ]
  },
  {
   "cell_type": "code",
   "execution_count": 40,
   "id": "973b0ed9",
   "metadata": {
    "ExecuteTime": {
     "end_time": "2022-11-30T17:45:32.204230Z",
     "start_time": "2022-11-30T17:45:32.189273Z"
    },
    "code_folding": []
   },
   "outputs": [],
   "source": [
    "new_df['wapo_body_camera'].fillna(value='No', inplace=True)\n",
    "new_df['wapo_body_camera'].replace(to_replace=[\n",
    "    'Bystander Video', 'Surveillance Video', 'Dash Cam Video',\n",
    "    'Police Video/Other', 'Taser Video', 'Yes'\n",
    "],\n",
    "                                   value=1,\n",
    "                                   inplace=True)\n",
    "new_df['wapo_body_camera'].replace(to_replace='No', value=0, inplace=True)"
   ]
  },
  {
   "cell_type": "code",
   "execution_count": 41,
   "id": "4c85f975",
   "metadata": {
    "ExecuteTime": {
     "end_time": "2022-11-30T17:45:32.219181Z",
     "start_time": "2022-11-30T17:45:32.205220Z"
    }
   },
   "outputs": [
    {
     "data": {
      "text/plain": [
       "array([0, 1], dtype=int64)"
      ]
     },
     "execution_count": 41,
     "metadata": {},
     "output_type": "execute_result"
    }
   ],
   "source": [
    "new_df[\"wapo_body_camera\"].unique()"
   ]
  },
  {
   "cell_type": "code",
   "execution_count": 42,
   "id": "f72e0b9f",
   "metadata": {
    "ExecuteTime": {
     "end_time": "2022-11-30T17:45:32.235126Z",
     "start_time": "2022-11-30T17:45:32.220170Z"
    },
    "scrolled": true
   },
   "outputs": [
    {
     "data": {
      "text/plain": [
       "age                        0\n",
       "gender                     0\n",
       "race                       0\n",
       "wapo_armed                 0\n",
       "wapo_flee                  0\n",
       "wapo_body_camera           0\n",
       "signs_of_mental_illness    0\n",
       "disposition_official       0\n",
       "dtype: int64"
      ]
     },
     "execution_count": 42,
     "metadata": {},
     "output_type": "execute_result"
    }
   ],
   "source": [
    "new_df.isnull().sum()"
   ]
  },
  {
   "cell_type": "code",
   "execution_count": 43,
   "id": "0cfb394b",
   "metadata": {
    "ExecuteTime": {
     "end_time": "2022-11-30T17:45:32.251077Z",
     "start_time": "2022-11-30T17:45:32.236117Z"
    },
    "scrolled": false
   },
   "outputs": [
    {
     "data": {
      "text/html": [
       "<div>\n",
       "<style scoped>\n",
       "    .dataframe tbody tr th:only-of-type {\n",
       "        vertical-align: middle;\n",
       "    }\n",
       "\n",
       "    .dataframe tbody tr th {\n",
       "        vertical-align: top;\n",
       "    }\n",
       "\n",
       "    .dataframe thead th {\n",
       "        text-align: right;\n",
       "    }\n",
       "</style>\n",
       "<table border=\"1\" class=\"dataframe\">\n",
       "  <thead>\n",
       "    <tr style=\"text-align: right;\">\n",
       "      <th></th>\n",
       "      <th>age</th>\n",
       "      <th>gender</th>\n",
       "      <th>race</th>\n",
       "      <th>wapo_armed</th>\n",
       "      <th>wapo_flee</th>\n",
       "      <th>wapo_body_camera</th>\n",
       "      <th>signs_of_mental_illness</th>\n",
       "      <th>disposition_official</th>\n",
       "    </tr>\n",
       "  </thead>\n",
       "  <tbody>\n",
       "    <tr>\n",
       "      <th>5198</th>\n",
       "      <td>26</td>\n",
       "      <td>Male</td>\n",
       "      <td>Hispanic</td>\n",
       "      <td>0</td>\n",
       "      <td>0</td>\n",
       "      <td>0</td>\n",
       "      <td>0</td>\n",
       "      <td>0</td>\n",
       "    </tr>\n",
       "    <tr>\n",
       "      <th>979</th>\n",
       "      <td>41</td>\n",
       "      <td>Male</td>\n",
       "      <td>Black</td>\n",
       "      <td>1</td>\n",
       "      <td>0</td>\n",
       "      <td>1</td>\n",
       "      <td>0</td>\n",
       "      <td>0</td>\n",
       "    </tr>\n",
       "    <tr>\n",
       "      <th>1332</th>\n",
       "      <td>36</td>\n",
       "      <td>Male</td>\n",
       "      <td>Hispanic</td>\n",
       "      <td>0</td>\n",
       "      <td>1</td>\n",
       "      <td>0</td>\n",
       "      <td>0</td>\n",
       "      <td>0</td>\n",
       "    </tr>\n",
       "    <tr>\n",
       "      <th>9927</th>\n",
       "      <td>24</td>\n",
       "      <td>Male</td>\n",
       "      <td>White</td>\n",
       "      <td>1</td>\n",
       "      <td>1</td>\n",
       "      <td>0</td>\n",
       "      <td>0</td>\n",
       "      <td>1</td>\n",
       "    </tr>\n",
       "    <tr>\n",
       "      <th>98</th>\n",
       "      <td>36</td>\n",
       "      <td>Male</td>\n",
       "      <td>Other</td>\n",
       "      <td>1</td>\n",
       "      <td>1</td>\n",
       "      <td>0</td>\n",
       "      <td>1</td>\n",
       "      <td>0</td>\n",
       "    </tr>\n",
       "    <tr>\n",
       "      <th>3465</th>\n",
       "      <td>69</td>\n",
       "      <td>Male</td>\n",
       "      <td>Other</td>\n",
       "      <td>1</td>\n",
       "      <td>0</td>\n",
       "      <td>0</td>\n",
       "      <td>1</td>\n",
       "      <td>1</td>\n",
       "    </tr>\n",
       "    <tr>\n",
       "      <th>4347</th>\n",
       "      <td>64</td>\n",
       "      <td>Male</td>\n",
       "      <td>White</td>\n",
       "      <td>1</td>\n",
       "      <td>0</td>\n",
       "      <td>0</td>\n",
       "      <td>1</td>\n",
       "      <td>0</td>\n",
       "    </tr>\n",
       "    <tr>\n",
       "      <th>2161</th>\n",
       "      <td>27</td>\n",
       "      <td>Male</td>\n",
       "      <td>Hispanic</td>\n",
       "      <td>1</td>\n",
       "      <td>1</td>\n",
       "      <td>0</td>\n",
       "      <td>1</td>\n",
       "      <td>0</td>\n",
       "    </tr>\n",
       "    <tr>\n",
       "      <th>1019</th>\n",
       "      <td>33</td>\n",
       "      <td>Male</td>\n",
       "      <td>White</td>\n",
       "      <td>1</td>\n",
       "      <td>1</td>\n",
       "      <td>0</td>\n",
       "      <td>0</td>\n",
       "      <td>0</td>\n",
       "    </tr>\n",
       "    <tr>\n",
       "      <th>6441</th>\n",
       "      <td>42</td>\n",
       "      <td>Male</td>\n",
       "      <td>Hispanic</td>\n",
       "      <td>1</td>\n",
       "      <td>0</td>\n",
       "      <td>0</td>\n",
       "      <td>0</td>\n",
       "      <td>0</td>\n",
       "    </tr>\n",
       "  </tbody>\n",
       "</table>\n",
       "</div>"
      ],
      "text/plain": [
       "      age gender      race  wapo_armed  wapo_flee  wapo_body_camera  \\\n",
       "5198   26   Male  Hispanic           0          0                 0   \n",
       "979    41   Male     Black           1          0                 1   \n",
       "1332   36   Male  Hispanic           0          1                 0   \n",
       "9927   24   Male     White           1          1                 0   \n",
       "98     36   Male     Other           1          1                 0   \n",
       "3465   69   Male     Other           1          0                 0   \n",
       "4347   64   Male     White           1          0                 0   \n",
       "2161   27   Male  Hispanic           1          1                 0   \n",
       "1019   33   Male     White           1          1                 0   \n",
       "6441   42   Male  Hispanic           1          0                 0   \n",
       "\n",
       "      signs_of_mental_illness  disposition_official  \n",
       "5198                        0                     0  \n",
       "979                         0                     0  \n",
       "1332                        0                     0  \n",
       "9927                        0                     1  \n",
       "98                          1                     0  \n",
       "3465                        1                     1  \n",
       "4347                        1                     0  \n",
       "2161                        1                     0  \n",
       "1019                        0                     0  \n",
       "6441                        0                     0  "
      ]
     },
     "execution_count": 43,
     "metadata": {},
     "output_type": "execute_result"
    }
   ],
   "source": [
    "new_df.sample(10)"
   ]
  },
  {
   "cell_type": "markdown",
   "id": "9d1803b9",
   "metadata": {},
   "source": [
    "Categorical Features using One-Hot Encoding"
   ]
  },
  {
   "cell_type": "code",
   "execution_count": 44,
   "id": "fe97da5b",
   "metadata": {
    "ExecuteTime": {
     "end_time": "2022-11-30T17:45:32.267021Z",
     "start_time": "2022-11-30T17:45:32.252063Z"
    }
   },
   "outputs": [
    {
     "data": {
      "text/html": [
       "<div>\n",
       "<style scoped>\n",
       "    .dataframe tbody tr th:only-of-type {\n",
       "        vertical-align: middle;\n",
       "    }\n",
       "\n",
       "    .dataframe tbody tr th {\n",
       "        vertical-align: top;\n",
       "    }\n",
       "\n",
       "    .dataframe thead th {\n",
       "        text-align: right;\n",
       "    }\n",
       "</style>\n",
       "<table border=\"1\" class=\"dataframe\">\n",
       "  <thead>\n",
       "    <tr style=\"text-align: right;\">\n",
       "      <th></th>\n",
       "      <th>gender</th>\n",
       "      <th>race</th>\n",
       "    </tr>\n",
       "  </thead>\n",
       "  <tbody>\n",
       "    <tr>\n",
       "      <th>0</th>\n",
       "      <td>Male</td>\n",
       "      <td>White</td>\n",
       "    </tr>\n",
       "    <tr>\n",
       "      <th>1</th>\n",
       "      <td>Male</td>\n",
       "      <td>White</td>\n",
       "    </tr>\n",
       "    <tr>\n",
       "      <th>2</th>\n",
       "      <td>Male</td>\n",
       "      <td>White</td>\n",
       "    </tr>\n",
       "    <tr>\n",
       "      <th>3</th>\n",
       "      <td>Male</td>\n",
       "      <td>White</td>\n",
       "    </tr>\n",
       "    <tr>\n",
       "      <th>4</th>\n",
       "      <td>Male</td>\n",
       "      <td>White</td>\n",
       "    </tr>\n",
       "  </tbody>\n",
       "</table>\n",
       "</div>"
      ],
      "text/plain": [
       "  gender   race\n",
       "0   Male  White\n",
       "1   Male  White\n",
       "2   Male  White\n",
       "3   Male  White\n",
       "4   Male  White"
      ]
     },
     "execution_count": 44,
     "metadata": {},
     "output_type": "execute_result"
    }
   ],
   "source": [
    "# Select only categorical variables\n",
    "new_df.select_dtypes('object').head()"
   ]
  },
  {
   "cell_type": "code",
   "execution_count": 45,
   "id": "247e349d",
   "metadata": {
    "ExecuteTime": {
     "end_time": "2022-11-30T17:45:32.281970Z",
     "start_time": "2022-11-30T17:45:32.268010Z"
    }
   },
   "outputs": [
    {
     "data": {
      "text/html": [
       "<div>\n",
       "<style scoped>\n",
       "    .dataframe tbody tr th:only-of-type {\n",
       "        vertical-align: middle;\n",
       "    }\n",
       "\n",
       "    .dataframe tbody tr th {\n",
       "        vertical-align: top;\n",
       "    }\n",
       "\n",
       "    .dataframe thead th {\n",
       "        text-align: right;\n",
       "    }\n",
       "</style>\n",
       "<table border=\"1\" class=\"dataframe\">\n",
       "  <thead>\n",
       "    <tr style=\"text-align: right;\">\n",
       "      <th></th>\n",
       "      <th>age</th>\n",
       "      <th>wapo_armed</th>\n",
       "      <th>wapo_flee</th>\n",
       "      <th>wapo_body_camera</th>\n",
       "      <th>signs_of_mental_illness</th>\n",
       "      <th>disposition_official</th>\n",
       "      <th>gender_Female</th>\n",
       "      <th>gender_Male</th>\n",
       "      <th>gender_Other</th>\n",
       "      <th>race_Asian</th>\n",
       "      <th>race_Black</th>\n",
       "      <th>race_Hispanic</th>\n",
       "      <th>race_Native American</th>\n",
       "      <th>race_Native Hawaiian and Pacific Islander</th>\n",
       "      <th>race_Other</th>\n",
       "      <th>race_White</th>\n",
       "    </tr>\n",
       "  </thead>\n",
       "  <tbody>\n",
       "    <tr>\n",
       "      <th>0</th>\n",
       "      <td>42</td>\n",
       "      <td>1</td>\n",
       "      <td>1</td>\n",
       "      <td>0</td>\n",
       "      <td>1</td>\n",
       "      <td>0</td>\n",
       "      <td>0</td>\n",
       "      <td>1</td>\n",
       "      <td>0</td>\n",
       "      <td>0</td>\n",
       "      <td>0</td>\n",
       "      <td>0</td>\n",
       "      <td>0</td>\n",
       "      <td>0</td>\n",
       "      <td>0</td>\n",
       "      <td>1</td>\n",
       "    </tr>\n",
       "    <tr>\n",
       "      <th>1</th>\n",
       "      <td>22</td>\n",
       "      <td>0</td>\n",
       "      <td>0</td>\n",
       "      <td>1</td>\n",
       "      <td>0</td>\n",
       "      <td>0</td>\n",
       "      <td>0</td>\n",
       "      <td>1</td>\n",
       "      <td>0</td>\n",
       "      <td>0</td>\n",
       "      <td>0</td>\n",
       "      <td>0</td>\n",
       "      <td>0</td>\n",
       "      <td>0</td>\n",
       "      <td>0</td>\n",
       "      <td>1</td>\n",
       "    </tr>\n",
       "    <tr>\n",
       "      <th>2</th>\n",
       "      <td>19</td>\n",
       "      <td>1</td>\n",
       "      <td>0</td>\n",
       "      <td>1</td>\n",
       "      <td>1</td>\n",
       "      <td>0</td>\n",
       "      <td>0</td>\n",
       "      <td>1</td>\n",
       "      <td>0</td>\n",
       "      <td>0</td>\n",
       "      <td>0</td>\n",
       "      <td>0</td>\n",
       "      <td>0</td>\n",
       "      <td>0</td>\n",
       "      <td>0</td>\n",
       "      <td>1</td>\n",
       "    </tr>\n",
       "    <tr>\n",
       "      <th>3</th>\n",
       "      <td>34</td>\n",
       "      <td>1</td>\n",
       "      <td>0</td>\n",
       "      <td>1</td>\n",
       "      <td>0</td>\n",
       "      <td>0</td>\n",
       "      <td>0</td>\n",
       "      <td>1</td>\n",
       "      <td>0</td>\n",
       "      <td>0</td>\n",
       "      <td>0</td>\n",
       "      <td>0</td>\n",
       "      <td>0</td>\n",
       "      <td>0</td>\n",
       "      <td>0</td>\n",
       "      <td>1</td>\n",
       "    </tr>\n",
       "    <tr>\n",
       "      <th>4</th>\n",
       "      <td>42</td>\n",
       "      <td>1</td>\n",
       "      <td>0</td>\n",
       "      <td>0</td>\n",
       "      <td>1</td>\n",
       "      <td>0</td>\n",
       "      <td>0</td>\n",
       "      <td>1</td>\n",
       "      <td>0</td>\n",
       "      <td>0</td>\n",
       "      <td>0</td>\n",
       "      <td>0</td>\n",
       "      <td>0</td>\n",
       "      <td>0</td>\n",
       "      <td>0</td>\n",
       "      <td>1</td>\n",
       "    </tr>\n",
       "  </tbody>\n",
       "</table>\n",
       "</div>"
      ],
      "text/plain": [
       "   age  wapo_armed  wapo_flee  wapo_body_camera  signs_of_mental_illness  \\\n",
       "0   42           1          1                 0                        1   \n",
       "1   22           0          0                 1                        0   \n",
       "2   19           1          0                 1                        1   \n",
       "3   34           1          0                 1                        0   \n",
       "4   42           1          0                 0                        1   \n",
       "\n",
       "   disposition_official  gender_Female  gender_Male  gender_Other  race_Asian  \\\n",
       "0                     0              0            1             0           0   \n",
       "1                     0              0            1             0           0   \n",
       "2                     0              0            1             0           0   \n",
       "3                     0              0            1             0           0   \n",
       "4                     0              0            1             0           0   \n",
       "\n",
       "   race_Black  race_Hispanic  race_Native American  \\\n",
       "0           0              0                     0   \n",
       "1           0              0                     0   \n",
       "2           0              0                     0   \n",
       "3           0              0                     0   \n",
       "4           0              0                     0   \n",
       "\n",
       "   race_Native Hawaiian and Pacific Islander  race_Other  race_White  \n",
       "0                                          0           0           1  \n",
       "1                                          0           0           1  \n",
       "2                                          0           0           1  \n",
       "3                                          0           0           1  \n",
       "4                                          0           0           1  "
      ]
     },
     "execution_count": 45,
     "metadata": {},
     "output_type": "execute_result"
    }
   ],
   "source": [
    "dummy_df = pd.get_dummies(new_df)\n",
    "dummy_df.head()"
   ]
  },
  {
   "cell_type": "code",
   "execution_count": 46,
   "id": "ad4e7460",
   "metadata": {
    "ExecuteTime": {
     "end_time": "2022-11-30T17:45:32.297918Z",
     "start_time": "2022-11-30T17:45:32.282960Z"
    }
   },
   "outputs": [
    {
     "data": {
      "text/plain": [
       "Index(['age', 'wapo_armed', 'wapo_flee', 'wapo_body_camera',\n",
       "       'signs_of_mental_illness', 'disposition_official', 'gender_Female',\n",
       "       'gender_Male', 'gender_Other', 'race_Asian', 'race_Black',\n",
       "       'race_Hispanic', 'race_Native American',\n",
       "       'race_Native Hawaiian and Pacific Islander', 'race_Other',\n",
       "       'race_White'],\n",
       "      dtype='object')"
      ]
     },
     "execution_count": 46,
     "metadata": {},
     "output_type": "execute_result"
    }
   ],
   "source": [
    "dummy_df.columns"
   ]
  },
  {
   "cell_type": "code",
   "execution_count": 47,
   "id": "3f02185e",
   "metadata": {
    "ExecuteTime": {
     "end_time": "2022-11-30T17:45:32.313864Z",
     "start_time": "2022-11-30T17:45:32.298906Z"
    }
   },
   "outputs": [
    {
     "name": "stdout",
     "output_type": "stream",
     "text": [
      "<class 'pandas.core.frame.DataFrame'>\n",
      "RangeIndex: 10539 entries, 0 to 10538\n",
      "Data columns (total 16 columns):\n",
      " #   Column                                     Non-Null Count  Dtype\n",
      "---  ------                                     --------------  -----\n",
      " 0   age                                        10539 non-null  int64\n",
      " 1   wapo_armed                                 10539 non-null  int64\n",
      " 2   wapo_flee                                  10539 non-null  int64\n",
      " 3   wapo_body_camera                           10539 non-null  int64\n",
      " 4   signs_of_mental_illness                    10539 non-null  int64\n",
      " 5   disposition_official                       10539 non-null  int64\n",
      " 6   gender_Female                              10539 non-null  uint8\n",
      " 7   gender_Male                                10539 non-null  uint8\n",
      " 8   gender_Other                               10539 non-null  uint8\n",
      " 9   race_Asian                                 10539 non-null  uint8\n",
      " 10  race_Black                                 10539 non-null  uint8\n",
      " 11  race_Hispanic                              10539 non-null  uint8\n",
      " 12  race_Native American                       10539 non-null  uint8\n",
      " 13  race_Native Hawaiian and Pacific Islander  10539 non-null  uint8\n",
      " 14  race_Other                                 10539 non-null  uint8\n",
      " 15  race_White                                 10539 non-null  uint8\n",
      "dtypes: int64(6), uint8(10)\n",
      "memory usage: 597.1 KB\n"
     ]
    }
   ],
   "source": [
    "dummy_df.info()"
   ]
  },
  {
   "cell_type": "code",
   "execution_count": 48,
   "id": "9a1bd4dc",
   "metadata": {
    "ExecuteTime": {
     "end_time": "2022-11-30T17:45:32.328814Z",
     "start_time": "2022-11-30T17:45:32.314853Z"
    }
   },
   "outputs": [
    {
     "data": {
      "text/html": [
       "<div>\n",
       "<style scoped>\n",
       "    .dataframe tbody tr th:only-of-type {\n",
       "        vertical-align: middle;\n",
       "    }\n",
       "\n",
       "    .dataframe tbody tr th {\n",
       "        vertical-align: top;\n",
       "    }\n",
       "\n",
       "    .dataframe thead th {\n",
       "        text-align: right;\n",
       "    }\n",
       "</style>\n",
       "<table border=\"1\" class=\"dataframe\">\n",
       "  <thead>\n",
       "    <tr style=\"text-align: right;\">\n",
       "      <th></th>\n",
       "      <th>age</th>\n",
       "      <th>wapo_armed</th>\n",
       "      <th>wapo_flee</th>\n",
       "      <th>wapo_body_camera</th>\n",
       "      <th>signs_of_mental_illness</th>\n",
       "      <th>disposition_official</th>\n",
       "      <th>gender_Female</th>\n",
       "      <th>gender_Male</th>\n",
       "      <th>gender_Other</th>\n",
       "      <th>race_Asian</th>\n",
       "      <th>race_Black</th>\n",
       "      <th>race_Hispanic</th>\n",
       "      <th>race_Native American</th>\n",
       "      <th>race_Native Hawaiian and Pacific Islander</th>\n",
       "      <th>race_Other</th>\n",
       "      <th>race_White</th>\n",
       "    </tr>\n",
       "  </thead>\n",
       "  <tbody>\n",
       "    <tr>\n",
       "      <th>7978</th>\n",
       "      <td>24</td>\n",
       "      <td>1</td>\n",
       "      <td>0</td>\n",
       "      <td>0</td>\n",
       "      <td>0</td>\n",
       "      <td>1</td>\n",
       "      <td>0</td>\n",
       "      <td>1</td>\n",
       "      <td>0</td>\n",
       "      <td>0</td>\n",
       "      <td>0</td>\n",
       "      <td>0</td>\n",
       "      <td>0</td>\n",
       "      <td>0</td>\n",
       "      <td>0</td>\n",
       "      <td>1</td>\n",
       "    </tr>\n",
       "    <tr>\n",
       "      <th>6587</th>\n",
       "      <td>41</td>\n",
       "      <td>1</td>\n",
       "      <td>1</td>\n",
       "      <td>0</td>\n",
       "      <td>0</td>\n",
       "      <td>0</td>\n",
       "      <td>0</td>\n",
       "      <td>1</td>\n",
       "      <td>0</td>\n",
       "      <td>0</td>\n",
       "      <td>0</td>\n",
       "      <td>0</td>\n",
       "      <td>0</td>\n",
       "      <td>0</td>\n",
       "      <td>0</td>\n",
       "      <td>1</td>\n",
       "    </tr>\n",
       "    <tr>\n",
       "      <th>6338</th>\n",
       "      <td>23</td>\n",
       "      <td>1</td>\n",
       "      <td>0</td>\n",
       "      <td>0</td>\n",
       "      <td>0</td>\n",
       "      <td>0</td>\n",
       "      <td>0</td>\n",
       "      <td>1</td>\n",
       "      <td>0</td>\n",
       "      <td>0</td>\n",
       "      <td>1</td>\n",
       "      <td>0</td>\n",
       "      <td>0</td>\n",
       "      <td>0</td>\n",
       "      <td>0</td>\n",
       "      <td>0</td>\n",
       "    </tr>\n",
       "    <tr>\n",
       "      <th>2669</th>\n",
       "      <td>32</td>\n",
       "      <td>1</td>\n",
       "      <td>0</td>\n",
       "      <td>0</td>\n",
       "      <td>0</td>\n",
       "      <td>1</td>\n",
       "      <td>0</td>\n",
       "      <td>1</td>\n",
       "      <td>0</td>\n",
       "      <td>0</td>\n",
       "      <td>0</td>\n",
       "      <td>0</td>\n",
       "      <td>0</td>\n",
       "      <td>0</td>\n",
       "      <td>0</td>\n",
       "      <td>1</td>\n",
       "    </tr>\n",
       "    <tr>\n",
       "      <th>1656</th>\n",
       "      <td>36</td>\n",
       "      <td>1</td>\n",
       "      <td>0</td>\n",
       "      <td>1</td>\n",
       "      <td>0</td>\n",
       "      <td>0</td>\n",
       "      <td>0</td>\n",
       "      <td>1</td>\n",
       "      <td>0</td>\n",
       "      <td>0</td>\n",
       "      <td>1</td>\n",
       "      <td>0</td>\n",
       "      <td>0</td>\n",
       "      <td>0</td>\n",
       "      <td>0</td>\n",
       "      <td>0</td>\n",
       "    </tr>\n",
       "    <tr>\n",
       "      <th>6781</th>\n",
       "      <td>42</td>\n",
       "      <td>0</td>\n",
       "      <td>1</td>\n",
       "      <td>0</td>\n",
       "      <td>1</td>\n",
       "      <td>1</td>\n",
       "      <td>0</td>\n",
       "      <td>1</td>\n",
       "      <td>0</td>\n",
       "      <td>0</td>\n",
       "      <td>0</td>\n",
       "      <td>1</td>\n",
       "      <td>0</td>\n",
       "      <td>0</td>\n",
       "      <td>0</td>\n",
       "      <td>0</td>\n",
       "    </tr>\n",
       "    <tr>\n",
       "      <th>6674</th>\n",
       "      <td>18</td>\n",
       "      <td>1</td>\n",
       "      <td>1</td>\n",
       "      <td>1</td>\n",
       "      <td>0</td>\n",
       "      <td>0</td>\n",
       "      <td>0</td>\n",
       "      <td>1</td>\n",
       "      <td>0</td>\n",
       "      <td>0</td>\n",
       "      <td>1</td>\n",
       "      <td>0</td>\n",
       "      <td>0</td>\n",
       "      <td>0</td>\n",
       "      <td>0</td>\n",
       "      <td>0</td>\n",
       "    </tr>\n",
       "    <tr>\n",
       "      <th>6215</th>\n",
       "      <td>43</td>\n",
       "      <td>0</td>\n",
       "      <td>0</td>\n",
       "      <td>1</td>\n",
       "      <td>1</td>\n",
       "      <td>0</td>\n",
       "      <td>0</td>\n",
       "      <td>1</td>\n",
       "      <td>0</td>\n",
       "      <td>0</td>\n",
       "      <td>1</td>\n",
       "      <td>0</td>\n",
       "      <td>0</td>\n",
       "      <td>0</td>\n",
       "      <td>0</td>\n",
       "      <td>0</td>\n",
       "    </tr>\n",
       "    <tr>\n",
       "      <th>2261</th>\n",
       "      <td>59</td>\n",
       "      <td>1</td>\n",
       "      <td>1</td>\n",
       "      <td>0</td>\n",
       "      <td>0</td>\n",
       "      <td>0</td>\n",
       "      <td>0</td>\n",
       "      <td>1</td>\n",
       "      <td>0</td>\n",
       "      <td>0</td>\n",
       "      <td>0</td>\n",
       "      <td>0</td>\n",
       "      <td>0</td>\n",
       "      <td>0</td>\n",
       "      <td>1</td>\n",
       "      <td>0</td>\n",
       "    </tr>\n",
       "    <tr>\n",
       "      <th>3488</th>\n",
       "      <td>18</td>\n",
       "      <td>1</td>\n",
       "      <td>0</td>\n",
       "      <td>0</td>\n",
       "      <td>0</td>\n",
       "      <td>0</td>\n",
       "      <td>0</td>\n",
       "      <td>1</td>\n",
       "      <td>0</td>\n",
       "      <td>0</td>\n",
       "      <td>0</td>\n",
       "      <td>1</td>\n",
       "      <td>0</td>\n",
       "      <td>0</td>\n",
       "      <td>0</td>\n",
       "      <td>0</td>\n",
       "    </tr>\n",
       "  </tbody>\n",
       "</table>\n",
       "</div>"
      ],
      "text/plain": [
       "      age  wapo_armed  wapo_flee  wapo_body_camera  signs_of_mental_illness  \\\n",
       "7978   24           1          0                 0                        0   \n",
       "6587   41           1          1                 0                        0   \n",
       "6338   23           1          0                 0                        0   \n",
       "2669   32           1          0                 0                        0   \n",
       "1656   36           1          0                 1                        0   \n",
       "6781   42           0          1                 0                        1   \n",
       "6674   18           1          1                 1                        0   \n",
       "6215   43           0          0                 1                        1   \n",
       "2261   59           1          1                 0                        0   \n",
       "3488   18           1          0                 0                        0   \n",
       "\n",
       "      disposition_official  gender_Female  gender_Male  gender_Other  \\\n",
       "7978                     1              0            1             0   \n",
       "6587                     0              0            1             0   \n",
       "6338                     0              0            1             0   \n",
       "2669                     1              0            1             0   \n",
       "1656                     0              0            1             0   \n",
       "6781                     1              0            1             0   \n",
       "6674                     0              0            1             0   \n",
       "6215                     0              0            1             0   \n",
       "2261                     0              0            1             0   \n",
       "3488                     0              0            1             0   \n",
       "\n",
       "      race_Asian  race_Black  race_Hispanic  race_Native American  \\\n",
       "7978           0           0              0                     0   \n",
       "6587           0           0              0                     0   \n",
       "6338           0           1              0                     0   \n",
       "2669           0           0              0                     0   \n",
       "1656           0           1              0                     0   \n",
       "6781           0           0              1                     0   \n",
       "6674           0           1              0                     0   \n",
       "6215           0           1              0                     0   \n",
       "2261           0           0              0                     0   \n",
       "3488           0           0              1                     0   \n",
       "\n",
       "      race_Native Hawaiian and Pacific Islander  race_Other  race_White  \n",
       "7978                                          0           0           1  \n",
       "6587                                          0           0           1  \n",
       "6338                                          0           0           0  \n",
       "2669                                          0           0           1  \n",
       "1656                                          0           0           0  \n",
       "6781                                          0           0           0  \n",
       "6674                                          0           0           0  \n",
       "6215                                          0           0           0  \n",
       "2261                                          0           1           0  \n",
       "3488                                          0           0           0  "
      ]
     },
     "execution_count": 48,
     "metadata": {},
     "output_type": "execute_result"
    }
   ],
   "source": [
    "dummy_df.sample(10)"
   ]
  },
  {
   "cell_type": "code",
   "execution_count": 49,
   "id": "8710e280",
   "metadata": {
    "ExecuteTime": {
     "end_time": "2022-11-30T17:45:32.344766Z",
     "start_time": "2022-11-30T17:45:32.329803Z"
    }
   },
   "outputs": [
    {
     "data": {
      "text/plain": [
       "age                                          0\n",
       "wapo_armed                                   0\n",
       "wapo_flee                                    0\n",
       "wapo_body_camera                             0\n",
       "signs_of_mental_illness                      0\n",
       "disposition_official                         0\n",
       "gender_Female                                0\n",
       "gender_Male                                  0\n",
       "gender_Other                                 0\n",
       "race_Asian                                   0\n",
       "race_Black                                   0\n",
       "race_Hispanic                                0\n",
       "race_Native American                         0\n",
       "race_Native Hawaiian and Pacific Islander    0\n",
       "race_Other                                   0\n",
       "race_White                                   0\n",
       "dtype: int64"
      ]
     },
     "execution_count": 49,
     "metadata": {},
     "output_type": "execute_result"
    }
   ],
   "source": [
    "dummy_df.isnull().sum()"
   ]
  },
  {
   "cell_type": "code",
   "execution_count": 50,
   "id": "b4c5d178",
   "metadata": {
    "ExecuteTime": {
     "end_time": "2022-11-30T17:45:32.360700Z",
     "start_time": "2022-11-30T17:45:32.345749Z"
    },
    "code_folding": []
   },
   "outputs": [
    {
     "data": {
      "text/plain": [
       "wapo_armed                                  -0.101359\n",
       "race_Other                                  -0.049022\n",
       "age                                         -0.039547\n",
       "wapo_body_camera                            -0.036738\n",
       "gender_Male                                 -0.032530\n",
       "race_Hispanic                               -0.026461\n",
       "race_Native Hawaiian and Pacific Islander   -0.010932\n",
       "race_Native American                        -0.009038\n",
       "gender_Other                                -0.007719\n",
       "race_White                                   0.009378\n",
       "race_Asian                                   0.023619\n",
       "gender_Female                                0.035249\n",
       "race_Black                                   0.045592\n",
       "signs_of_mental_illness                      0.053172\n",
       "wapo_flee                                    0.238706\n",
       "disposition_official                         1.000000\n",
       "Name: disposition_official, dtype: float64"
      ]
     },
     "execution_count": 50,
     "metadata": {},
     "output_type": "execute_result"
    }
   ],
   "source": [
    "# Correlations in one-hot encoded dataframe\n",
    "dummy_df.corr()['disposition_official'].sort_values()"
   ]
  },
  {
   "cell_type": "code",
   "execution_count": 51,
   "id": "b2795815",
   "metadata": {
    "ExecuteTime": {
     "end_time": "2022-11-30T17:45:32.376655Z",
     "start_time": "2022-11-30T17:45:32.361696Z"
    }
   },
   "outputs": [
    {
     "data": {
      "text/plain": [
       "0    7010\n",
       "1    3529\n",
       "Name: disposition_official, dtype: int64"
      ]
     },
     "execution_count": 51,
     "metadata": {},
     "output_type": "execute_result"
    }
   ],
   "source": [
    "dummy_df['disposition_official'].value_counts()"
   ]
  },
  {
   "cell_type": "code",
   "execution_count": 52,
   "id": "e2ad85a0",
   "metadata": {
    "ExecuteTime": {
     "end_time": "2022-11-30T17:45:32.392593Z",
     "start_time": "2022-11-30T17:45:32.377643Z"
    }
   },
   "outputs": [
    {
     "name": "stdout",
     "output_type": "stream",
     "text": [
      "<class 'pandas.core.frame.DataFrame'>\n",
      "RangeIndex: 10539 entries, 0 to 10538\n",
      "Data columns (total 16 columns):\n",
      " #   Column                                     Non-Null Count  Dtype\n",
      "---  ------                                     --------------  -----\n",
      " 0   age                                        10539 non-null  int64\n",
      " 1   wapo_armed                                 10539 non-null  int64\n",
      " 2   wapo_flee                                  10539 non-null  int64\n",
      " 3   wapo_body_camera                           10539 non-null  int64\n",
      " 4   signs_of_mental_illness                    10539 non-null  int64\n",
      " 5   disposition_official                       10539 non-null  int64\n",
      " 6   gender_Female                              10539 non-null  uint8\n",
      " 7   gender_Male                                10539 non-null  uint8\n",
      " 8   gender_Other                               10539 non-null  uint8\n",
      " 9   race_Asian                                 10539 non-null  uint8\n",
      " 10  race_Black                                 10539 non-null  uint8\n",
      " 11  race_Hispanic                              10539 non-null  uint8\n",
      " 12  race_Native American                       10539 non-null  uint8\n",
      " 13  race_Native Hawaiian and Pacific Islander  10539 non-null  uint8\n",
      " 14  race_Other                                 10539 non-null  uint8\n",
      " 15  race_White                                 10539 non-null  uint8\n",
      "dtypes: int64(6), uint8(10)\n",
      "memory usage: 597.1 KB\n"
     ]
    }
   ],
   "source": [
    "dummy_df.info()"
   ]
  },
  {
   "cell_type": "code",
   "execution_count": 53,
   "id": "b8a2ea8e",
   "metadata": {
    "ExecuteTime": {
     "end_time": "2022-11-30T17:45:33.412489Z",
     "start_time": "2022-11-30T17:45:32.393590Z"
    }
   },
   "outputs": [],
   "source": [
    "import seaborn as sns\n",
    "import matplotlib.pyplot as plt"
   ]
  },
  {
   "cell_type": "code",
   "execution_count": 54,
   "id": "a3c7f750",
   "metadata": {
    "ExecuteTime": {
     "end_time": "2022-11-30T17:45:34.205360Z",
     "start_time": "2022-11-30T17:45:33.412489Z"
    }
   },
   "outputs": [
    {
     "data": {
      "image/png": "[encoded data removed]",
      "text/plain": [
       "<Figure size 864x864 with 2 Axes>"
      ]
     },
     "metadata": {
      "needs_background": "light"
     },
     "output_type": "display_data"
    }
   ],
   "source": [
    "dfData = dummy_df.corr()\n",
    "plt.subplots(figsize=(12, 12))\n",
    "sns.heatmap(dfData, annot=True, vmax=1, square=True, cmap=\"Blues\")\n",
    "plt.savefig('./BluesStateRelation.png')\n",
    "plt.show()"
   ]
  },
  {
   "cell_type": "markdown",
   "id": "1841dc92",
   "metadata": {},
   "source": [
    "# Model Building"
   ]
  },
  {
   "cell_type": "code",
   "execution_count": 55,
   "id": "5da0a450",
   "metadata": {
    "ExecuteTime": {
     "end_time": "2022-11-30T17:45:34.298693Z",
     "start_time": "2022-11-30T17:45:34.206973Z"
    }
   },
   "outputs": [
    {
     "data": {
      "text/plain": [
       "MinMaxScaler()"
      ]
     },
     "execution_count": 55,
     "metadata": {},
     "output_type": "execute_result"
    }
   ],
   "source": [
    "from sklearn.preprocessing import MinMaxScaler\n",
    "\n",
    "scaler = MinMaxScaler()\n",
    "scaler.fit(dummy_df.drop('disposition_official', axis=1))"
   ]
  },
  {
   "cell_type": "code",
   "execution_count": 56,
   "id": "c1f173ef",
   "metadata": {
    "ExecuteTime": {
     "end_time": "2022-11-30T17:45:34.313661Z",
     "start_time": "2022-11-30T17:45:34.299708Z"
    }
   },
   "outputs": [
    {
     "data": {
      "text/plain": [
       "array([[0.38679245, 1.        , 1.        , ..., 0.        , 0.        ,\n",
       "        1.        ],\n",
       "       [0.19811321, 0.        , 0.        , ..., 0.        , 0.        ,\n",
       "        1.        ],\n",
       "       [0.16981132, 1.        , 0.        , ..., 0.        , 0.        ,\n",
       "        1.        ],\n",
       "       ...,\n",
       "       [0.18867925, 1.        , 1.        , ..., 0.        , 0.        ,\n",
       "        1.        ],\n",
       "       [0.23584906, 1.        , 1.        , ..., 0.        , 0.        ,\n",
       "        0.        ],\n",
       "       [0.23584906, 0.        , 1.        , ..., 0.        , 0.        ,\n",
       "        1.        ]])"
      ]
     },
     "execution_count": 56,
     "metadata": {},
     "output_type": "execute_result"
    }
   ],
   "source": [
    "scaled_features = scaler.transform(\n",
    "    dummy_df.drop('disposition_official', axis=1))\n",
    "scaled_features"
   ]
  },
  {
   "cell_type": "code",
   "execution_count": 57,
   "id": "6e67daf1",
   "metadata": {
    "ExecuteTime": {
     "end_time": "2022-11-30T17:45:34.361532Z",
     "start_time": "2022-11-30T17:45:34.314659Z"
    }
   },
   "outputs": [],
   "source": [
    "# Splitting data into training/testing\n",
    "from sklearn.model_selection import train_test_split"
   ]
  },
  {
   "cell_type": "code",
   "execution_count": 58,
   "id": "defe7e61",
   "metadata": {
    "ExecuteTime": {
     "end_time": "2022-11-30T17:45:34.377517Z",
     "start_time": "2022-11-30T17:45:34.362214Z"
    }
   },
   "outputs": [],
   "source": [
    "df_X = scaled_features\n",
    "df_y = dummy_df['disposition_official']\n",
    "\n",
    "X_train, X_test, y_train, y_test = train_test_split(df_X,\n",
    "                                                    df_y,\n",
    "                                                    test_size=0.2,\n",
    "                                                    random_state=20)"
   ]
  },
  {
   "cell_type": "code",
   "execution_count": 59,
   "id": "04729b90",
   "metadata": {
    "ExecuteTime": {
     "end_time": "2022-11-30T17:45:34.393565Z",
     "start_time": "2022-11-30T17:45:34.378514Z"
    }
   },
   "outputs": [],
   "source": [
    "from sklearn.metrics import accuracy_score, precision_score, recall_score, f1_score"
   ]
  },
  {
   "cell_type": "markdown",
   "id": "6cb8ab19",
   "metadata": {},
   "source": [
    "## LogisticRegression"
   ]
  },
  {
   "cell_type": "code",
   "execution_count": 60,
   "id": "f2f8ea04",
   "metadata": {
    "ExecuteTime": {
     "end_time": "2022-11-30T17:45:34.441093Z",
     "start_time": "2022-11-30T17:45:34.394542Z"
    }
   },
   "outputs": [],
   "source": [
    "from sklearn.linear_model import LogisticRegression"
   ]
  },
  {
   "cell_type": "code",
   "execution_count": 61,
   "id": "5cc940f2",
   "metadata": {
    "ExecuteTime": {
     "end_time": "2022-11-30T17:45:34.456440Z",
     "start_time": "2022-11-30T17:45:34.442121Z"
    }
   },
   "outputs": [],
   "source": [
    "log_regression = LogisticRegression()"
   ]
  },
  {
   "cell_type": "code",
   "execution_count": 62,
   "id": "addeacf2",
   "metadata": {
    "ExecuteTime": {
     "end_time": "2022-11-30T17:45:34.504035Z",
     "start_time": "2022-11-30T17:45:34.457190Z"
    }
   },
   "outputs": [
    {
     "data": {
      "text/plain": [
       "LogisticRegression()"
      ]
     },
     "execution_count": 62,
     "metadata": {},
     "output_type": "execute_result"
    }
   ],
   "source": [
    "log_regression.fit(X_train, y_train)"
   ]
  },
  {
   "cell_type": "code",
   "execution_count": 63,
   "id": "64b71363",
   "metadata": {
    "ExecuteTime": {
     "end_time": "2022-11-30T17:45:34.519983Z",
     "start_time": "2022-11-30T17:45:34.505032Z"
    }
   },
   "outputs": [],
   "source": [
    "log_predictions = log_regression.predict(X_test)"
   ]
  },
  {
   "cell_type": "code",
   "execution_count": 64,
   "id": "6b12041c",
   "metadata": {
    "ExecuteTime": {
     "end_time": "2022-11-30T17:45:34.535425Z",
     "start_time": "2022-11-30T17:45:34.520979Z"
    }
   },
   "outputs": [],
   "source": [
    "from sklearn.metrics import classification_report, confusion_matrix"
   ]
  },
  {
   "cell_type": "code",
   "execution_count": 65,
   "id": "28e3e197",
   "metadata": {
    "ExecuteTime": {
     "end_time": "2022-11-30T17:45:34.551371Z",
     "start_time": "2022-11-30T17:45:34.536421Z"
    },
    "scrolled": false
   },
   "outputs": [
    {
     "name": "stdout",
     "output_type": "stream",
     "text": [
      "LogisticRegression: \n",
      "              precision    recall  f1-score   support\n",
      "\n",
      "           0       0.67      0.92      0.78      1374\n",
      "           1       0.51      0.16      0.24       734\n",
      "\n",
      "    accuracy                           0.65      2108\n",
      "   macro avg       0.59      0.54      0.51      2108\n",
      "weighted avg       0.62      0.65      0.59      2108\n",
      "\n",
      "coef: \n",
      "[[-0.06924591 -0.52908178  1.16844179 -0.11401013  0.42464207  0.26319533\n",
      "  -0.05809093 -0.19988974  0.63239172  0.22008953 -0.10198137 -0.19942798\n",
      "  -0.17688446 -0.42191948  0.05294671]]\n",
      "intercept: \n",
      "[-1.04087909]\n",
      "Confusion matrix: \n",
      "[[1264  110]\n",
      " [ 618  116]]\n"
     ]
    }
   ],
   "source": [
    "print('LogisticRegression: ')\n",
    "print(classification_report(y_test, log_predictions))\n",
    "print('coef: ')\n",
    "print(log_regression.coef_)\n",
    "print('intercept: ')\n",
    "print(log_regression.intercept_)\n",
    "print('Confusion matrix: ')\n",
    "print(confusion_matrix(y_test, log_predictions))"
   ]
  },
  {
   "cell_type": "code",
   "execution_count": 66,
   "id": "34f93e40",
   "metadata": {
    "ExecuteTime": {
     "end_time": "2022-11-30T17:45:34.567318Z",
     "start_time": "2022-11-30T17:45:34.552368Z"
    },
    "scrolled": true
   },
   "outputs": [
    {
     "name": "stdout",
     "output_type": "stream",
     "text": [
      "Accuracy:0.6546489563567363\n",
      "Precision:0.5132743362831859\n",
      "Recall:0.15803814713896458\n",
      "F1 score:0.24166666666666667\n",
      "confusion matrix:\n",
      "[[1264  110]\n",
      " [ 618  116]]\n"
     ]
    }
   ],
   "source": [
    "print(\"Accuracy:{}\".format(accuracy_score(y_test, log_predictions)))\n",
    "print(\"Precision:{}\".format(precision_score(y_test, log_predictions)))\n",
    "print(\"Recall:{}\".format(recall_score(y_test, log_predictions)))\n",
    "print(\"F1 score:{}\".format(f1_score(y_test, log_predictions)))\n",
    "print(\"confusion matrix:\")\n",
    "print(confusion_matrix(y_test, log_predictions))"
   ]
  },
  {
   "cell_type": "markdown",
   "id": "76bfac97",
   "metadata": {},
   "source": [
    "## DecisionTreeClassifier"
   ]
  },
  {
   "cell_type": "code",
   "execution_count": 67,
   "id": "d4998697",
   "metadata": {
    "ExecuteTime": {
     "end_time": "2022-11-30T17:45:34.631070Z",
     "start_time": "2022-11-30T17:45:34.568315Z"
    }
   },
   "outputs": [],
   "source": [
    "from sklearn.tree import DecisionTreeClassifier"
   ]
  },
  {
   "cell_type": "code",
   "execution_count": 68,
   "id": "ccb617fc",
   "metadata": {
    "ExecuteTime": {
     "end_time": "2022-11-30T17:45:34.647123Z",
     "start_time": "2022-11-30T17:45:34.632059Z"
    }
   },
   "outputs": [],
   "source": [
    "Dtree = DecisionTreeClassifier()"
   ]
  },
  {
   "cell_type": "code",
   "execution_count": 69,
   "id": "5f64643d",
   "metadata": {
    "ExecuteTime": {
     "end_time": "2022-11-30T17:45:34.677545Z",
     "start_time": "2022-11-30T17:45:34.648040Z"
    }
   },
   "outputs": [
    {
     "data": {
      "text/plain": [
       "DecisionTreeClassifier()"
      ]
     },
     "execution_count": 69,
     "metadata": {},
     "output_type": "execute_result"
    }
   ],
   "source": [
    "Dtree.fit(X_train, y_train)"
   ]
  },
  {
   "cell_type": "code",
   "execution_count": 70,
   "id": "9f4e81ac",
   "metadata": {
    "ExecuteTime": {
     "end_time": "2022-11-30T17:45:34.693505Z",
     "start_time": "2022-11-30T17:45:34.678543Z"
    }
   },
   "outputs": [],
   "source": [
    "Dtree_predictions = Dtree.predict(X_test)"
   ]
  },
  {
   "cell_type": "code",
   "execution_count": 71,
   "id": "7d3134c0",
   "metadata": {
    "ExecuteTime": {
     "end_time": "2022-11-30T17:45:34.709069Z",
     "start_time": "2022-11-30T17:45:34.694500Z"
    }
   },
   "outputs": [
    {
     "name": "stdout",
     "output_type": "stream",
     "text": [
      "DecisionTreeClassifier: \n",
      "              precision    recall  f1-score   support\n",
      "\n",
      "           0       0.68      0.81      0.74      1374\n",
      "           1       0.45      0.29      0.35       734\n",
      "\n",
      "    accuracy                           0.63      2108\n",
      "   macro avg       0.56      0.55      0.54      2108\n",
      "weighted avg       0.60      0.63      0.60      2108\n",
      "\n",
      "confusion matrix:\n",
      "[[1116  258]\n",
      " [ 524  210]]\n"
     ]
    }
   ],
   "source": [
    "print('DecisionTreeClassifier: ')\n",
    "print(classification_report(y_test, Dtree_predictions))\n",
    "print(\"confusion matrix:\")\n",
    "print(confusion_matrix(y_test, Dtree_predictions))"
   ]
  },
  {
   "cell_type": "code",
   "execution_count": 72,
   "id": "f11c9077",
   "metadata": {
    "ExecuteTime": {
     "end_time": "2022-11-30T17:45:34.724552Z",
     "start_time": "2022-11-30T17:45:34.710065Z"
    }
   },
   "outputs": [
    {
     "name": "stdout",
     "output_type": "stream",
     "text": [
      "Accuracy:0.6290322580645161\n",
      "Precision:0.44871794871794873\n",
      "Recall:0.28610354223433243\n",
      "F1 score:0.3494176372712146\n"
     ]
    }
   ],
   "source": [
    "print(\"Accuracy:{}\".format(accuracy_score(y_test, Dtree_predictions)))\n",
    "print(\"Precision:{}\".format(precision_score(y_test, Dtree_predictions)))\n",
    "print(\"Recall:{}\".format(recall_score(y_test, Dtree_predictions)))\n",
    "print(\"F1 score:{}\".format(f1_score(y_test, Dtree_predictions)))"
   ]
  },
  {
   "cell_type": "markdown",
   "id": "b7f1c0bf",
   "metadata": {},
   "source": [
    "## KNeighborsClassifier"
   ]
  },
  {
   "cell_type": "code",
   "execution_count": 73,
   "id": "ccc3af69",
   "metadata": {
    "ExecuteTime": {
     "end_time": "2022-11-30T17:45:34.740543Z",
     "start_time": "2022-11-30T17:45:34.725561Z"
    }
   },
   "outputs": [],
   "source": [
    "from sklearn.neighbors import KNeighborsClassifier"
   ]
  },
  {
   "cell_type": "code",
   "execution_count": 74,
   "id": "27c8d347",
   "metadata": {
    "ExecuteTime": {
     "end_time": "2022-11-30T17:45:34.756490Z",
     "start_time": "2022-11-30T17:45:34.741533Z"
    }
   },
   "outputs": [],
   "source": [
    "KNC = KNeighborsClassifier()"
   ]
  },
  {
   "cell_type": "code",
   "execution_count": 75,
   "id": "b0a4192d",
   "metadata": {
    "ExecuteTime": {
     "end_time": "2022-11-30T17:45:34.787376Z",
     "start_time": "2022-11-30T17:45:34.757479Z"
    }
   },
   "outputs": [
    {
     "data": {
      "text/plain": [
       "KNeighborsClassifier()"
      ]
     },
     "execution_count": 75,
     "metadata": {},
     "output_type": "execute_result"
    }
   ],
   "source": [
    "KNC.fit(X_train, y_train)"
   ]
  },
  {
   "cell_type": "code",
   "execution_count": 76,
   "id": "734eee45",
   "metadata": {
    "ExecuteTime": {
     "end_time": "2022-11-30T17:45:34.883037Z",
     "start_time": "2022-11-30T17:45:34.788365Z"
    }
   },
   "outputs": [
    {
     "data": {
      "text/plain": [
       "array([0, 0, 1, ..., 1, 0, 1], dtype=int64)"
      ]
     },
     "execution_count": 76,
     "metadata": {},
     "output_type": "execute_result"
    }
   ],
   "source": [
    "KNC_predictions = KNC.predict(X_test)\n",
    "KNC_predictions"
   ]
  },
  {
   "cell_type": "code",
   "execution_count": 77,
   "id": "306d522d",
   "metadata": {
    "ExecuteTime": {
     "end_time": "2022-11-30T17:45:34.898985Z",
     "start_time": "2022-11-30T17:45:34.884027Z"
    },
    "scrolled": true
   },
   "outputs": [
    {
     "name": "stdout",
     "output_type": "stream",
     "text": [
      "KNeighborsClassifier: \n",
      "              precision    recall  f1-score   support\n",
      "\n",
      "           0       0.69      0.81      0.74      1374\n",
      "           1       0.46      0.31      0.37       734\n",
      "\n",
      "    accuracy                           0.63      2108\n",
      "   macro avg       0.57      0.56      0.56      2108\n",
      "weighted avg       0.61      0.63      0.61      2108\n",
      "\n",
      "confusion matrix:\n",
      "[[1107  267]\n",
      " [ 504  230]]\n"
     ]
    }
   ],
   "source": [
    "print('KNeighborsClassifier: ')\n",
    "print(classification_report(y_test, KNC_predictions))\n",
    "print(\"confusion matrix:\")\n",
    "print(confusion_matrix(y_test, KNC_predictions))"
   ]
  },
  {
   "cell_type": "code",
   "execution_count": 78,
   "id": "4831678f",
   "metadata": {
    "ExecuteTime": {
     "end_time": "2022-11-30T17:45:34.914954Z",
     "start_time": "2022-11-30T17:45:34.899974Z"
    },
    "scrolled": true
   },
   "outputs": [
    {
     "name": "stdout",
     "output_type": "stream",
     "text": [
      "Accuracy:0.6342504743833017\n",
      "Precision:0.46277665995975853\n",
      "Recall:0.3133514986376022\n",
      "F1 score:0.3736799350121852\n"
     ]
    }
   ],
   "source": [
    "print(\"Accuracy:{}\".format(accuracy_score(y_test, KNC_predictions)))\n",
    "print(\"Precision:{}\".format(precision_score(y_test, KNC_predictions)))\n",
    "print(\"Recall:{}\".format(recall_score(y_test, KNC_predictions)))\n",
    "print(\"F1 score:{}\".format(f1_score(y_test, KNC_predictions)))"
   ]
  },
  {
   "cell_type": "markdown",
   "id": "a0d26044",
   "metadata": {},
   "source": [
    "## SVM"
   ]
  },
  {
   "cell_type": "code",
   "execution_count": 79,
   "id": "b3b0ac15",
   "metadata": {
    "ExecuteTime": {
     "end_time": "2022-11-30T17:45:34.930941Z",
     "start_time": "2022-11-30T17:45:34.915941Z"
    }
   },
   "outputs": [],
   "source": [
    "from sklearn.svm import SVC"
   ]
  },
  {
   "cell_type": "code",
   "execution_count": 80,
   "id": "d27647d0",
   "metadata": {
    "ExecuteTime": {
     "end_time": "2022-11-30T17:45:35.751733Z",
     "start_time": "2022-11-30T17:45:34.931955Z"
    }
   },
   "outputs": [],
   "source": [
    "SVM = SVC(kernel='linear', gamma='auto', degree=1,\n",
    "          cache_size=5000).fit(X_train, y_train)"
   ]
  },
  {
   "cell_type": "code",
   "execution_count": 81,
   "id": "bb99f0b2",
   "metadata": {
    "ExecuteTime": {
     "end_time": "2022-11-30T17:45:35.939867Z",
     "start_time": "2022-11-30T17:45:35.757867Z"
    }
   },
   "outputs": [
    {
     "data": {
      "text/plain": [
       "0.6518026565464896"
      ]
     },
     "execution_count": 81,
     "metadata": {},
     "output_type": "execute_result"
    }
   ],
   "source": [
    "SVM.score(X_test, y_test)"
   ]
  },
  {
   "cell_type": "markdown",
   "id": "d9d0fb1c",
   "metadata": {},
   "source": [
    "## RandomForestClassifier"
   ]
  },
  {
   "cell_type": "code",
   "execution_count": 82,
   "id": "d060d571",
   "metadata": {
    "ExecuteTime": {
     "end_time": "2022-11-30T17:45:35.987059Z",
     "start_time": "2022-11-30T17:45:35.940863Z"
    }
   },
   "outputs": [],
   "source": [
    "from sklearn.ensemble import RandomForestClassifier"
   ]
  },
  {
   "cell_type": "code",
   "execution_count": 83,
   "id": "814c8f76",
   "metadata": {
    "ExecuteTime": {
     "end_time": "2022-11-30T17:45:36.002226Z",
     "start_time": "2022-11-30T17:45:35.988048Z"
    }
   },
   "outputs": [],
   "source": [
    "RFC = RandomForestClassifier()"
   ]
  },
  {
   "cell_type": "code",
   "execution_count": 84,
   "id": "c525d695",
   "metadata": {
    "ExecuteTime": {
     "end_time": "2022-11-30T17:45:36.330899Z",
     "start_time": "2022-11-30T17:45:36.003234Z"
    }
   },
   "outputs": [
    {
     "data": {
      "text/plain": [
       "RandomForestClassifier()"
      ]
     },
     "execution_count": 84,
     "metadata": {},
     "output_type": "execute_result"
    }
   ],
   "source": [
    "RFC.fit(X_train, y_train)"
   ]
  },
  {
   "cell_type": "code",
   "execution_count": 85,
   "id": "23d7902a",
   "metadata": {
    "ExecuteTime": {
     "end_time": "2022-11-30T17:45:36.377019Z",
     "start_time": "2022-11-30T17:45:36.331925Z"
    }
   },
   "outputs": [
    {
     "data": {
      "text/plain": [
       "0.6266603415559773"
      ]
     },
     "execution_count": 85,
     "metadata": {},
     "output_type": "execute_result"
    }
   ],
   "source": [
    "RFC.score(X_test, y_test)"
   ]
  },
  {
   "cell_type": "markdown",
   "id": "ab7af558",
   "metadata": {},
   "source": [
    "## GaussianNB "
   ]
  },
  {
   "cell_type": "code",
   "execution_count": 86,
   "id": "4b44753d",
   "metadata": {
    "ExecuteTime": {
     "end_time": "2022-11-30T17:45:36.392988Z",
     "start_time": "2022-11-30T17:45:36.377997Z"
    }
   },
   "outputs": [],
   "source": [
    "from sklearn.naive_bayes import GaussianNB"
   ]
  },
  {
   "cell_type": "code",
   "execution_count": 87,
   "id": "4eb7e48f",
   "metadata": {
    "ExecuteTime": {
     "end_time": "2022-11-30T17:45:36.409031Z",
     "start_time": "2022-11-30T17:45:36.393988Z"
    }
   },
   "outputs": [],
   "source": [
    "GNB = GaussianNB()"
   ]
  },
  {
   "cell_type": "code",
   "execution_count": 88,
   "id": "528da9d9",
   "metadata": {
    "ExecuteTime": {
     "end_time": "2022-11-30T17:45:36.424602Z",
     "start_time": "2022-11-30T17:45:36.410019Z"
    }
   },
   "outputs": [
    {
     "data": {
      "text/plain": [
       "GaussianNB()"
      ]
     },
     "execution_count": 88,
     "metadata": {},
     "output_type": "execute_result"
    }
   ],
   "source": [
    "GNB.fit(X_train, y_train)"
   ]
  },
  {
   "cell_type": "code",
   "execution_count": 89,
   "id": "c625685e",
   "metadata": {
    "ExecuteTime": {
     "end_time": "2022-11-30T17:45:36.439575Z",
     "start_time": "2022-11-30T17:45:36.425609Z"
    }
   },
   "outputs": [
    {
     "data": {
      "text/plain": [
       "0.6333017077798861"
      ]
     },
     "execution_count": 89,
     "metadata": {},
     "output_type": "execute_result"
    }
   ],
   "source": [
    "GNB.score(X_test, y_test)"
   ]
  },
  {
   "cell_type": "markdown",
   "id": "3cf5fd4e",
   "metadata": {},
   "source": [
    "## Sequential"
   ]
  },
  {
   "cell_type": "code",
   "execution_count": 90,
   "id": "25fbd0da",
   "metadata": {
    "ExecuteTime": {
     "end_time": "2022-11-30T17:45:39.312738Z",
     "start_time": "2022-11-30T17:45:36.440568Z"
    }
   },
   "outputs": [],
   "source": [
    "from tensorflow.keras.models import Sequential\n",
    "from tensorflow.keras.layers import Dense, Activation, Dropout\n",
    "from tensorflow.keras.constraints import max_norm"
   ]
  },
  {
   "cell_type": "code",
   "execution_count": 91,
   "id": "4b001886",
   "metadata": {
    "ExecuteTime": {
     "end_time": "2022-11-30T17:45:39.328157Z",
     "start_time": "2022-11-30T17:45:39.313757Z"
    }
   },
   "outputs": [
    {
     "data": {
      "text/plain": [
       "(8431, 15)"
      ]
     },
     "execution_count": 91,
     "metadata": {},
     "output_type": "execute_result"
    }
   ],
   "source": [
    "X_train.shape"
   ]
  },
  {
   "cell_type": "code",
   "execution_count": 92,
   "id": "8568ce2f",
   "metadata": {
    "ExecuteTime": {
     "end_time": "2022-11-30T17:45:39.404126Z",
     "start_time": "2022-11-30T17:45:39.329146Z"
    }
   },
   "outputs": [],
   "source": [
    "model = Sequential()\n",
    "\n",
    "model.add(Dense(6, activation='relu'))\n",
    "model.add(Dropout(0.2))\n",
    "\n",
    "model.add(Dense(6, activation='relu'))\n",
    "model.add(Dropout(0.2))\n",
    "\n",
    "model.add(Dense(1, activation='sigmoid'))\n",
    "\n",
    "model.compile(loss='binary_crossentropy', optimizer='adam')"
   ]
  },
  {
   "cell_type": "code",
   "execution_count": 93,
   "id": "f30eb4f0",
   "metadata": {
    "ExecuteTime": {
     "end_time": "2022-11-30T17:45:49.746133Z",
     "start_time": "2022-11-30T17:45:39.406015Z"
    }
   },
   "outputs": [
    {
     "name": "stdout",
     "output_type": "stream",
     "text": [
      "Epoch 1/200\n",
      "33/33 [==============================] - 1s 5ms/step - loss: 0.7287 - val_loss: 0.6846\n",
      "Epoch 2/200\n",
      "33/33 [==============================] - 0s 2ms/step - loss: 0.6888 - val_loss: 0.6671\n",
      "Epoch 3/200\n",
      "33/33 [==============================] - 0s 2ms/step - loss: 0.6701 - val_loss: 0.6592\n",
      "Epoch 4/200\n",
      "33/33 [==============================] - 0s 1ms/step - loss: 0.6610 - val_loss: 0.6543\n",
      "Epoch 5/200\n",
      "33/33 [==============================] - 0s 1ms/step - loss: 0.6519 - val_loss: 0.6505\n",
      "Epoch 6/200\n",
      "33/33 [==============================] - 0s 1ms/step - loss: 0.6474 - val_loss: 0.6477\n",
      "Epoch 7/200\n",
      "33/33 [==============================] - 0s 2ms/step - loss: 0.6406 - val_loss: 0.6438\n",
      "Epoch 8/200\n",
      "33/33 [==============================] - 0s 1ms/step - loss: 0.6331 - val_loss: 0.6392\n",
      "Epoch 9/200\n",
      "33/33 [==============================] - 0s 1ms/step - loss: 0.6301 - val_loss: 0.6335\n",
      "Epoch 10/200\n",
      "33/33 [==============================] - 0s 1ms/step - loss: 0.6259 - val_loss: 0.6297\n",
      "Epoch 11/200\n",
      "33/33 [==============================] - 0s 2ms/step - loss: 0.6241 - val_loss: 0.6264\n",
      "Epoch 12/200\n",
      "33/33 [==============================] - 0s 1ms/step - loss: 0.6188 - val_loss: 0.6233\n",
      "Epoch 13/200\n",
      "33/33 [==============================] - 0s 1ms/step - loss: 0.6145 - val_loss: 0.6214\n",
      "Epoch 14/200\n",
      "33/33 [==============================] - 0s 1ms/step - loss: 0.6143 - val_loss: 0.6198\n",
      "Epoch 15/200\n",
      "33/33 [==============================] - 0s 1ms/step - loss: 0.6156 - val_loss: 0.6195\n",
      "Epoch 16/200\n",
      "33/33 [==============================] - 0s 1ms/step - loss: 0.6125 - val_loss: 0.6187\n",
      "Epoch 17/200\n",
      "33/33 [==============================] - 0s 1ms/step - loss: 0.6096 - val_loss: 0.6184\n",
      "Epoch 18/200\n",
      "33/33 [==============================] - 0s 2ms/step - loss: 0.6131 - val_loss: 0.6176\n",
      "Epoch 19/200\n",
      "33/33 [==============================] - 0s 1ms/step - loss: 0.6084 - val_loss: 0.6174\n",
      "Epoch 20/200\n",
      "33/33 [==============================] - 0s 1ms/step - loss: 0.6123 - val_loss: 0.6172\n",
      "Epoch 21/200\n",
      "33/33 [==============================] - 0s 1ms/step - loss: 0.6093 - val_loss: 0.6167\n",
      "Epoch 22/200\n",
      "33/33 [==============================] - 0s 1ms/step - loss: 0.6087 - val_loss: 0.6167\n",
      "Epoch 23/200\n",
      "33/33 [==============================] - 0s 1ms/step - loss: 0.6074 - val_loss: 0.6170\n",
      "Epoch 24/200\n",
      "33/33 [==============================] - 0s 1ms/step - loss: 0.6072 - val_loss: 0.6160\n",
      "Epoch 25/200\n",
      "33/33 [==============================] - 0s 1ms/step - loss: 0.6060 - val_loss: 0.6158\n",
      "Epoch 26/200\n",
      "33/33 [==============================] - 0s 1ms/step - loss: 0.6086 - val_loss: 0.6159\n",
      "Epoch 27/200\n",
      "33/33 [==============================] - 0s 1ms/step - loss: 0.6061 - val_loss: 0.6159\n",
      "Epoch 28/200\n",
      "33/33 [==============================] - 0s 1ms/step - loss: 0.6088 - val_loss: 0.6165\n",
      "Epoch 29/200\n",
      "33/33 [==============================] - 0s 1ms/step - loss: 0.6091 - val_loss: 0.6160\n",
      "Epoch 30/200\n",
      "33/33 [==============================] - 0s 1ms/step - loss: 0.6079 - val_loss: 0.6159\n",
      "Epoch 31/200\n",
      "33/33 [==============================] - 0s 1ms/step - loss: 0.6085 - val_loss: 0.6162\n",
      "Epoch 32/200\n",
      "33/33 [==============================] - 0s 1ms/step - loss: 0.6062 - val_loss: 0.6163\n",
      "Epoch 33/200\n",
      "33/33 [==============================] - 0s 1ms/step - loss: 0.6049 - val_loss: 0.6160\n",
      "Epoch 34/200\n",
      "33/33 [==============================] - 0s 1ms/step - loss: 0.6071 - val_loss: 0.6159\n",
      "Epoch 35/200\n",
      "33/33 [==============================] - 0s 1ms/step - loss: 0.6053 - val_loss: 0.6157\n",
      "Epoch 36/200\n",
      "33/33 [==============================] - 0s 1ms/step - loss: 0.6067 - val_loss: 0.6156\n",
      "Epoch 37/200\n",
      "33/33 [==============================] - 0s 1ms/step - loss: 0.6055 - val_loss: 0.6157\n",
      "Epoch 38/200\n",
      "33/33 [==============================] - 0s 1ms/step - loss: 0.6071 - val_loss: 0.6153\n",
      "Epoch 39/200\n",
      "33/33 [==============================] - 0s 1ms/step - loss: 0.6021 - val_loss: 0.6151\n",
      "Epoch 40/200\n",
      "33/33 [==============================] - 0s 1ms/step - loss: 0.6076 - val_loss: 0.6154\n",
      "Epoch 41/200\n",
      "33/33 [==============================] - 0s 2ms/step - loss: 0.6038 - val_loss: 0.6152\n",
      "Epoch 42/200\n",
      "33/33 [==============================] - 0s 1ms/step - loss: 0.6038 - val_loss: 0.6153\n",
      "Epoch 43/200\n",
      "33/33 [==============================] - 0s 1ms/step - loss: 0.6064 - val_loss: 0.6152\n",
      "Epoch 44/200\n",
      "33/33 [==============================] - 0s 1ms/step - loss: 0.6071 - val_loss: 0.6152\n",
      "Epoch 45/200\n",
      "33/33 [==============================] - 0s 1ms/step - loss: 0.6051 - val_loss: 0.6154\n",
      "Epoch 46/200\n",
      "33/33 [==============================] - 0s 1ms/step - loss: 0.6030 - val_loss: 0.6153\n",
      "Epoch 47/200\n",
      "33/33 [==============================] - 0s 1ms/step - loss: 0.6052 - val_loss: 0.6153\n",
      "Epoch 48/200\n",
      "33/33 [==============================] - 0s 1ms/step - loss: 0.6040 - val_loss: 0.6151\n",
      "Epoch 49/200\n",
      "33/33 [==============================] - 0s 1ms/step - loss: 0.6012 - val_loss: 0.6149\n",
      "Epoch 50/200\n",
      "33/33 [==============================] - 0s 1ms/step - loss: 0.6044 - val_loss: 0.6147\n",
      "Epoch 51/200\n",
      "33/33 [==============================] - 0s 1ms/step - loss: 0.6031 - val_loss: 0.6150\n",
      "Epoch 52/200\n",
      "33/33 [==============================] - 0s 1ms/step - loss: 0.6007 - val_loss: 0.6150\n",
      "Epoch 53/200\n",
      "33/33 [==============================] - 0s 1ms/step - loss: 0.6032 - val_loss: 0.6149\n",
      "Epoch 54/200\n",
      "33/33 [==============================] - 0s 2ms/step - loss: 0.6050 - val_loss: 0.6146\n",
      "Epoch 55/200\n",
      "33/33 [==============================] - 0s 2ms/step - loss: 0.6034 - val_loss: 0.6149\n",
      "Epoch 56/200\n",
      "33/33 [==============================] - 0s 2ms/step - loss: 0.6019 - val_loss: 0.6148\n",
      "Epoch 57/200\n",
      "33/33 [==============================] - 0s 1ms/step - loss: 0.6043 - val_loss: 0.6143\n",
      "Epoch 58/200\n",
      "33/33 [==============================] - 0s 2ms/step - loss: 0.6025 - val_loss: 0.6144\n",
      "Epoch 59/200\n",
      "33/33 [==============================] - 0s 1ms/step - loss: 0.6015 - val_loss: 0.6146\n",
      "Epoch 60/200\n",
      "33/33 [==============================] - 0s 1ms/step - loss: 0.6017 - val_loss: 0.6147\n",
      "Epoch 61/200\n",
      "33/33 [==============================] - 0s 1ms/step - loss: 0.6018 - val_loss: 0.6143\n",
      "Epoch 62/200\n",
      "33/33 [==============================] - 0s 1ms/step - loss: 0.6024 - val_loss: 0.6149\n",
      "Epoch 63/200\n",
      "33/33 [==============================] - 0s 1ms/step - loss: 0.6024 - val_loss: 0.6144\n",
      "Epoch 64/200\n",
      "33/33 [==============================] - 0s 1ms/step - loss: 0.6037 - val_loss: 0.6153\n",
      "Epoch 65/200\n",
      "33/33 [==============================] - 0s 1ms/step - loss: 0.6020 - val_loss: 0.6147\n",
      "Epoch 66/200\n",
      "33/33 [==============================] - 0s 1ms/step - loss: 0.6005 - val_loss: 0.6149\n",
      "Epoch 67/200\n",
      "33/33 [==============================] - 0s 1ms/step - loss: 0.6016 - val_loss: 0.6144\n",
      "Epoch 68/200\n",
      "33/33 [==============================] - 0s 1ms/step - loss: 0.6021 - val_loss: 0.6145\n",
      "Epoch 69/200\n",
      "33/33 [==============================] - 0s 1ms/step - loss: 0.6022 - val_loss: 0.6142\n",
      "Epoch 70/200\n",
      "33/33 [==============================] - 0s 1ms/step - loss: 0.6034 - val_loss: 0.6146\n",
      "Epoch 71/200\n",
      "33/33 [==============================] - 0s 1ms/step - loss: 0.6008 - val_loss: 0.6142\n",
      "Epoch 72/200\n",
      "33/33 [==============================] - 0s 1ms/step - loss: 0.6016 - val_loss: 0.6142\n",
      "Epoch 73/200\n",
      "33/33 [==============================] - 0s 1ms/step - loss: 0.6005 - val_loss: 0.6140\n",
      "Epoch 74/200\n",
      "33/33 [==============================] - 0s 1ms/step - loss: 0.6017 - val_loss: 0.6138\n",
      "Epoch 75/200\n",
      "33/33 [==============================] - 0s 1ms/step - loss: 0.6013 - val_loss: 0.6139\n",
      "Epoch 76/200\n",
      "33/33 [==============================] - 0s 1ms/step - loss: 0.6017 - val_loss: 0.6134\n",
      "Epoch 77/200\n",
      "33/33 [==============================] - 0s 1ms/step - loss: 0.6014 - val_loss: 0.6137\n",
      "Epoch 78/200\n",
      "33/33 [==============================] - 0s 1ms/step - loss: 0.6016 - val_loss: 0.6140\n",
      "Epoch 79/200\n",
      "33/33 [==============================] - 0s 1ms/step - loss: 0.6024 - val_loss: 0.6141\n",
      "Epoch 80/200\n",
      "33/33 [==============================] - 0s 1ms/step - loss: 0.6009 - val_loss: 0.6145\n",
      "Epoch 81/200\n",
      "33/33 [==============================] - 0s 1ms/step - loss: 0.6007 - val_loss: 0.6136\n",
      "Epoch 82/200\n",
      "33/33 [==============================] - 0s 1ms/step - loss: 0.6037 - val_loss: 0.6138\n",
      "Epoch 83/200\n"
     ]
    },
    {
     "name": "stdout",
     "output_type": "stream",
     "text": [
      "33/33 [==============================] - 0s 1ms/step - loss: 0.5994 - val_loss: 0.6133\n",
      "Epoch 84/200\n",
      "33/33 [==============================] - 0s 1ms/step - loss: 0.5985 - val_loss: 0.6130\n",
      "Epoch 85/200\n",
      "33/33 [==============================] - 0s 1ms/step - loss: 0.6009 - val_loss: 0.6133\n",
      "Epoch 86/200\n",
      "33/33 [==============================] - 0s 1ms/step - loss: 0.5996 - val_loss: 0.6134\n",
      "Epoch 87/200\n",
      "33/33 [==============================] - 0s 1ms/step - loss: 0.5980 - val_loss: 0.6134\n",
      "Epoch 88/200\n",
      "33/33 [==============================] - 0s 1ms/step - loss: 0.6003 - val_loss: 0.6139\n",
      "Epoch 89/200\n",
      "33/33 [==============================] - 0s 1ms/step - loss: 0.5982 - val_loss: 0.6141\n",
      "Epoch 90/200\n",
      "33/33 [==============================] - 0s 1ms/step - loss: 0.6015 - val_loss: 0.6131\n",
      "Epoch 91/200\n",
      "33/33 [==============================] - 0s 1ms/step - loss: 0.5996 - val_loss: 0.6138\n",
      "Epoch 92/200\n",
      "33/33 [==============================] - 0s 1ms/step - loss: 0.5994 - val_loss: 0.6135\n",
      "Epoch 93/200\n",
      "33/33 [==============================] - 0s 1ms/step - loss: 0.5997 - val_loss: 0.6131\n",
      "Epoch 94/200\n",
      "33/33 [==============================] - 0s 1ms/step - loss: 0.5993 - val_loss: 0.6131\n",
      "Epoch 95/200\n",
      "33/33 [==============================] - 0s 1ms/step - loss: 0.5992 - val_loss: 0.6129\n",
      "Epoch 96/200\n",
      "33/33 [==============================] - 0s 1ms/step - loss: 0.5989 - val_loss: 0.6130\n",
      "Epoch 97/200\n",
      "33/33 [==============================] - 0s 1ms/step - loss: 0.5961 - val_loss: 0.6133\n",
      "Epoch 98/200\n",
      "33/33 [==============================] - 0s 1ms/step - loss: 0.5995 - val_loss: 0.6131\n",
      "Epoch 99/200\n",
      "33/33 [==============================] - 0s 1ms/step - loss: 0.6014 - val_loss: 0.6132\n",
      "Epoch 100/200\n",
      "33/33 [==============================] - 0s 1ms/step - loss: 0.5997 - val_loss: 0.6134\n",
      "Epoch 101/200\n",
      "33/33 [==============================] - 0s 1ms/step - loss: 0.6014 - val_loss: 0.6134\n",
      "Epoch 102/200\n",
      "33/33 [==============================] - 0s 1ms/step - loss: 0.5969 - val_loss: 0.6132\n",
      "Epoch 103/200\n",
      "33/33 [==============================] - 0s 1ms/step - loss: 0.5984 - val_loss: 0.6132\n",
      "Epoch 104/200\n",
      "33/33 [==============================] - 0s 1ms/step - loss: 0.5981 - val_loss: 0.6135\n",
      "Epoch 105/200\n",
      "33/33 [==============================] - 0s 1ms/step - loss: 0.5990 - val_loss: 0.6135\n",
      "Epoch 106/200\n",
      "33/33 [==============================] - 0s 1ms/step - loss: 0.5977 - val_loss: 0.6132\n",
      "Epoch 107/200\n",
      "33/33 [==============================] - 0s 1ms/step - loss: 0.5998 - val_loss: 0.6129\n",
      "Epoch 108/200\n",
      "33/33 [==============================] - 0s 1ms/step - loss: 0.5960 - val_loss: 0.6129\n",
      "Epoch 109/200\n",
      "33/33 [==============================] - 0s 1ms/step - loss: 0.5984 - val_loss: 0.6131\n",
      "Epoch 110/200\n",
      "33/33 [==============================] - 0s 1ms/step - loss: 0.6016 - val_loss: 0.6129\n",
      "Epoch 111/200\n",
      "33/33 [==============================] - 0s 1ms/step - loss: 0.5995 - val_loss: 0.6132\n",
      "Epoch 112/200\n",
      "33/33 [==============================] - 0s 1ms/step - loss: 0.5968 - val_loss: 0.6130\n",
      "Epoch 113/200\n",
      "33/33 [==============================] - 0s 1ms/step - loss: 0.5987 - val_loss: 0.6127\n",
      "Epoch 114/200\n",
      "33/33 [==============================] - 0s 1ms/step - loss: 0.5984 - val_loss: 0.6126\n",
      "Epoch 115/200\n",
      "33/33 [==============================] - 0s 1ms/step - loss: 0.5987 - val_loss: 0.6122\n",
      "Epoch 116/200\n",
      "33/33 [==============================] - 0s 1ms/step - loss: 0.5949 - val_loss: 0.6126\n",
      "Epoch 117/200\n",
      "33/33 [==============================] - 0s 1ms/step - loss: 0.5963 - val_loss: 0.6124\n",
      "Epoch 118/200\n",
      "33/33 [==============================] - 0s 1ms/step - loss: 0.5989 - val_loss: 0.6126\n",
      "Epoch 119/200\n",
      "33/33 [==============================] - 0s 1ms/step - loss: 0.6003 - val_loss: 0.6123\n",
      "Epoch 120/200\n",
      "33/33 [==============================] - 0s 1ms/step - loss: 0.5975 - val_loss: 0.6123\n",
      "Epoch 121/200\n",
      "33/33 [==============================] - 0s 1ms/step - loss: 0.6002 - val_loss: 0.6124\n",
      "Epoch 122/200\n",
      "33/33 [==============================] - 0s 1ms/step - loss: 0.5962 - val_loss: 0.6122\n",
      "Epoch 123/200\n",
      "33/33 [==============================] - 0s 1ms/step - loss: 0.5995 - val_loss: 0.6130\n",
      "Epoch 124/200\n",
      "33/33 [==============================] - 0s 1ms/step - loss: 0.5996 - val_loss: 0.6122\n",
      "Epoch 125/200\n",
      "33/33 [==============================] - 0s 1ms/step - loss: 0.5963 - val_loss: 0.6126\n",
      "Epoch 126/200\n",
      "33/33 [==============================] - 0s 1ms/step - loss: 0.5975 - val_loss: 0.6124\n",
      "Epoch 127/200\n",
      "33/33 [==============================] - 0s 2ms/step - loss: 0.5958 - val_loss: 0.6122\n",
      "Epoch 128/200\n",
      "33/33 [==============================] - 0s 1ms/step - loss: 0.5973 - val_loss: 0.6124\n",
      "Epoch 129/200\n",
      "33/33 [==============================] - 0s 1ms/step - loss: 0.5985 - val_loss: 0.6123\n",
      "Epoch 130/200\n",
      "33/33 [==============================] - 0s 1ms/step - loss: 0.5967 - val_loss: 0.6125\n",
      "Epoch 131/200\n",
      "33/33 [==============================] - 0s 1ms/step - loss: 0.5957 - val_loss: 0.6126\n",
      "Epoch 132/200\n",
      "33/33 [==============================] - 0s 1ms/step - loss: 0.5999 - val_loss: 0.6127\n",
      "Epoch 133/200\n",
      "33/33 [==============================] - 0s 1ms/step - loss: 0.5985 - val_loss: 0.6122\n",
      "Epoch 134/200\n",
      "33/33 [==============================] - 0s 2ms/step - loss: 0.5975 - val_loss: 0.6125\n",
      "Epoch 135/200\n",
      "33/33 [==============================] - 0s 2ms/step - loss: 0.5963 - val_loss: 0.6127\n",
      "Epoch 136/200\n",
      "33/33 [==============================] - 0s 2ms/step - loss: 0.5981 - val_loss: 0.6127\n",
      "Epoch 137/200\n",
      "33/33 [==============================] - 0s 2ms/step - loss: 0.5929 - val_loss: 0.6125\n",
      "Epoch 138/200\n",
      "33/33 [==============================] - 0s 1ms/step - loss: 0.5975 - val_loss: 0.6131\n",
      "Epoch 139/200\n",
      "33/33 [==============================] - 0s 1ms/step - loss: 0.5980 - val_loss: 0.6120\n",
      "Epoch 140/200\n",
      "33/33 [==============================] - 0s 1ms/step - loss: 0.5943 - val_loss: 0.6121\n",
      "Epoch 141/200\n",
      "33/33 [==============================] - 0s 2ms/step - loss: 0.5971 - val_loss: 0.6117\n",
      "Epoch 142/200\n",
      "33/33 [==============================] - 0s 1ms/step - loss: 0.5961 - val_loss: 0.6117\n",
      "Epoch 143/200\n",
      "33/33 [==============================] - 0s 1ms/step - loss: 0.5988 - val_loss: 0.6124\n",
      "Epoch 144/200\n",
      "33/33 [==============================] - 0s 2ms/step - loss: 0.5987 - val_loss: 0.6115\n",
      "Epoch 145/200\n",
      "33/33 [==============================] - 0s 2ms/step - loss: 0.5970 - val_loss: 0.6122\n",
      "Epoch 146/200\n",
      "33/33 [==============================] - 0s 1ms/step - loss: 0.5980 - val_loss: 0.6122\n",
      "Epoch 147/200\n",
      "33/33 [==============================] - 0s 1ms/step - loss: 0.5966 - val_loss: 0.6123\n",
      "Epoch 148/200\n",
      "33/33 [==============================] - 0s 1ms/step - loss: 0.5957 - val_loss: 0.6123\n",
      "Epoch 149/200\n",
      "33/33 [==============================] - 0s 1ms/step - loss: 0.5944 - val_loss: 0.6121\n",
      "Epoch 150/200\n",
      "33/33 [==============================] - 0s 1ms/step - loss: 0.5966 - val_loss: 0.6123\n",
      "Epoch 151/200\n",
      "33/33 [==============================] - 0s 1ms/step - loss: 0.5999 - val_loss: 0.6122\n",
      "Epoch 152/200\n",
      "33/33 [==============================] - 0s 1ms/step - loss: 0.5998 - val_loss: 0.6130\n",
      "Epoch 153/200\n",
      "33/33 [==============================] - 0s 1ms/step - loss: 0.5936 - val_loss: 0.6128\n",
      "Epoch 154/200\n",
      "33/33 [==============================] - 0s 1ms/step - loss: 0.5981 - val_loss: 0.6125\n",
      "Epoch 155/200\n",
      "33/33 [==============================] - 0s 1ms/step - loss: 0.5974 - val_loss: 0.6116\n",
      "Epoch 156/200\n",
      "33/33 [==============================] - 0s 1ms/step - loss: 0.5981 - val_loss: 0.6120\n",
      "Epoch 157/200\n",
      "33/33 [==============================] - 0s 1ms/step - loss: 0.5957 - val_loss: 0.6125\n",
      "Epoch 158/200\n",
      "33/33 [==============================] - 0s 1ms/step - loss: 0.5986 - val_loss: 0.6116\n",
      "Epoch 159/200\n",
      "33/33 [==============================] - 0s 1ms/step - loss: 0.5966 - val_loss: 0.6123\n",
      "Epoch 160/200\n",
      "33/33 [==============================] - 0s 1ms/step - loss: 0.5944 - val_loss: 0.6122\n",
      "Epoch 161/200\n",
      "33/33 [==============================] - 0s 1ms/step - loss: 0.5969 - val_loss: 0.6121\n",
      "Epoch 162/200\n",
      "33/33 [==============================] - 0s 1ms/step - loss: 0.5980 - val_loss: 0.6117\n",
      "Epoch 163/200\n",
      "33/33 [==============================] - 0s 1ms/step - loss: 0.5972 - val_loss: 0.6120\n",
      "Epoch 164/200\n"
     ]
    },
    {
     "name": "stdout",
     "output_type": "stream",
     "text": [
      "33/33 [==============================] - 0s 1ms/step - loss: 0.5950 - val_loss: 0.6119\n",
      "Epoch 165/200\n",
      "33/33 [==============================] - 0s 1ms/step - loss: 0.5950 - val_loss: 0.6120\n",
      "Epoch 166/200\n",
      "33/33 [==============================] - 0s 1ms/step - loss: 0.5953 - val_loss: 0.6118\n",
      "Epoch 167/200\n",
      "33/33 [==============================] - 0s 1ms/step - loss: 0.5966 - val_loss: 0.6120\n",
      "Epoch 168/200\n",
      "33/33 [==============================] - 0s 1ms/step - loss: 0.5944 - val_loss: 0.6123\n",
      "Epoch 169/200\n",
      "33/33 [==============================] - 0s 1ms/step - loss: 0.5970 - val_loss: 0.6119\n",
      "Epoch 170/200\n",
      "33/33 [==============================] - 0s 1ms/step - loss: 0.5982 - val_loss: 0.6121\n",
      "Epoch 171/200\n",
      "33/33 [==============================] - 0s 1ms/step - loss: 0.5974 - val_loss: 0.6120\n",
      "Epoch 172/200\n",
      "33/33 [==============================] - 0s 1ms/step - loss: 0.5962 - val_loss: 0.6125\n",
      "Epoch 173/200\n",
      "33/33 [==============================] - 0s 1ms/step - loss: 0.5976 - val_loss: 0.6117\n",
      "Epoch 174/200\n",
      "33/33 [==============================] - 0s 1ms/step - loss: 0.5969 - val_loss: 0.6117\n",
      "Epoch 175/200\n",
      "33/33 [==============================] - 0s 1ms/step - loss: 0.5962 - val_loss: 0.6115\n",
      "Epoch 176/200\n",
      "33/33 [==============================] - 0s 1ms/step - loss: 0.5950 - val_loss: 0.6120\n",
      "Epoch 177/200\n",
      "33/33 [==============================] - 0s 1ms/step - loss: 0.5969 - val_loss: 0.6117\n",
      "Epoch 178/200\n",
      "33/33 [==============================] - 0s 1ms/step - loss: 0.5958 - val_loss: 0.6116\n",
      "Epoch 179/200\n",
      "33/33 [==============================] - 0s 1ms/step - loss: 0.5956 - val_loss: 0.6124\n",
      "Epoch 180/200\n",
      "33/33 [==============================] - 0s 1ms/step - loss: 0.5989 - val_loss: 0.6119\n",
      "Epoch 181/200\n",
      "33/33 [==============================] - 0s 1ms/step - loss: 0.5976 - val_loss: 0.6114\n",
      "Epoch 182/200\n",
      "33/33 [==============================] - 0s 1ms/step - loss: 0.5947 - val_loss: 0.6118\n",
      "Epoch 183/200\n",
      "33/33 [==============================] - 0s 1ms/step - loss: 0.5965 - val_loss: 0.6117\n",
      "Epoch 184/200\n",
      "33/33 [==============================] - 0s 1ms/step - loss: 0.5966 - val_loss: 0.6117\n",
      "Epoch 185/200\n",
      "33/33 [==============================] - 0s 1ms/step - loss: 0.5971 - val_loss: 0.6118\n",
      "Epoch 186/200\n",
      "33/33 [==============================] - 0s 1ms/step - loss: 0.5969 - val_loss: 0.6118\n",
      "Epoch 187/200\n",
      "33/33 [==============================] - 0s 1ms/step - loss: 0.5971 - val_loss: 0.6115\n",
      "Epoch 188/200\n",
      "33/33 [==============================] - 0s 1ms/step - loss: 0.5944 - val_loss: 0.6117\n",
      "Epoch 189/200\n",
      "33/33 [==============================] - 0s 1ms/step - loss: 0.5972 - val_loss: 0.6116\n",
      "Epoch 190/200\n",
      "33/33 [==============================] - 0s 1ms/step - loss: 0.5970 - val_loss: 0.6116\n",
      "Epoch 191/200\n",
      "33/33 [==============================] - 0s 1ms/step - loss: 0.5960 - val_loss: 0.6114\n",
      "Epoch 192/200\n",
      "33/33 [==============================] - 0s 1ms/step - loss: 0.5967 - val_loss: 0.6113\n",
      "Epoch 193/200\n",
      "33/33 [==============================] - 0s 1ms/step - loss: 0.5943 - val_loss: 0.6115\n",
      "Epoch 194/200\n",
      "33/33 [==============================] - 0s 1ms/step - loss: 0.5983 - val_loss: 0.6115\n",
      "Epoch 195/200\n",
      "33/33 [==============================] - 0s 1ms/step - loss: 0.5980 - val_loss: 0.6110\n",
      "Epoch 196/200\n",
      "33/33 [==============================] - 0s 1ms/step - loss: 0.5959 - val_loss: 0.6109\n",
      "Epoch 197/200\n",
      "33/33 [==============================] - 0s 1ms/step - loss: 0.5942 - val_loss: 0.6117\n",
      "Epoch 198/200\n",
      "33/33 [==============================] - 0s 1ms/step - loss: 0.5947 - val_loss: 0.6116\n",
      "Epoch 199/200\n",
      "33/33 [==============================] - 0s 1ms/step - loss: 0.5985 - val_loss: 0.6116\n",
      "Epoch 200/200\n",
      "33/33 [==============================] - 0s 1ms/step - loss: 0.5959 - val_loss: 0.6118\n"
     ]
    },
    {
     "data": {
      "text/plain": [
       "<keras.callbacks.History at 0x1504c5ef970>"
      ]
     },
     "execution_count": 93,
     "metadata": {},
     "output_type": "execute_result"
    }
   ],
   "source": [
    "model.fit(x=X_train,\n",
    "          y=y_train,\n",
    "          epochs=200,\n",
    "          batch_size=256,\n",
    "          validation_data=(X_test, y_test))"
   ]
  },
  {
   "cell_type": "code",
   "execution_count": 94,
   "id": "81975449",
   "metadata": {
    "ExecuteTime": {
     "end_time": "2022-11-30T17:45:49.761423Z",
     "start_time": "2022-11-30T17:45:49.747121Z"
    }
   },
   "outputs": [],
   "source": [
    "losses = pd.DataFrame(model.history.history)"
   ]
  },
  {
   "cell_type": "code",
   "execution_count": 95,
   "id": "b1b1ca1e",
   "metadata": {
    "ExecuteTime": {
     "end_time": "2022-11-30T17:45:49.855321Z",
     "start_time": "2022-11-30T17:45:49.762413Z"
    },
    "scrolled": true
   },
   "outputs": [
    {
     "data": {
      "text/plain": [
       "<AxesSubplot:>"
      ]
     },
     "execution_count": 95,
     "metadata": {},
     "output_type": "execute_result"
    },
    {
     "data": {
      "image/png": "[encoded data removed]",
      "text/plain": [
       "<Figure size 432x288 with 1 Axes>"
      ]
     },
     "metadata": {
      "needs_background": "light"
     },
     "output_type": "display_data"
    }
   ],
   "source": [
    "losses[['loss', 'val_loss']].plot()"
   ]
  },
  {
   "cell_type": "markdown",
   "id": "cc0456ff",
   "metadata": {},
   "source": [
    "# Odds ratio"
   ]
  },
  {
   "cell_type": "code",
   "execution_count": 96,
   "id": "435d8231",
   "metadata": {
    "ExecuteTime": {
     "end_time": "2022-11-30T17:45:49.870711Z",
     "start_time": "2022-11-30T17:45:49.856337Z"
    }
   },
   "outputs": [
    {
     "data": {
      "text/plain": [
       "White                                   4545\n",
       "Black                                   2645\n",
       "Hispanic                                1858\n",
       "Other                                   1140\n",
       "Asian                                    147\n",
       "Native American                          144\n",
       "Native Hawaiian and Pacific Islander      60\n",
       "Name: race, dtype: int64"
      ]
     },
     "execution_count": 96,
     "metadata": {},
     "output_type": "execute_result"
    }
   ],
   "source": [
    "new_df['race'].value_counts()"
   ]
  },
  {
   "cell_type": "code",
   "execution_count": 97,
   "id": "899e69e5",
   "metadata": {
    "ExecuteTime": {
     "end_time": "2022-11-30T17:45:49.886701Z",
     "start_time": "2022-11-30T17:45:49.871742Z"
    }
   },
   "outputs": [
    {
     "name": "stdout",
     "output_type": "stream",
     "text": [
      "4545\n",
      "2645\n",
      "1858\n",
      "1987\n",
      "765\n",
      "586\n",
      "0.43718371837183717\n",
      "0.2892249527410208\n",
      "0.3153928955866523\n"
     ]
    }
   ],
   "source": [
    "A1 = (new_df['race'] == 'White').sum()\n",
    "B1 = (new_df['race'] == 'Black').sum()\n",
    "C1 = (new_df['race'] == 'Hispanic').sum()\n",
    "print(A1)\n",
    "print(B1)\n",
    "print(C1)\n",
    "A2 = new_df[(new_df['race'] == 'White')\n",
    "            & (new_df['signs_of_mental_illness'] == 1)]['age'].count()\n",
    "print(A2)\n",
    "B2 = new_df[(new_df['race'] == 'Black')\n",
    "            & (new_df['signs_of_mental_illness'] == 1)]['age'].count()\n",
    "print(B2)\n",
    "C2 = new_df[(new_df['race'] == 'Hispanic')\n",
    "            & (new_df['signs_of_mental_illness'] == 1)]['age'].count()\n",
    "print(C2)\n",
    "D1 = A2 / A1\n",
    "D2 = B2 / B1\n",
    "D3 = C2 / C1\n",
    "print(D1)\n",
    "print(D2)\n",
    "print(D3)"
   ]
  },
  {
   "cell_type": "code",
   "execution_count": 98,
   "id": "8d7c8647",
   "metadata": {
    "ExecuteTime": {
     "end_time": "2022-11-30T17:45:49.902648Z",
     "start_time": "2022-11-30T17:45:49.887690Z"
    }
   },
   "outputs": [
    {
     "name": "stdout",
     "output_type": "stream",
     "text": [
      "4161\n",
      "2296\n",
      "1657\n",
      "0.9155115511551155\n",
      "0.8680529300567108\n",
      "0.8918191603875134\n"
     ]
    }
   ],
   "source": [
    "A3 = new_df[(new_df['race'] == 'White')\n",
    "            & (new_df['wapo_armed'] == 1)]['age'].count()\n",
    "print(A3)\n",
    "B3 = new_df[(new_df['race'] == 'Black')\n",
    "            & (new_df['wapo_armed'] == 1)]['age'].count()\n",
    "print(B3)\n",
    "C3 = new_df[(new_df['race'] == 'Hispanic')\n",
    "            & (new_df['wapo_armed'] == 1)]['age'].count()\n",
    "print(C3)\n",
    "E1 = A3 / A1\n",
    "E2 = B3 / B1\n",
    "E3 = C3 / C1\n",
    "print(E1)\n",
    "print(E2)\n",
    "print(E3)"
   ]
  },
  {
   "cell_type": "code",
   "execution_count": 99,
   "id": "b66a621b",
   "metadata": {
    "ExecuteTime": {
     "end_time": "2022-11-30T17:45:49.918585Z",
     "start_time": "2022-11-30T17:45:49.903636Z"
    }
   },
   "outputs": [
    {
     "name": "stdout",
     "output_type": "stream",
     "text": [
      "2353\n",
      "1559\n",
      "1045\n",
      "0.5177117711771178\n",
      "0.589413988657845\n",
      "0.56243272335845\n"
     ]
    }
   ],
   "source": [
    "A4 = new_df[(new_df['race'] == 'White')\n",
    "            & (new_df['wapo_flee'] == 1)]['age'].count()\n",
    "print(A4)\n",
    "B4 = new_df[(new_df['race'] == 'Black')\n",
    "            & (new_df['wapo_flee'] == 1)]['age'].count()\n",
    "print(B4)\n",
    "C4 = new_df[(new_df['race'] == 'Hispanic')\n",
    "            & (new_df['wapo_flee'] == 1)]['age'].count()\n",
    "print(C4)\n",
    "F1 = A4 / A1\n",
    "F2 = B4 / B1\n",
    "F3 = C4 / C1\n",
    "print(F1)\n",
    "print(F2)\n",
    "print(F3)"
   ]
  }
 ],
 "metadata": {
  "kernelspec": {
   "display_name": "Python 3 (ipykernel)",
   "language": "python",
   "name": "python3"
  },
  "language_info": {
   "codemirror_mode": {
    "name": "ipython",
    "version": 3
   },
   "file_extension": ".py",
   "mimetype": "text/x-python",
   "name": "python",
   "nbconvert_exporter": "python",
   "pygments_lexer": "ipython3",
   "version": "3.9.12"
  },
  "toc": {
   "base_numbering": 1,
   "nav_menu": {},
   "number_sections": true,
   "sideBar": true,
   "skip_h1_title": false,
   "title_cell": "Table of Contents",
   "title_sidebar": "Contents",
   "toc_cell": false,
   "toc_position": {
    "height": "calc(100% - 180px)",
    "left": "10px",
    "top": "150px",
    "width": "320px"
   },
   "toc_section_display": true,
   "toc_window_display": true
  },
  "varInspector": {
   "cols": {
    "lenName": 16,
    "lenType": 16,
    "lenVar": 40
   },
   "kernels_config": {
    "python": {
     "delete_cmd_postfix": "",
     "delete_cmd_prefix": "del ",
     "library": "var_list.py",
     "varRefreshCmd": "print(var_dic_list())"
    },
    "r": {
     "delete_cmd_postfix": ") ",
     "delete_cmd_prefix": "rm(",
     "library": "var_list.r",
     "varRefreshCmd": "cat(var_dic_list()) "
    }
   },
   "position": {
    "height": "414.844px",
    "left": "1230px",
    "right": "20px",
    "top": "120px",
    "width": "350px"
   },
   "types_to_exclude": [
    "module",
    "function",
    "builtin_function_or_method",
    "instance",
    "_Feature"
   ],
   "window_display": false
  },
  "vp": {
   "vp_config_version": "1.0.0",
   "vp_menu_width": 273,
   "vp_note_display": false,
   "vp_note_width": 0,
   "vp_position": {
    "width": 278
   },
   "vp_section_display": false,
   "vp_signature": "VisualPython"
  }
 },
 "nbformat": 4,
 "nbformat_minor": 5
}
